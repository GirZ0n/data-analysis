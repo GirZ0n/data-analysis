{
  "cells":[
    {
      "cell_type":"code",
      "source":[
        "import pandas as pd\n",
        "import plotly.express as px\n",
        "import plotly.graph_objects as go\n",
        "from scipy import stats\n",
        "import numpy as np\n",
        "import statsmodels.api as sm"
      ],
      "execution_count":35,
      "outputs":[
        
      ],
      "metadata":{
        
      }
    },
    {
      "cell_type":"code",
      "source":[
        "def check_p_value(p_value: float, alphas = (0.1, 0.05, 0.01)):\n",
        "    print(f'p-value = {p_value}')\n",
        "\n",
        "    for alpha in alphas:\n",
        "        if p_value < alpha:\n",
        "            print(f'p-value < {alpha = } => Гипотеза отвергнута.')\n",
        "        else:\n",
        "            print(f'p-value > {alpha = } => Гипотеза не отвергнута.')"
      ],
      "execution_count":36,
      "outputs":[
        
      ],
      "metadata":{
        
      }
    },
    {
      "cell_type":"markdown",
      "source":[
        "# Гипотеза о нормальности распределения"
      ],
      "attachments":{
        
      },
      "metadata":{
        
      }
    },
    {
      "cell_type":"code",
      "source":[
        "## https:\/\/www.kaggle.com\/spscientist\/students-performance-in-exams\n",
        "students = pd.read_csv('StudentsPerformance.csv')\n",
        "students"
      ],
      "execution_count":37,
      "outputs":[
        {
          "data":{
            "text\/html":[
              "<div>\n",
              "<style scoped>\n",
              "    .dataframe tbody tr th:only-of-type {\n",
              "        vertical-align: middle;\n",
              "    }\n",
              "\n",
              "    .dataframe tbody tr th {\n",
              "        vertical-align: top;\n",
              "    }\n",
              "\n",
              "    .dataframe thead th {\n",
              "        text-align: right;\n",
              "    }\n",
              "<\/style>\n",
              "<table border=\"1\" class=\"dataframe\">\n",
              "  <thead>\n",
              "    <tr style=\"text-align: right;\">\n",
              "      <th><\/th>\n",
              "      <th>gender<\/th>\n",
              "      <th>race\/ethnicity<\/th>\n",
              "      <th>parental level of education<\/th>\n",
              "      <th>lunch<\/th>\n",
              "      <th>test preparation course<\/th>\n",
              "      <th>math score<\/th>\n",
              "      <th>reading score<\/th>\n",
              "      <th>writing score<\/th>\n",
              "    <\/tr>\n",
              "  <\/thead>\n",
              "  <tbody>\n",
              "    <tr>\n",
              "      <th>0<\/th>\n",
              "      <td>female<\/td>\n",
              "      <td>group B<\/td>\n",
              "      <td>bachelor's degree<\/td>\n",
              "      <td>standard<\/td>\n",
              "      <td>none<\/td>\n",
              "      <td>72<\/td>\n",
              "      <td>72<\/td>\n",
              "      <td>74<\/td>\n",
              "    <\/tr>\n",
              "    <tr>\n",
              "      <th>1<\/th>\n",
              "      <td>female<\/td>\n",
              "      <td>group C<\/td>\n",
              "      <td>some college<\/td>\n",
              "      <td>standard<\/td>\n",
              "      <td>completed<\/td>\n",
              "      <td>69<\/td>\n",
              "      <td>90<\/td>\n",
              "      <td>88<\/td>\n",
              "    <\/tr>\n",
              "    <tr>\n",
              "      <th>2<\/th>\n",
              "      <td>female<\/td>\n",
              "      <td>group B<\/td>\n",
              "      <td>master's degree<\/td>\n",
              "      <td>standard<\/td>\n",
              "      <td>none<\/td>\n",
              "      <td>90<\/td>\n",
              "      <td>95<\/td>\n",
              "      <td>93<\/td>\n",
              "    <\/tr>\n",
              "    <tr>\n",
              "      <th>3<\/th>\n",
              "      <td>male<\/td>\n",
              "      <td>group A<\/td>\n",
              "      <td>associate's degree<\/td>\n",
              "      <td>free\/reduced<\/td>\n",
              "      <td>none<\/td>\n",
              "      <td>47<\/td>\n",
              "      <td>57<\/td>\n",
              "      <td>44<\/td>\n",
              "    <\/tr>\n",
              "    <tr>\n",
              "      <th>4<\/th>\n",
              "      <td>male<\/td>\n",
              "      <td>group C<\/td>\n",
              "      <td>some college<\/td>\n",
              "      <td>standard<\/td>\n",
              "      <td>none<\/td>\n",
              "      <td>76<\/td>\n",
              "      <td>78<\/td>\n",
              "      <td>75<\/td>\n",
              "    <\/tr>\n",
              "    <tr>\n",
              "      <th>...<\/th>\n",
              "      <td>...<\/td>\n",
              "      <td>...<\/td>\n",
              "      <td>...<\/td>\n",
              "      <td>...<\/td>\n",
              "      <td>...<\/td>\n",
              "      <td>...<\/td>\n",
              "      <td>...<\/td>\n",
              "      <td>...<\/td>\n",
              "    <\/tr>\n",
              "    <tr>\n",
              "      <th>995<\/th>\n",
              "      <td>female<\/td>\n",
              "      <td>group E<\/td>\n",
              "      <td>master's degree<\/td>\n",
              "      <td>standard<\/td>\n",
              "      <td>completed<\/td>\n",
              "      <td>88<\/td>\n",
              "      <td>99<\/td>\n",
              "      <td>95<\/td>\n",
              "    <\/tr>\n",
              "    <tr>\n",
              "      <th>996<\/th>\n",
              "      <td>male<\/td>\n",
              "      <td>group C<\/td>\n",
              "      <td>high school<\/td>\n",
              "      <td>free\/reduced<\/td>\n",
              "      <td>none<\/td>\n",
              "      <td>62<\/td>\n",
              "      <td>55<\/td>\n",
              "      <td>55<\/td>\n",
              "    <\/tr>\n",
              "    <tr>\n",
              "      <th>997<\/th>\n",
              "      <td>female<\/td>\n",
              "      <td>group C<\/td>\n",
              "      <td>high school<\/td>\n",
              "      <td>free\/reduced<\/td>\n",
              "      <td>completed<\/td>\n",
              "      <td>59<\/td>\n",
              "      <td>71<\/td>\n",
              "      <td>65<\/td>\n",
              "    <\/tr>\n",
              "    <tr>\n",
              "      <th>998<\/th>\n",
              "      <td>female<\/td>\n",
              "      <td>group D<\/td>\n",
              "      <td>some college<\/td>\n",
              "      <td>standard<\/td>\n",
              "      <td>completed<\/td>\n",
              "      <td>68<\/td>\n",
              "      <td>78<\/td>\n",
              "      <td>77<\/td>\n",
              "    <\/tr>\n",
              "    <tr>\n",
              "      <th>999<\/th>\n",
              "      <td>female<\/td>\n",
              "      <td>group D<\/td>\n",
              "      <td>some college<\/td>\n",
              "      <td>free\/reduced<\/td>\n",
              "      <td>none<\/td>\n",
              "      <td>77<\/td>\n",
              "      <td>86<\/td>\n",
              "      <td>86<\/td>\n",
              "    <\/tr>\n",
              "  <\/tbody>\n",
              "<\/table>\n",
              "<p>1000 rows × 8 columns<\/p>\n",
              "<\/div>"
            ]
          },
          "metadata":{
            
          },
          "output_type":"display_data"
        }
      ],
      "metadata":{
        
      }
    },
    {
      "cell_type":"code",
      "source":[
        "fig = go.Figure()\n",
        "fig.add_histogram(x=students['math score'], name='Математика')\n",
        "fig.add_histogram(x=students['reading score'], name='Чтение')\n",
        "fig.add_histogram(x=students['writing score'], name='Письмо')\n",
        "fig.update_layout(barmode='overlay', xaxis_title='Оценка', yaxis_title='Количество учеников',\n",
        "                  legend_title_text='Предмет', title='Распределение оценок по предмету')\n",
        "fig.update_traces(opacity=0.8)\n",
        "fig"
      ],
      "execution_count":38,
      "outputs":[
        {
          "data":{
            "text\/plain":[
              "Unsupported"
            ]
          },
          "metadata":{
            
          },
          "output_type":"display_data"
        }
      ],
      "metadata":{
        
      }
    },
    {
      "cell_type":"markdown",
      "source":[
        "Рассмотрим каждое из распределений\n",
        "\n",
        "**Математика**. Распределение оценок по математике имеет колоколообразную форму. Распределение симметрично, однако присутствуют выбросы (оценки $<20$).\n",
        "\n",
        "**Чтение**. Распределение оценок по чтению в целом имеет колоколообразную форму, однако есть падение в районе оценко от 68 до 71. Вероятнее всего данное падения связано с недостотаточным количеством данных. Распределение симметрично, однако присутствуют выбросы (оценки $<20$, и кажется, что оценка 100 также является выбросом).\n",
        "\n",
        "**Письмо**. Распределение оценок по письму имеет колоколообразную форму. Распределение симметрично, однако присутствуют выбросы (оценки $<25$, и кажется, что оценка 100 также является выбросом)."
      ],
      "attachments":{
        
      },
      "metadata":{
        
      }
    },
    {
      "cell_type":"markdown",
      "source":[
        "## Гипотеза о нормальности распределения оценок по математике"
      ],
      "attachments":{
        
      },
      "metadata":{
        
      }
    },
    {
      "cell_type":"code",
      "source":[
        "_, p_value = stats.shapiro(students['math score'].loc[students['math score'] > 20])\n",
        "check_p_value(p_value)"
      ],
      "execution_count":39,
      "outputs":[
        {
          "name":"stdout",
          "text":[
            "p-value = 0.01054670661687851\n",
            "p-value < alpha = 0.1 => Гипотеза отвергнута.\n",
            "p-value < alpha = 0.05 => Гипотеза отвергнута.\n",
            "p-value > alpha = 0.01 => Гипотеза не отвергнута.\n"
          ],
          "output_type":"stream"
        }
      ],
      "metadata":{
        
      }
    },
    {
      "cell_type":"markdown",
      "source":[
        "**Вывод**: распределение не является нормальным"
      ],
      "attachments":{
        
      },
      "metadata":{
        
      }
    },
    {
      "cell_type":"code",
      "source":[
        "_, p_value = sm.stats.lilliefors(students['math score'].loc[students['math score'] > 20])\n",
        "check_p_value(p_value)"
      ],
      "execution_count":40,
      "outputs":[
        {
          "name":"stdout",
          "text":[
            "p-value = 0.2355830259708922\n",
            "p-value > alpha = 0.1 => Гипотеза не отвергнута.\n",
            "p-value > alpha = 0.05 => Гипотеза не отвергнута.\n",
            "p-value > alpha = 0.01 => Гипотеза не отвергнута.\n"
          ],
          "output_type":"stream"
        }
      ],
      "metadata":{
        
      }
    },
    {
      "cell_type":"markdown",
      "source":[
        "## Гипотеза о нормальности распределения оценок по чтению"
      ],
      "attachments":{
        
      },
      "metadata":{
        
      }
    },
    {
      "cell_type":"code",
      "source":[
        "_, p_value = stats.shapiro(students['reading score'].loc[students['reading score'] > 20])\n",
        "check_p_value(p_value)"
      ],
      "execution_count":41,
      "outputs":[
        {
          "name":"stdout",
          "text":[
            "p-value = 0.00018900509166996926\n",
            "p-value < alpha = 0.1 => Гипотеза отвергнута.\n",
            "p-value < alpha = 0.05 => Гипотеза отвергнута.\n",
            "p-value < alpha = 0.01 => Гипотеза отвергнута.\n"
          ],
          "output_type":"stream"
        }
      ],
      "metadata":{
        
      }
    },
    {
      "cell_type":"markdown",
      "source":[
        "**Вывод**: распределение не является нормальным"
      ],
      "attachments":{
        
      },
      "metadata":{
        
      }
    },
    {
      "cell_type":"code",
      "source":[
        "_, p_value = stats.shapiro(students['reading score'].loc[(students['reading score'] > 20) & (students['reading score'] != 100)])\n",
        "check_p_value(p_value)"
      ],
      "execution_count":42,
      "outputs":[
        {
          "name":"stdout",
          "text":[
            "p-value = 2.3861343834141735e-06\n",
            "p-value < alpha = 0.1 => Гипотеза отвергнута.\n",
            "p-value < alpha = 0.05 => Гипотеза отвергнута.\n",
            "p-value < alpha = 0.01 => Гипотеза отвергнута.\n"
          ],
          "output_type":"stream"
        }
      ],
      "metadata":{
        
      }
    },
    {
      "cell_type":"markdown",
      "source":[
        "**Вывод**: распределение не является нормальным"
      ],
      "attachments":{
        
      },
      "metadata":{
        
      }
    },
    {
      "cell_type":"code",
      "source":[
        "_, p_value = sm.stats.lilliefors(students['reading score'].loc[students['reading score'] > 20])\n",
        "check_p_value(p_value)"
      ],
      "execution_count":43,
      "outputs":[
        {
          "name":"stdout",
          "text":[
            "p-value = 0.0009999999999998899\n",
            "p-value < alpha = 0.1 => Гипотеза отвергнута.\n",
            "p-value < alpha = 0.05 => Гипотеза отвергнута.\n",
            "p-value < alpha = 0.01 => Гипотеза отвергнута.\n"
          ],
          "output_type":"stream"
        }
      ],
      "metadata":{
        
      }
    },
    {
      "cell_type":"markdown",
      "source":[
        "## Гипотеза о нормальности распределения оценок по письму"
      ],
      "attachments":{
        
      },
      "metadata":{
        
      }
    },
    {
      "cell_type":"code",
      "source":[
        "_, p_value = stats.shapiro(students['writing score'].loc[students['writing score'] > 25])\n",
        "check_p_value(p_value)"
      ],
      "execution_count":44,
      "outputs":[
        {
          "name":"stdout",
          "text":[
            "p-value = 0.00013689314073417336\n",
            "p-value < alpha = 0.1 => Гипотеза отвергнута.\n",
            "p-value < alpha = 0.05 => Гипотеза отвергнута.\n",
            "p-value < alpha = 0.01 => Гипотеза отвергнута.\n"
          ],
          "output_type":"stream"
        }
      ],
      "metadata":{
        
      }
    },
    {
      "cell_type":"markdown",
      "source":[
        "**Вывод**: распределение не является нормальным"
      ],
      "attachments":{
        
      },
      "metadata":{
        
      }
    },
    {
      "cell_type":"code",
      "source":[
        "_, p_value = stats.shapiro(students['writing score'].loc[(students['writing score'] > 25) & (students['writing score'] != 100)])\n",
        "check_p_value(p_value)"
      ],
      "execution_count":45,
      "outputs":[
        {
          "name":"stdout",
          "text":[
            "p-value = 6.54699033475481e-06\n",
            "p-value < alpha = 0.1 => Гипотеза отвергнута.\n",
            "p-value < alpha = 0.05 => Гипотеза отвергнута.\n",
            "p-value < alpha = 0.01 => Гипотеза отвергнута.\n"
          ],
          "output_type":"stream"
        }
      ],
      "metadata":{
        
      }
    },
    {
      "cell_type":"markdown",
      "source":[
        "**Вывод**: распределение не является нормальным"
      ],
      "attachments":{
        
      },
      "metadata":{
        
      }
    },
    {
      "cell_type":"code",
      "source":[
        "_, p_value = sm.stats.lilliefors(students['writing score'].loc[students['writing score'] > 25])\n",
        "check_p_value(p_value)"
      ],
      "execution_count":46,
      "outputs":[
        {
          "name":"stdout",
          "text":[
            "p-value = 0.0017628264614738944\n",
            "p-value < alpha = 0.1 => Гипотеза отвергнута.\n",
            "p-value < alpha = 0.05 => Гипотеза отвергнута.\n",
            "p-value < alpha = 0.01 => Гипотеза отвергнута.\n"
          ],
          "output_type":"stream"
        }
      ],
      "metadata":{
        
      }
    },
    {
      "cell_type":"markdown",
      "source":[
        "# Сравнение центров распределения"
      ],
      "attachments":{
        
      },
      "metadata":{
        
      }
    },
    {
      "cell_type":"code",
      "source":[
        "# https:\/\/www.kaggle.com\/ericpierce\/austinhousingprices\n",
        "housing = pd.read_csv('austinHousingData.csv')\n",
        "housing"
      ],
      "execution_count":47,
      "outputs":[
        {
          "data":{
            "text\/html":[
              "<div>\n",
              "<style scoped>\n",
              "    .dataframe tbody tr th:only-of-type {\n",
              "        vertical-align: middle;\n",
              "    }\n",
              "\n",
              "    .dataframe tbody tr th {\n",
              "        vertical-align: top;\n",
              "    }\n",
              "\n",
              "    .dataframe thead th {\n",
              "        text-align: right;\n",
              "    }\n",
              "<\/style>\n",
              "<table border=\"1\" class=\"dataframe\">\n",
              "  <thead>\n",
              "    <tr style=\"text-align: right;\">\n",
              "      <th><\/th>\n",
              "      <th>zpid<\/th>\n",
              "      <th>city<\/th>\n",
              "      <th>streetAddress<\/th>\n",
              "      <th>zipcode<\/th>\n",
              "      <th>description<\/th>\n",
              "      <th>latitude<\/th>\n",
              "      <th>longitude<\/th>\n",
              "      <th>propertyTaxRate<\/th>\n",
              "      <th>garageSpaces<\/th>\n",
              "      <th>hasAssociation<\/th>\n",
              "      <th>...<\/th>\n",
              "      <th>numOfMiddleSchools<\/th>\n",
              "      <th>numOfHighSchools<\/th>\n",
              "      <th>avgSchoolDistance<\/th>\n",
              "      <th>avgSchoolRating<\/th>\n",
              "      <th>avgSchoolSize<\/th>\n",
              "      <th>MedianStudentsPerTeacher<\/th>\n",
              "      <th>numOfBathrooms<\/th>\n",
              "      <th>numOfBedrooms<\/th>\n",
              "      <th>numOfStories<\/th>\n",
              "      <th>homeImage<\/th>\n",
              "    <\/tr>\n",
              "  <\/thead>\n",
              "  <tbody>\n",
              "    <tr>\n",
              "      <th>0<\/th>\n",
              "      <td>111373431<\/td>\n",
              "      <td>pflugerville<\/td>\n",
              "      <td>14424 Lake Victor Dr<\/td>\n",
              "      <td>78660<\/td>\n",
              "      <td>14424 Lake Victor Dr, Pflugerville, TX 78660 i...<\/td>\n",
              "      <td>30.430632<\/td>\n",
              "      <td>-97.663078<\/td>\n",
              "      <td>1.98<\/td>\n",
              "      <td>2<\/td>\n",
              "      <td>True<\/td>\n",
              "      <td>...<\/td>\n",
              "      <td>1<\/td>\n",
              "      <td>1<\/td>\n",
              "      <td>1.266667<\/td>\n",
              "      <td>2.666667<\/td>\n",
              "      <td>1063<\/td>\n",
              "      <td>14<\/td>\n",
              "      <td>3.0<\/td>\n",
              "      <td>4<\/td>\n",
              "      <td>2<\/td>\n",
              "      <td>111373431_ffce26843283d3365c11d81b8e6bdc6f-p_f...<\/td>\n",
              "    <\/tr>\n",
              "    <tr>\n",
              "      <th>1<\/th>\n",
              "      <td>120900430<\/td>\n",
              "      <td>pflugerville<\/td>\n",
              "      <td>1104 Strickling Dr<\/td>\n",
              "      <td>78660<\/td>\n",
              "      <td>Absolutely GORGEOUS 4 Bedroom home with 2 full...<\/td>\n",
              "      <td>30.432673<\/td>\n",
              "      <td>-97.661697<\/td>\n",
              "      <td>1.98<\/td>\n",
              "      <td>2<\/td>\n",
              "      <td>True<\/td>\n",
              "      <td>...<\/td>\n",
              "      <td>1<\/td>\n",
              "      <td>1<\/td>\n",
              "      <td>1.400000<\/td>\n",
              "      <td>2.666667<\/td>\n",
              "      <td>1063<\/td>\n",
              "      <td>14<\/td>\n",
              "      <td>2.0<\/td>\n",
              "      <td>4<\/td>\n",
              "      <td>1<\/td>\n",
              "      <td>120900430_8255c127be8dcf0a1a18b7563d987088-p_f...<\/td>\n",
              "    <\/tr>\n",
              "    <tr>\n",
              "      <th>2<\/th>\n",
              "      <td>2084491383<\/td>\n",
              "      <td>pflugerville<\/td>\n",
              "      <td>1408 Fort Dessau Rd<\/td>\n",
              "      <td>78660<\/td>\n",
              "      <td>Under construction - estimated completion in A...<\/td>\n",
              "      <td>30.409748<\/td>\n",
              "      <td>-97.639771<\/td>\n",
              "      <td>1.98<\/td>\n",
              "      <td>0<\/td>\n",
              "      <td>True<\/td>\n",
              "      <td>...<\/td>\n",
              "      <td>1<\/td>\n",
              "      <td>1<\/td>\n",
              "      <td>1.200000<\/td>\n",
              "      <td>3.000000<\/td>\n",
              "      <td>1108<\/td>\n",
              "      <td>14<\/td>\n",
              "      <td>2.0<\/td>\n",
              "      <td>3<\/td>\n",
              "      <td>1<\/td>\n",
              "      <td>2084491383_a2ad649e1a7a098111dcea084a11c855-p_...<\/td>\n",
              "    <\/tr>\n",
              "    <tr>\n",
              "      <th>3<\/th>\n",
              "      <td>120901374<\/td>\n",
              "      <td>pflugerville<\/td>\n",
              "      <td>1025 Strickling Dr<\/td>\n",
              "      <td>78660<\/td>\n",
              "      <td>Absolutely darling one story home in charming ...<\/td>\n",
              "      <td>30.432112<\/td>\n",
              "      <td>-97.661659<\/td>\n",
              "      <td>1.98<\/td>\n",
              "      <td>2<\/td>\n",
              "      <td>True<\/td>\n",
              "      <td>...<\/td>\n",
              "      <td>1<\/td>\n",
              "      <td>1<\/td>\n",
              "      <td>1.400000<\/td>\n",
              "      <td>2.666667<\/td>\n",
              "      <td>1063<\/td>\n",
              "      <td>14<\/td>\n",
              "      <td>2.0<\/td>\n",
              "      <td>3<\/td>\n",
              "      <td>1<\/td>\n",
              "      <td>120901374_b469367a619da85b1f5ceb69b675d88e-p_f...<\/td>\n",
              "    <\/tr>\n",
              "    <tr>\n",
              "      <th>4<\/th>\n",
              "      <td>60134862<\/td>\n",
              "      <td>pflugerville<\/td>\n",
              "      <td>15005 Donna Jane Loop<\/td>\n",
              "      <td>78660<\/td>\n",
              "      <td>Brimming with appeal &amp; warm livability! Sleek ...<\/td>\n",
              "      <td>30.437368<\/td>\n",
              "      <td>-97.656860<\/td>\n",
              "      <td>1.98<\/td>\n",
              "      <td>0<\/td>\n",
              "      <td>True<\/td>\n",
              "      <td>...<\/td>\n",
              "      <td>1<\/td>\n",
              "      <td>1<\/td>\n",
              "      <td>1.133333<\/td>\n",
              "      <td>4.000000<\/td>\n",
              "      <td>1223<\/td>\n",
              "      <td>14<\/td>\n",
              "      <td>3.0<\/td>\n",
              "      <td>3<\/td>\n",
              "      <td>2<\/td>\n",
              "      <td>60134862_b1a48a3df3f111e005bb913873e98ce2-p_f.jpg<\/td>\n",
              "    <\/tr>\n",
              "    <tr>\n",
              "      <th>...<\/th>\n",
              "      <td>...<\/td>\n",
              "      <td>...<\/td>\n",
              "      <td>...<\/td>\n",
              "      <td>...<\/td>\n",
              "      <td>...<\/td>\n",
              "      <td>...<\/td>\n",
              "      <td>...<\/td>\n",
              "      <td>...<\/td>\n",
              "      <td>...<\/td>\n",
              "      <td>...<\/td>\n",
              "      <td>...<\/td>\n",
              "      <td>...<\/td>\n",
              "      <td>...<\/td>\n",
              "      <td>...<\/td>\n",
              "      <td>...<\/td>\n",
              "      <td>...<\/td>\n",
              "      <td>...<\/td>\n",
              "      <td>...<\/td>\n",
              "      <td>...<\/td>\n",
              "      <td>...<\/td>\n",
              "      <td>...<\/td>\n",
              "    <\/tr>\n",
              "    <tr>\n",
              "      <th>15166<\/th>\n",
              "      <td>29512934<\/td>\n",
              "      <td>austin<\/td>\n",
              "      <td>905 Silcantu Dr<\/td>\n",
              "      <td>78748<\/td>\n",
              "      <td>Not for rent!\\n\\nBeautiful one story home in T...<\/td>\n",
              "      <td>30.161997<\/td>\n",
              "      <td>-97.816345<\/td>\n",
              "      <td>1.98<\/td>\n",
              "      <td>6<\/td>\n",
              "      <td>False<\/td>\n",
              "      <td>...<\/td>\n",
              "      <td>1<\/td>\n",
              "      <td>1<\/td>\n",
              "      <td>0.900000<\/td>\n",
              "      <td>3.333333<\/td>\n",
              "      <td>1424<\/td>\n",
              "      <td>14<\/td>\n",
              "      <td>2.0<\/td>\n",
              "      <td>3<\/td>\n",
              "      <td>1<\/td>\n",
              "      <td>29512934_ff9b6eefa7e2eb4e9ef983da13a23098-p_f.jpg<\/td>\n",
              "    <\/tr>\n",
              "    <tr>\n",
              "      <th>15167<\/th>\n",
              "      <td>241937773<\/td>\n",
              "      <td>austin<\/td>\n",
              "      <td>1413 Waterloo Shore Ln UNIT 12<\/td>\n",
              "      <td>78741<\/td>\n",
              "      <td>This contemporary three-story detached condo h...<\/td>\n",
              "      <td>30.240223<\/td>\n",
              "      <td>-97.772835<\/td>\n",
              "      <td>1.98<\/td>\n",
              "      <td>2<\/td>\n",
              "      <td>True<\/td>\n",
              "      <td>...<\/td>\n",
              "      <td>1<\/td>\n",
              "      <td>1<\/td>\n",
              "      <td>1.900000<\/td>\n",
              "      <td>6.666667<\/td>\n",
              "      <td>1226<\/td>\n",
              "      <td>16<\/td>\n",
              "      <td>4.0<\/td>\n",
              "      <td>3<\/td>\n",
              "      <td>3<\/td>\n",
              "      <td>241937773_66d3e483bd783eac5a52ff5f938d2a2e-p_f...<\/td>\n",
              "    <\/tr>\n",
              "    <tr>\n",
              "      <th>15168<\/th>\n",
              "      <td>29473281<\/td>\n",
              "      <td>austin<\/td>\n",
              "      <td>2206 S 3rd St<\/td>\n",
              "      <td>78704<\/td>\n",
              "      <td>Original bungalow with a modern addition. Larg...<\/td>\n",
              "      <td>30.244835<\/td>\n",
              "      <td>-97.761124<\/td>\n",
              "      <td>1.98<\/td>\n",
              "      <td>2<\/td>\n",
              "      <td>False<\/td>\n",
              "      <td>...<\/td>\n",
              "      <td>1<\/td>\n",
              "      <td>1<\/td>\n",
              "      <td>0.800000<\/td>\n",
              "      <td>5.000000<\/td>\n",
              "      <td>889<\/td>\n",
              "      <td>13<\/td>\n",
              "      <td>3.0<\/td>\n",
              "      <td>3<\/td>\n",
              "      <td>2<\/td>\n",
              "      <td>29473281_9e90ec4652c4b3b6592a7fdd09f1ea6d-p_f.jpg<\/td>\n",
              "    <\/tr>\n",
              "    <tr>\n",
              "      <th>15169<\/th>\n",
              "      <td>29392029<\/td>\n",
              "      <td>austin<\/td>\n",
              "      <td>2000 Chestnut Ave<\/td>\n",
              "      <td>78722<\/td>\n",
              "      <td>So many options at this address in the eclecti...<\/td>\n",
              "      <td>30.281569<\/td>\n",
              "      <td>-97.717789<\/td>\n",
              "      <td>1.98<\/td>\n",
              "      <td>0<\/td>\n",
              "      <td>False<\/td>\n",
              "      <td>...<\/td>\n",
              "      <td>1<\/td>\n",
              "      <td>1<\/td>\n",
              "      <td>1.300000<\/td>\n",
              "      <td>6.666667<\/td>\n",
              "      <td>1057<\/td>\n",
              "      <td>15<\/td>\n",
              "      <td>2.0<\/td>\n",
              "      <td>4<\/td>\n",
              "      <td>1<\/td>\n",
              "      <td>29392029_a9a8306ea363d23f37d91d37975a1b96-p_f.jpg<\/td>\n",
              "    <\/tr>\n",
              "    <tr>\n",
              "      <th>15170<\/th>\n",
              "      <td>29390174<\/td>\n",
              "      <td>austin<\/td>\n",
              "      <td>3110 E 12th St<\/td>\n",
              "      <td>78702<\/td>\n",
              "      <td>3110 E 12th St, Austin, TX 78702 is a single f...<\/td>\n",
              "      <td>30.276930<\/td>\n",
              "      <td>-97.701523<\/td>\n",
              "      <td>1.98<\/td>\n",
              "      <td>1<\/td>\n",
              "      <td>False<\/td>\n",
              "      <td>...<\/td>\n",
              "      <td>1<\/td>\n",
              "      <td>1<\/td>\n",
              "      <td>1.900000<\/td>\n",
              "      <td>6.666667<\/td>\n",
              "      <td>1057<\/td>\n",
              "      <td>15<\/td>\n",
              "      <td>1.0<\/td>\n",
              "      <td>2<\/td>\n",
              "      <td>1<\/td>\n",
              "      <td>29390174_9580c60e14870498b2ce98b5f889471e-p_f.jpg<\/td>\n",
              "    <\/tr>\n",
              "  <\/tbody>\n",
              "<\/table>\n",
              "<p>15171 rows × 47 columns<\/p>\n",
              "<\/div>"
            ]
          },
          "metadata":{
            
          },
          "output_type":"display_data"
        }
      ],
      "metadata":{
        
      }
    },
    {
      "cell_type":"markdown",
      "source":[
        "## Гипотеза о равенстве средних стоимостей домов, входящих и не входящих в ТСЖ"
      ],
      "attachments":{
        
      },
      "metadata":{
        
      }
    },
    {
      "cell_type":"code",
      "source":[
        "housing_have_association = housing[housing['hasAssociation'] == True]['latestPrice']\n",
        "housing_do_not_have_associtation = housing[housing['hasAssociation'] == False]['latestPrice']"
      ],
      "execution_count":48,
      "outputs":[
        
      ],
      "metadata":{
        
      }
    },
    {
      "cell_type":"code",
      "source":[
        "fig = go.Figure()\n",
        "fig.add_histogram(x=housing_have_association, name='Входит', marker_color='#636EFA')\n",
        "fig.add_histogram(x=housing_do_not_have_associtation, name='Не входит', marker_color='#EF553B')\n",
        "fig.add_vline(x=housing_have_association.mean(), line_dash='dash', line_color='#636EFA')\n",
        "fig.add_vline(x=housing_do_not_have_associtation.mean(), line_dash='dash', line_color='#EF553B')\n",
        "fig.update_layout(barmode='overlay', xaxis_title='Стоимость', yaxis_title='Количество', legend_title_text='ТСЖ',\n",
        "                  title='Распределение цен квартир по членству в ТСЖ')\n",
        "fig.update_traces(opacity=0.8)\n",
        "fig"
      ],
      "execution_count":49,
      "outputs":[
        {
          "data":{
            "text\/plain":[
              "Unsupported"
            ]
          },
          "metadata":{
            
          },
          "output_type":"display_data"
        }
      ],
      "metadata":{
        
      }
    },
    {
      "cell_type":"markdown",
      "source":[
        "График распределения слишком сильно смещён влево, поэтому его следует прологарифмировать. Также в выборках присутствуют выбросы, от которых следует избавиться."
      ],
      "attachments":{
        
      },
      "metadata":{
        
      }
    },
    {
      "cell_type":"code",
      "source":[
        "housing_have_association_filtered = np.log(housing_have_association)\n",
        "housing_do_not_have_associtation_filtered = np.log(housing_do_not_have_associtation)\n",
        "\n",
        "housing_have_association_filtered = housing_have_association_filtered[housing_have_association_filtered.between(10.5, 15.3)]\n",
        "housing_do_not_have_associtation_filtered = housing_do_not_have_associtation_filtered[housing_do_not_have_associtation_filtered.between(11, 15.3)]\n",
        "\n",
        "fig = go.Figure()\n",
        "fig.add_histogram(x=housing_have_association_filtered, name='Входит в ТСЖ', marker_color='#636EFA')\n",
        "fig.add_histogram(x=housing_do_not_have_associtation_filtered, name='Не входит в ТСЖ', marker_color='#EF553B')\n",
        "fig.add_vline(x=housing_have_association_filtered.mean(), line_dash='dash', line_color='#636EFA')\n",
        "fig.add_vline(x=housing_do_not_have_associtation_filtered.mean(), line_dash='dash', line_color='#EF553B')\n",
        "fig.update_layout(barmode='overlay', xaxis_title='Стоимость', yaxis_title='Количество', legend_title_text='ТСЖ',\n",
        "                  title='Распределение цен квартир по членству в ТСЖ')\n",
        "fig.update_traces(opacity=0.8)\n",
        "fig"
      ],
      "execution_count":50,
      "outputs":[
        {
          "data":{
            "text\/plain":[
              "Unsupported"
            ]
          },
          "metadata":{
            
          },
          "output_type":"display_data"
        }
      ],
      "metadata":{
        
      }
    },
    {
      "cell_type":"markdown",
      "source":[
        "После логарифмирования и избавления от выбросов графики распределения приняли колоколообразную, симметричную форму. Поэтому, перед тем как применить критерий Стьюдента, желательно проверить гипотезу о равенстве дисперсий (критерий Флингера-Килина)."
      ],
      "attachments":{
        
      },
      "metadata":{
        
      }
    },
    {
      "cell_type":"code",
      "source":[
        "_, p_value = stats.fligner(housing_have_association_filtered, housing_do_not_have_associtation_filtered)\n",
        "check_p_value(p_value)"
      ],
      "execution_count":51,
      "outputs":[
        {
          "name":"stdout",
          "text":[
            "p-value = 0.2925206432503329\n",
            "p-value > alpha = 0.1 => Гипотеза не отвергнута.\n",
            "p-value > alpha = 0.05 => Гипотеза не отвергнута.\n",
            "p-value > alpha = 0.01 => Гипотеза не отвергнута.\n"
          ],
          "output_type":"stream"
        }
      ],
      "metadata":{
        
      }
    },
    {
      "cell_type":"markdown",
      "source":[
        "**Вывод**: диспресии отличаются статистически незначительно."
      ],
      "attachments":{
        
      },
      "metadata":{
        
      }
    },
    {
      "cell_type":"code",
      "source":[
        "_, p_value = stats.ttest_ind(housing_have_association_filtered, housing_do_not_have_associtation_filtered)\n",
        "check_p_value(p_value)"
      ],
      "execution_count":52,
      "outputs":[
        {
          "name":"stdout",
          "text":[
            "p-value = 0.4075445247669196\n",
            "p-value > alpha = 0.1 => Гипотеза не отвергнута.\n",
            "p-value > alpha = 0.05 => Гипотеза не отвергнута.\n",
            "p-value > alpha = 0.01 => Гипотеза не отвергнута.\n"
          ],
          "output_type":"stream"
        }
      ],
      "metadata":{
        
      }
    },
    {
      "cell_type":"markdown",
      "source":[
        "**Вывод**: средние значения отличаются статистически незначительно."
      ],
      "attachments":{
        
      },
      "metadata":{
        
      }
    },
    {
      "cell_type":"markdown",
      "source":[
        "## Гипотеза о равенстве медианных стоимостей домов, входящих и не входящих в ТСЖ"
      ],
      "attachments":{
        
      },
      "metadata":{
        
      }
    },
    {
      "cell_type":"code",
      "source":[
        "fig = go.Figure()\n",
        "fig.add_histogram(x=housing_have_association_filtered, name='Входит в ТСЖ', marker_color='#636EFA')\n",
        "fig.add_histogram(x=housing_do_not_have_associtation_filtered, name='Не входит в ТСЖ', marker_color='#EF553B')\n",
        "fig.add_vline(x=housing_have_association_filtered.median(), line_dash='dash', line_color='#636EFA')\n",
        "fig.add_vline(x=housing_do_not_have_associtation_filtered.median(), line_dash='dash', line_color='#EF553B')\n",
        "fig.update_layout(barmode='overlay', xaxis_title='Стоимость', yaxis_title='Количество', legend_title_text='ТСЖ',\n",
        "                  title='Распределение цен квартир по членству в ТСЖ')\n",
        "fig.update_traces(opacity=0.8)\n",
        "fig"
      ],
      "execution_count":53,
      "outputs":[
        {
          "data":{
            "text\/plain":[
              "Unsupported"
            ]
          },
          "metadata":{
            
          },
          "output_type":"display_data"
        }
      ],
      "metadata":{
        
      }
    },
    {
      "cell_type":"code",
      "source":[
        "_, p_value = stats.mannwhitneyu(housing_have_association_filtered, housing_do_not_have_associtation_filtered)\n",
        "check_p_value(p_value)"
      ],
      "execution_count":54,
      "outputs":[
        {
          "name":"stdout",
          "text":[
            "p-value = 0.19872011805179507\n",
            "p-value > alpha = 0.1 => Гипотеза не отвергнута.\n",
            "p-value > alpha = 0.05 => Гипотеза не отвергнута.\n",
            "p-value > alpha = 0.01 => Гипотеза не отвергнута.\n"
          ],
          "output_type":"stream"
        }
      ],
      "metadata":{
        
      }
    },
    {
      "cell_type":"markdown",
      "source":[
        "**Вывод**: медианные значения отличаются статистически незначительно."
      ],
      "attachments":{
        
      },
      "metadata":{
        
      }
    },
    {
      "cell_type":"markdown",
      "source":[
        "## Гипотеза о равенстве средних стоимостей домов, имеющих и не имеющих гаража"
      ],
      "attachments":{
        
      },
      "metadata":{
        
      }
    },
    {
      "cell_type":"code",
      "source":[
        "housing_have_garage = housing[housing['hasGarage'] == True]['latestPrice']\n",
        "housing_do_not_have_garage = housing[housing['hasGarage'] == False]['latestPrice']"
      ],
      "execution_count":55,
      "outputs":[
        
      ],
      "metadata":{
        
      }
    },
    {
      "cell_type":"code",
      "source":[
        "fig = go.Figure()\n",
        "fig.add_histogram(x=housing_have_garage, name='Есть', marker_color='#636EFA')\n",
        "fig.add_histogram(x=housing_do_not_have_garage, name='Нет', marker_color='#EF553B')\n",
        "fig.add_vline(x=housing_have_garage.mean(), line_dash='dash', line_color='#636EFA')\n",
        "fig.add_vline(x=housing_do_not_have_garage.mean(), line_dash='dash', line_color='#EF553B')\n",
        "fig.update_layout(barmode='overlay', xaxis_title='Стоимость', yaxis_title='Количество', legend_title_text='Гараж',\n",
        "                  title='Распределение цен квартир по наличию гаража')\n",
        "fig.update_traces(opacity=0.8)\n",
        "fig"
      ],
      "execution_count":56,
      "outputs":[
        {
          "data":{
            "text\/plain":[
              "Unsupported"
            ]
          },
          "metadata":{
            
          },
          "output_type":"display_data"
        }
      ],
      "metadata":{
        
      }
    },
    {
      "cell_type":"markdown",
      "source":[
        "График распределения слишком сильно смещён влево, поэтому его следует прологарифмировать. Также в выборках присутствуют выбросы, от которых следует избавиться."
      ],
      "attachments":{
        
      },
      "metadata":{
        
      }
    },
    {
      "cell_type":"code",
      "source":[
        "housing_have_garage_filtered = np.log(housing_have_garage)\n",
        "housing_do_not_have_garage_filtered = np.log(housing_do_not_have_garage)\n",
        "\n",
        "housing_have_garage_filtered = housing_have_garage_filtered[housing_have_garage_filtered.between(11, 15.3)]\n",
        "housing_do_not_have_garage_filtered = housing_do_not_have_garage_filtered[housing_do_not_have_garage_filtered.between(11.1, 15.2)]\n",
        "\n",
        "fig = go.Figure()\n",
        "fig.add_histogram(x=housing_have_garage_filtered, name='Есть', marker_color='#636EFA')\n",
        "fig.add_histogram(x=housing_do_not_have_garage_filtered, name='Нет', marker_color='#EF553B')\n",
        "fig.add_vline(x=housing_have_garage_filtered.mean(), line_dash='dash', line_color='#636EFA')\n",
        "fig.add_vline(x=housing_do_not_have_garage_filtered.mean(), line_dash='dash', line_color='#EF553B')\n",
        "fig.update_layout(barmode='overlay', xaxis_title='Стоимость', yaxis_title='Количество', legend_title_text='Гараж',\n",
        "                  title='Распределение цен квартир по наличию гаража')\n",
        "fig.update_traces(opacity=0.8)\n",
        "fig"
      ],
      "execution_count":57,
      "outputs":[
        {
          "data":{
            "text\/plain":[
              "Unsupported"
            ]
          },
          "metadata":{
            
          },
          "output_type":"display_data"
        }
      ],
      "metadata":{
        
      }
    },
    {
      "cell_type":"markdown",
      "source":[
        "После логарифмирования и избавления от выбросов графики распределения приняли колоколообразную, симметричную форму. Поэтому, перед тем как применить критерий Стьюдента, желательно проверить гипотезу о равенстве дисперсий (критерий Флингера-Килина)."
      ],
      "attachments":{
        
      },
      "metadata":{
        
      }
    },
    {
      "cell_type":"code",
      "source":[
        "_, p_value = stats.fligner(housing_have_garage_filtered, housing_do_not_have_garage_filtered)\n",
        "check_p_value(p_value)"
      ],
      "execution_count":58,
      "outputs":[
        {
          "name":"stdout",
          "text":[
            "p-value = 0.00026891804651836657\n",
            "p-value < alpha = 0.1 => Гипотеза отвергнута.\n",
            "p-value < alpha = 0.05 => Гипотеза отвергнута.\n",
            "p-value < alpha = 0.01 => Гипотеза отвергнута.\n"
          ],
          "output_type":"stream"
        }
      ],
      "metadata":{
        
      }
    },
    {
      "cell_type":"markdown",
      "source":[
        "**Вывод**: дисперсии различаются, поэтому вместо критерия Стьюдента воспользуемся его модификацией, критерием Уэлча."
      ],
      "attachments":{
        
      },
      "metadata":{
        
      }
    },
    {
      "cell_type":"code",
      "source":[
        "_, p_value = stats.ttest_ind(housing_have_garage_filtered, housing_do_not_have_garage_filtered, equal_var=False)\n",
        "check_p_value(p_value)"
      ],
      "execution_count":59,
      "outputs":[
        {
          "name":"stdout",
          "text":[
            "p-value = 4.179806500837957e-42\n",
            "p-value < alpha = 0.1 => Гипотеза отвергнута.\n",
            "p-value < alpha = 0.05 => Гипотеза отвергнута.\n",
            "p-value < alpha = 0.01 => Гипотеза отвергнута.\n"
          ],
          "output_type":"stream"
        }
      ],
      "metadata":{
        
      }
    },
    {
      "cell_type":"markdown",
      "source":[
        "**Вывод**: средние значения не совпадают"
      ],
      "attachments":{
        
      },
      "metadata":{
        
      }
    },
    {
      "cell_type":"markdown",
      "source":[
        "## Гипотеза о равенстве медианных стоимостей домов, имеющих и не имеющих гаража"
      ],
      "attachments":{
        
      },
      "metadata":{
        
      }
    },
    {
      "cell_type":"code",
      "source":[
        "fig = go.Figure()\n",
        "fig.add_histogram(x=housing_have_garage_filtered, name='Есть', marker_color='#636EFA')\n",
        "fig.add_histogram(x=housing_do_not_have_garage_filtered, name='Нет', marker_color='#EF553B')\n",
        "fig.add_vline(x=housing_have_garage_filtered.median(), line_dash='dash', line_color='#636EFA')\n",
        "fig.add_vline(x=housing_do_not_have_garage_filtered.median(), line_dash='dash', line_color='#EF553B')\n",
        "fig.update_layout(barmode='overlay', xaxis_title='Стоимость', yaxis_title='Количество', legend_title_text='Гараж',\n",
        "                  title='Распределение цен квартир по наличию гаража')\n",
        "fig.update_traces(opacity=0.8)\n",
        "fig"
      ],
      "execution_count":60,
      "outputs":[
        {
          "data":{
            "text\/plain":[
              "Unsupported"
            ]
          },
          "metadata":{
            
          },
          "output_type":"display_data"
        }
      ],
      "metadata":{
        
      }
    },
    {
      "cell_type":"code",
      "source":[
        "_, p_value = stats.mannwhitneyu(housing_have_garage_filtered, housing_do_not_have_garage_filtered)\n",
        "check_p_value(p_value)"
      ],
      "execution_count":61,
      "outputs":[
        {
          "name":"stdout",
          "text":[
            "p-value = 1.2150371585813934e-46\n",
            "p-value < alpha = 0.1 => Гипотеза отвергнута.\n",
            "p-value < alpha = 0.05 => Гипотеза отвергнута.\n",
            "p-value < alpha = 0.01 => Гипотеза отвергнута.\n"
          ],
          "output_type":"stream"
        }
      ],
      "metadata":{
        
      }
    },
    {
      "cell_type":"markdown",
      "source":[
        "**Вывод**: медианные значения не совпадают."
      ],
      "attachments":{
        
      },
      "metadata":{
        
      }
    },
    {
      "cell_type":"markdown",
      "source":[
        "# Гипотеза независимости"
      ],
      "attachments":{
        
      },
      "metadata":{
        
      }
    },
    {
      "cell_type":"code",
      "source":[
        "# https:\/\/www.kaggle.com\/sumitredekar\/nba-stats-2018-2021\n",
        "nba = pd.read_csv('NBA_stats.csv')\n",
        "nba"
      ],
      "execution_count":62,
      "outputs":[
        {
          "data":{
            "text\/html":[
              "<div>\n",
              "<style scoped>\n",
              "    .dataframe tbody tr th:only-of-type {\n",
              "        vertical-align: middle;\n",
              "    }\n",
              "\n",
              "    .dataframe tbody tr th {\n",
              "        vertical-align: top;\n",
              "    }\n",
              "\n",
              "    .dataframe thead th {\n",
              "        text-align: right;\n",
              "    }\n",
              "<\/style>\n",
              "<table border=\"1\" class=\"dataframe\">\n",
              "  <thead>\n",
              "    <tr style=\"text-align: right;\">\n",
              "      <th><\/th>\n",
              "      <th>Player<\/th>\n",
              "      <th>Pos<\/th>\n",
              "      <th>Age<\/th>\n",
              "      <th>Team<\/th>\n",
              "      <th>Games<\/th>\n",
              "      <th>Minutes Played<\/th>\n",
              "      <th>Fields Goal<\/th>\n",
              "      <th>Fields Goal Attempted<\/th>\n",
              "      <th>3-points Field Goal<\/th>\n",
              "      <th>3-points Field Goal Attempted<\/th>\n",
              "      <th>...<\/th>\n",
              "      <th>Defensive Rebounds<\/th>\n",
              "      <th>Total Rebounds<\/th>\n",
              "      <th>Assists<\/th>\n",
              "      <th>Steals<\/th>\n",
              "      <th>Blocks<\/th>\n",
              "      <th>Turnovers<\/th>\n",
              "      <th>Personal Fouls<\/th>\n",
              "      <th>Points<\/th>\n",
              "      <th>Rank<\/th>\n",
              "      <th>Year<\/th>\n",
              "    <\/tr>\n",
              "  <\/thead>\n",
              "  <tbody>\n",
              "    <tr>\n",
              "      <th>0<\/th>\n",
              "      <td>Álex Abrines<\/td>\n",
              "      <td>SG<\/td>\n",
              "      <td>24<\/td>\n",
              "      <td>OKC<\/td>\n",
              "      <td>75<\/td>\n",
              "      <td>15.1<\/td>\n",
              "      <td>1.5<\/td>\n",
              "      <td>3.9<\/td>\n",
              "      <td>1.1<\/td>\n",
              "      <td>2.9<\/td>\n",
              "      <td>...<\/td>\n",
              "      <td>1.2<\/td>\n",
              "      <td>1.5<\/td>\n",
              "      <td>0.4<\/td>\n",
              "      <td>0.5<\/td>\n",
              "      <td>0.1<\/td>\n",
              "      <td>0.3<\/td>\n",
              "      <td>1.7<\/td>\n",
              "      <td>4.7<\/td>\n",
              "      <td>1<\/td>\n",
              "      <td>2018<\/td>\n",
              "    <\/tr>\n",
              "    <tr>\n",
              "      <th>1<\/th>\n",
              "      <td>Quincy Acy<\/td>\n",
              "      <td>PF<\/td>\n",
              "      <td>27<\/td>\n",
              "      <td>BRK<\/td>\n",
              "      <td>70<\/td>\n",
              "      <td>19.4<\/td>\n",
              "      <td>1.9<\/td>\n",
              "      <td>5.2<\/td>\n",
              "      <td>1.5<\/td>\n",
              "      <td>4.2<\/td>\n",
              "      <td>...<\/td>\n",
              "      <td>3.1<\/td>\n",
              "      <td>3.7<\/td>\n",
              "      <td>0.8<\/td>\n",
              "      <td>0.5<\/td>\n",
              "      <td>0.4<\/td>\n",
              "      <td>0.9<\/td>\n",
              "      <td>2.1<\/td>\n",
              "      <td>5.9<\/td>\n",
              "      <td>2<\/td>\n",
              "      <td>2018<\/td>\n",
              "    <\/tr>\n",
              "    <tr>\n",
              "      <th>2<\/th>\n",
              "      <td>Steven Adams<\/td>\n",
              "      <td>C<\/td>\n",
              "      <td>24<\/td>\n",
              "      <td>OKC<\/td>\n",
              "      <td>76<\/td>\n",
              "      <td>32.7<\/td>\n",
              "      <td>5.9<\/td>\n",
              "      <td>9.4<\/td>\n",
              "      <td>0.0<\/td>\n",
              "      <td>0.0<\/td>\n",
              "      <td>...<\/td>\n",
              "      <td>4.0<\/td>\n",
              "      <td>9.0<\/td>\n",
              "      <td>1.2<\/td>\n",
              "      <td>1.2<\/td>\n",
              "      <td>1.0<\/td>\n",
              "      <td>1.7<\/td>\n",
              "      <td>2.8<\/td>\n",
              "      <td>13.9<\/td>\n",
              "      <td>3<\/td>\n",
              "      <td>2018<\/td>\n",
              "    <\/tr>\n",
              "    <tr>\n",
              "      <th>3<\/th>\n",
              "      <td>Bam Adebayo<\/td>\n",
              "      <td>C<\/td>\n",
              "      <td>20<\/td>\n",
              "      <td>MIA<\/td>\n",
              "      <td>69<\/td>\n",
              "      <td>19.8<\/td>\n",
              "      <td>2.5<\/td>\n",
              "      <td>4.9<\/td>\n",
              "      <td>0.0<\/td>\n",
              "      <td>0.1<\/td>\n",
              "      <td>...<\/td>\n",
              "      <td>3.8<\/td>\n",
              "      <td>5.5<\/td>\n",
              "      <td>1.5<\/td>\n",
              "      <td>0.5<\/td>\n",
              "      <td>0.6<\/td>\n",
              "      <td>1.0<\/td>\n",
              "      <td>2.0<\/td>\n",
              "      <td>6.9<\/td>\n",
              "      <td>4<\/td>\n",
              "      <td>2018<\/td>\n",
              "    <\/tr>\n",
              "    <tr>\n",
              "      <th>4<\/th>\n",
              "      <td>Arron Afflalo<\/td>\n",
              "      <td>SG<\/td>\n",
              "      <td>32<\/td>\n",
              "      <td>ORL<\/td>\n",
              "      <td>53<\/td>\n",
              "      <td>12.9<\/td>\n",
              "      <td>1.2<\/td>\n",
              "      <td>3.1<\/td>\n",
              "      <td>0.5<\/td>\n",
              "      <td>1.3<\/td>\n",
              "      <td>...<\/td>\n",
              "      <td>1.2<\/td>\n",
              "      <td>1.2<\/td>\n",
              "      <td>0.6<\/td>\n",
              "      <td>0.1<\/td>\n",
              "      <td>0.2<\/td>\n",
              "      <td>0.4<\/td>\n",
              "      <td>1.1<\/td>\n",
              "      <td>3.4<\/td>\n",
              "      <td>5<\/td>\n",
              "      <td>2018<\/td>\n",
              "    <\/tr>\n",
              "    <tr>\n",
              "      <th>...<\/th>\n",
              "      <td>...<\/td>\n",
              "      <td>...<\/td>\n",
              "      <td>...<\/td>\n",
              "      <td>...<\/td>\n",
              "      <td>...<\/td>\n",
              "      <td>...<\/td>\n",
              "      <td>...<\/td>\n",
              "      <td>...<\/td>\n",
              "      <td>...<\/td>\n",
              "      <td>...<\/td>\n",
              "      <td>...<\/td>\n",
              "      <td>...<\/td>\n",
              "      <td>...<\/td>\n",
              "      <td>...<\/td>\n",
              "      <td>...<\/td>\n",
              "      <td>...<\/td>\n",
              "      <td>...<\/td>\n",
              "      <td>...<\/td>\n",
              "      <td>...<\/td>\n",
              "      <td>...<\/td>\n",
              "      <td>...<\/td>\n",
              "    <\/tr>\n",
              "    <tr>\n",
              "      <th>2723<\/th>\n",
              "      <td>Delon Wright<\/td>\n",
              "      <td>PG<\/td>\n",
              "      <td>28<\/td>\n",
              "      <td>SAC<\/td>\n",
              "      <td>27<\/td>\n",
              "      <td>25.8<\/td>\n",
              "      <td>3.9<\/td>\n",
              "      <td>8.3<\/td>\n",
              "      <td>1.2<\/td>\n",
              "      <td>3.1<\/td>\n",
              "      <td>...<\/td>\n",
              "      <td>2.9<\/td>\n",
              "      <td>3.9<\/td>\n",
              "      <td>3.6<\/td>\n",
              "      <td>1.6<\/td>\n",
              "      <td>0.4<\/td>\n",
              "      <td>1.3<\/td>\n",
              "      <td>1.1<\/td>\n",
              "      <td>10.0<\/td>\n",
              "      <td>536<\/td>\n",
              "      <td>2021<\/td>\n",
              "    <\/tr>\n",
              "    <tr>\n",
              "      <th>2724<\/th>\n",
              "      <td>Thaddeus Young<\/td>\n",
              "      <td>PF<\/td>\n",
              "      <td>32<\/td>\n",
              "      <td>CHI<\/td>\n",
              "      <td>68<\/td>\n",
              "      <td>24.3<\/td>\n",
              "      <td>5.4<\/td>\n",
              "      <td>9.7<\/td>\n",
              "      <td>0.2<\/td>\n",
              "      <td>0.7<\/td>\n",
              "      <td>...<\/td>\n",
              "      <td>3.8<\/td>\n",
              "      <td>6.2<\/td>\n",
              "      <td>4.3<\/td>\n",
              "      <td>1.1<\/td>\n",
              "      <td>0.6<\/td>\n",
              "      <td>2.0<\/td>\n",
              "      <td>2.2<\/td>\n",
              "      <td>12.1<\/td>\n",
              "      <td>537<\/td>\n",
              "      <td>2021<\/td>\n",
              "    <\/tr>\n",
              "    <tr>\n",
              "      <th>2725<\/th>\n",
              "      <td>Trae Young<\/td>\n",
              "      <td>PG<\/td>\n",
              "      <td>22<\/td>\n",
              "      <td>ATL<\/td>\n",
              "      <td>63<\/td>\n",
              "      <td>33.7<\/td>\n",
              "      <td>7.7<\/td>\n",
              "      <td>17.7<\/td>\n",
              "      <td>2.2<\/td>\n",
              "      <td>6.3<\/td>\n",
              "      <td>...<\/td>\n",
              "      <td>3.3<\/td>\n",
              "      <td>3.9<\/td>\n",
              "      <td>9.4<\/td>\n",
              "      <td>0.8<\/td>\n",
              "      <td>0.2<\/td>\n",
              "      <td>4.1<\/td>\n",
              "      <td>1.8<\/td>\n",
              "      <td>25.3<\/td>\n",
              "      <td>538<\/td>\n",
              "      <td>2021<\/td>\n",
              "    <\/tr>\n",
              "    <tr>\n",
              "      <th>2726<\/th>\n",
              "      <td>Cody Zeller<\/td>\n",
              "      <td>C<\/td>\n",
              "      <td>28<\/td>\n",
              "      <td>CHO<\/td>\n",
              "      <td>48<\/td>\n",
              "      <td>20.9<\/td>\n",
              "      <td>3.8<\/td>\n",
              "      <td>6.8<\/td>\n",
              "      <td>0.1<\/td>\n",
              "      <td>0.6<\/td>\n",
              "      <td>...<\/td>\n",
              "      <td>4.4<\/td>\n",
              "      <td>6.8<\/td>\n",
              "      <td>1.8<\/td>\n",
              "      <td>0.6<\/td>\n",
              "      <td>0.4<\/td>\n",
              "      <td>1.1<\/td>\n",
              "      <td>2.5<\/td>\n",
              "      <td>9.4<\/td>\n",
              "      <td>539<\/td>\n",
              "      <td>2021<\/td>\n",
              "    <\/tr>\n",
              "    <tr>\n",
              "      <th>2727<\/th>\n",
              "      <td>Ivica Zubac<\/td>\n",
              "      <td>C<\/td>\n",
              "      <td>23<\/td>\n",
              "      <td>LAC<\/td>\n",
              "      <td>72<\/td>\n",
              "      <td>22.3<\/td>\n",
              "      <td>3.6<\/td>\n",
              "      <td>5.5<\/td>\n",
              "      <td>0.0<\/td>\n",
              "      <td>0.1<\/td>\n",
              "      <td>...<\/td>\n",
              "      <td>4.6<\/td>\n",
              "      <td>7.2<\/td>\n",
              "      <td>1.3<\/td>\n",
              "      <td>0.3<\/td>\n",
              "      <td>0.9<\/td>\n",
              "      <td>1.1<\/td>\n",
              "      <td>2.6<\/td>\n",
              "      <td>9.0<\/td>\n",
              "      <td>540<\/td>\n",
              "      <td>2021<\/td>\n",
              "    <\/tr>\n",
              "  <\/tbody>\n",
              "<\/table>\n",
              "<p>2728 rows × 25 columns<\/p>\n",
              "<\/div>"
            ]
          },
          "metadata":{
            
          },
          "output_type":"display_data"
        }
      ],
      "metadata":{
        
      }
    },
    {
      "cell_type":"markdown",
      "source":[
        "## Гипотеза о независимости времени игры и количества забитых очков"
      ],
      "attachments":{
        
      },
      "metadata":{
        
      }
    },
    {
      "cell_type":"code",
      "source":[
        "fig = px.scatter(x=nba['Minutes Played'], y=nba['Fields Goal'], title='Зависимость времени игры от количества очков')\n",
        "fig.update_xaxes(title='Время игры')\n",
        "fig.update_yaxes(title='Количество очков')\n",
        "fig.show()"
      ],
      "execution_count":63,
      "outputs":[
        {
          "data":{
            "text\/plain":[
              "Unsupported"
            ]
          },
          "metadata":{
            
          },
          "output_type":"display_data"
        }
      ],
      "metadata":{
        
      }
    },
    {
      "cell_type":"code",
      "source":[
        "coefficient, p_value = stats.pearsonr(nba['Minutes Played'], nba['Fields Goal'])\n",
        "print(f'Pearson’s correlation coefficient: {coefficient}')\n",
        "check_p_value(p_value)"
      ],
      "execution_count":64,
      "outputs":[
        {
          "name":"stdout",
          "text":[
            "Pearson’s correlation coefficient: 0.8798261854089531\n",
            "p-value = 0.0\n",
            "p-value < alpha = 0.1 => Гипотеза отвергнута.\n",
            "p-value < alpha = 0.05 => Гипотеза отвергнута.\n",
            "p-value < alpha = 0.01 => Гипотеза отвергнута.\n"
          ],
          "output_type":"stream"
        }
      ],
      "metadata":{
        
      }
    },
    {
      "cell_type":"markdown",
      "source":[
        "**Вывод**: время игры коррелирует с количеством забитых очков."
      ],
      "attachments":{
        
      },
      "metadata":{
        
      }
    },
    {
      "cell_type":"markdown",
      "source":[
        "## Гипотеза о независимости количества успешных 3-очковых бросков и общего количества 3-очковых бросков "
      ],
      "attachments":{
        
      },
      "metadata":{
        
      }
    },
    {
      "cell_type":"code",
      "source":[
        "fig = px.scatter(x=nba['3-points Field Goal Attempted'], y=nba['3-points Field Goal'],\n",
        "                 title='Зависимость общего количества 3-очковых бросков к количеству успешных 3-очковых бросков')\n",
        "fig.update_xaxes(title='Общее количество 3-очковых бросков')\n",
        "fig.update_yaxes(title='Количество успешных 3-очковых бросков')\n",
        "fig.show()"
      ],
      "execution_count":65,
      "outputs":[
        {
          "data":{
            "text\/plain":[
              "Unsupported"
            ]
          },
          "metadata":{
            
          },
          "output_type":"display_data"
        }
      ],
      "metadata":{
        
      }
    },
    {
      "cell_type":"code",
      "source":[
        "coefficient, p_value = stats.pearsonr(nba['3-points Field Goal Attempted'], nba['3-points Field Goal'])\n",
        "print(f'Pearson’s correlation coefficient: {coefficient}')\n",
        "check_p_value(p_value)"
      ],
      "execution_count":66,
      "outputs":[
        {
          "name":"stdout",
          "text":[
            "Pearson’s correlation coefficient: 0.9779575556023907\n",
            "p-value = 0.0\n",
            "p-value < alpha = 0.1 => Гипотеза отвергнута.\n",
            "p-value < alpha = 0.05 => Гипотеза отвергнута.\n",
            "p-value < alpha = 0.01 => Гипотеза отвергнута.\n"
          ],
          "output_type":"stream"
        }
      ],
      "metadata":{
        
      }
    },
    {
      "cell_type":"markdown",
      "source":[
        "**Вывод**: количество успешных 3-очковых бросков коррелирует с общим количеством 3-очковых бросков"
      ],
      "attachments":{
        
      },
      "metadata":{
        
      }
    },
    {
      "cell_type":"markdown",
      "source":[
        "## Гипотеза о независимости возраста игроков и команды "
      ],
      "attachments":{
        
      },
      "metadata":{
        
      }
    },
    {
      "cell_type":"code",
      "source":[
        "fig = px.scatter(x=nba['Age'], y=nba['Team'], title='Зависимость возраста от команды')\n",
        "fig.update_xaxes(title='Возраст')\n",
        "fig.update_yaxes(title='Команда')\n",
        "fig.show()"
      ],
      "execution_count":67,
      "outputs":[
        {
          "data":{
            "text\/plain":[
              "Unsupported"
            ]
          },
          "metadata":{
            
          },
          "output_type":"display_data"
        }
      ],
      "metadata":{
        
      }
    },
    {
      "cell_type":"code",
      "source":[
        "tau, p_value = stats.kendalltau(nba['Team'], nba['Pos'])\n",
        "print(f'Kendall’s tau: {tau}')\n",
        "check_p_value(p_value)"
      ],
      "execution_count":68,
      "outputs":[
        {
          "name":"stdout",
          "text":[
            "Kendall’s tau: 0.002169644130875953\n",
            "p-value = 0.8786374759351929\n",
            "p-value > alpha = 0.1 => Гипотеза не отвергнута.\n",
            "p-value > alpha = 0.05 => Гипотеза не отвергнута.\n",
            "p-value > alpha = 0.01 => Гипотеза не отвергнута.\n"
          ],
          "output_type":"stream"
        }
      ],
      "metadata":{
        
      }
    },
    {
      "cell_type":"markdown",
      "source":[
        "**Вывод**: возраст игрока не коррелирует с командой."
      ],
      "attachments":{
        
      },
      "metadata":{
        
      }
    }
  ],
  "metadata":{
    
  },
  "nbformat":4,
  "nbformat_minor":0
}