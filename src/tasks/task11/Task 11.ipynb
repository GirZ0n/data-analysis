{
  "cells":[
    {
      "cell_type":"code",
      "source":[
        "import pandas as pd\n",
        "from imblearn.over_sampling import RandomOverSampler\n",
        "from sklearn.model_selection import train_test_split, GridSearchCV, StratifiedKFold\n",
        "from sklearn.metrics import make_scorer, mean_absolute_error, mean_squared_error, max_error\n",
        "from sklearn.ensemble import RandomForestRegressor"
      ],
      "execution_count":1,
      "outputs":[
        
      ],
      "metadata":{
        
      }
    },
    {
      "cell_type":"code",
      "source":[
        "red = pd.read_csv('winequality-red.csv', sep=';')\n",
        "white = pd.read_csv('winequality-white.csv', sep=';')\n",
        "\n",
        "wine = pd.concat([red, white])\n",
        "wine.reset_index(drop=True, inplace=True)"
      ],
      "execution_count":2,
      "outputs":[
        
      ],
      "metadata":{
        
      }
    },
    {
      "cell_type":"code",
      "source":[
        "wine"
      ],
      "execution_count":17,
      "outputs":[
        {
          "data":{
            "text\/html":[
              "<div>\n",
              "<style scoped>\n",
              "    .dataframe tbody tr th:only-of-type {\n",
              "        vertical-align: middle;\n",
              "    }\n",
              "\n",
              "    .dataframe tbody tr th {\n",
              "        vertical-align: top;\n",
              "    }\n",
              "\n",
              "    .dataframe thead th {\n",
              "        text-align: right;\n",
              "    }\n",
              "<\/style>\n",
              "<table border=\"1\" class=\"dataframe\">\n",
              "  <thead>\n",
              "    <tr style=\"text-align: right;\">\n",
              "      <th><\/th>\n",
              "      <th>fixed acidity<\/th>\n",
              "      <th>volatile acidity<\/th>\n",
              "      <th>citric acid<\/th>\n",
              "      <th>residual sugar<\/th>\n",
              "      <th>chlorides<\/th>\n",
              "      <th>free sulfur dioxide<\/th>\n",
              "      <th>total sulfur dioxide<\/th>\n",
              "      <th>density<\/th>\n",
              "      <th>pH<\/th>\n",
              "      <th>sulphates<\/th>\n",
              "      <th>alcohol<\/th>\n",
              "      <th>quality<\/th>\n",
              "    <\/tr>\n",
              "  <\/thead>\n",
              "  <tbody>\n",
              "    <tr>\n",
              "      <th>0<\/th>\n",
              "      <td>7.4<\/td>\n",
              "      <td>0.70<\/td>\n",
              "      <td>0.00<\/td>\n",
              "      <td>1.9<\/td>\n",
              "      <td>0.076<\/td>\n",
              "      <td>11.0<\/td>\n",
              "      <td>34.0<\/td>\n",
              "      <td>0.99780<\/td>\n",
              "      <td>3.51<\/td>\n",
              "      <td>0.56<\/td>\n",
              "      <td>9.4<\/td>\n",
              "      <td>5<\/td>\n",
              "    <\/tr>\n",
              "    <tr>\n",
              "      <th>1<\/th>\n",
              "      <td>7.8<\/td>\n",
              "      <td>0.88<\/td>\n",
              "      <td>0.00<\/td>\n",
              "      <td>2.6<\/td>\n",
              "      <td>0.098<\/td>\n",
              "      <td>25.0<\/td>\n",
              "      <td>67.0<\/td>\n",
              "      <td>0.99680<\/td>\n",
              "      <td>3.20<\/td>\n",
              "      <td>0.68<\/td>\n",
              "      <td>9.8<\/td>\n",
              "      <td>5<\/td>\n",
              "    <\/tr>\n",
              "    <tr>\n",
              "      <th>2<\/th>\n",
              "      <td>7.8<\/td>\n",
              "      <td>0.76<\/td>\n",
              "      <td>0.04<\/td>\n",
              "      <td>2.3<\/td>\n",
              "      <td>0.092<\/td>\n",
              "      <td>15.0<\/td>\n",
              "      <td>54.0<\/td>\n",
              "      <td>0.99700<\/td>\n",
              "      <td>3.26<\/td>\n",
              "      <td>0.65<\/td>\n",
              "      <td>9.8<\/td>\n",
              "      <td>5<\/td>\n",
              "    <\/tr>\n",
              "    <tr>\n",
              "      <th>3<\/th>\n",
              "      <td>11.2<\/td>\n",
              "      <td>0.28<\/td>\n",
              "      <td>0.56<\/td>\n",
              "      <td>1.9<\/td>\n",
              "      <td>0.075<\/td>\n",
              "      <td>17.0<\/td>\n",
              "      <td>60.0<\/td>\n",
              "      <td>0.99800<\/td>\n",
              "      <td>3.16<\/td>\n",
              "      <td>0.58<\/td>\n",
              "      <td>9.8<\/td>\n",
              "      <td>6<\/td>\n",
              "    <\/tr>\n",
              "    <tr>\n",
              "      <th>4<\/th>\n",
              "      <td>7.4<\/td>\n",
              "      <td>0.70<\/td>\n",
              "      <td>0.00<\/td>\n",
              "      <td>1.9<\/td>\n",
              "      <td>0.076<\/td>\n",
              "      <td>11.0<\/td>\n",
              "      <td>34.0<\/td>\n",
              "      <td>0.99780<\/td>\n",
              "      <td>3.51<\/td>\n",
              "      <td>0.56<\/td>\n",
              "      <td>9.4<\/td>\n",
              "      <td>5<\/td>\n",
              "    <\/tr>\n",
              "    <tr>\n",
              "      <th>...<\/th>\n",
              "      <td>...<\/td>\n",
              "      <td>...<\/td>\n",
              "      <td>...<\/td>\n",
              "      <td>...<\/td>\n",
              "      <td>...<\/td>\n",
              "      <td>...<\/td>\n",
              "      <td>...<\/td>\n",
              "      <td>...<\/td>\n",
              "      <td>...<\/td>\n",
              "      <td>...<\/td>\n",
              "      <td>...<\/td>\n",
              "      <td>...<\/td>\n",
              "    <\/tr>\n",
              "    <tr>\n",
              "      <th>6492<\/th>\n",
              "      <td>6.2<\/td>\n",
              "      <td>0.21<\/td>\n",
              "      <td>0.29<\/td>\n",
              "      <td>1.6<\/td>\n",
              "      <td>0.039<\/td>\n",
              "      <td>24.0<\/td>\n",
              "      <td>92.0<\/td>\n",
              "      <td>0.99114<\/td>\n",
              "      <td>3.27<\/td>\n",
              "      <td>0.50<\/td>\n",
              "      <td>11.2<\/td>\n",
              "      <td>6<\/td>\n",
              "    <\/tr>\n",
              "    <tr>\n",
              "      <th>6493<\/th>\n",
              "      <td>6.6<\/td>\n",
              "      <td>0.32<\/td>\n",
              "      <td>0.36<\/td>\n",
              "      <td>8.0<\/td>\n",
              "      <td>0.047<\/td>\n",
              "      <td>57.0<\/td>\n",
              "      <td>168.0<\/td>\n",
              "      <td>0.99490<\/td>\n",
              "      <td>3.15<\/td>\n",
              "      <td>0.46<\/td>\n",
              "      <td>9.6<\/td>\n",
              "      <td>5<\/td>\n",
              "    <\/tr>\n",
              "    <tr>\n",
              "      <th>6494<\/th>\n",
              "      <td>6.5<\/td>\n",
              "      <td>0.24<\/td>\n",
              "      <td>0.19<\/td>\n",
              "      <td>1.2<\/td>\n",
              "      <td>0.041<\/td>\n",
              "      <td>30.0<\/td>\n",
              "      <td>111.0<\/td>\n",
              "      <td>0.99254<\/td>\n",
              "      <td>2.99<\/td>\n",
              "      <td>0.46<\/td>\n",
              "      <td>9.4<\/td>\n",
              "      <td>6<\/td>\n",
              "    <\/tr>\n",
              "    <tr>\n",
              "      <th>6495<\/th>\n",
              "      <td>5.5<\/td>\n",
              "      <td>0.29<\/td>\n",
              "      <td>0.30<\/td>\n",
              "      <td>1.1<\/td>\n",
              "      <td>0.022<\/td>\n",
              "      <td>20.0<\/td>\n",
              "      <td>110.0<\/td>\n",
              "      <td>0.98869<\/td>\n",
              "      <td>3.34<\/td>\n",
              "      <td>0.38<\/td>\n",
              "      <td>12.8<\/td>\n",
              "      <td>7<\/td>\n",
              "    <\/tr>\n",
              "    <tr>\n",
              "      <th>6496<\/th>\n",
              "      <td>6.0<\/td>\n",
              "      <td>0.21<\/td>\n",
              "      <td>0.38<\/td>\n",
              "      <td>0.8<\/td>\n",
              "      <td>0.020<\/td>\n",
              "      <td>22.0<\/td>\n",
              "      <td>98.0<\/td>\n",
              "      <td>0.98941<\/td>\n",
              "      <td>3.26<\/td>\n",
              "      <td>0.32<\/td>\n",
              "      <td>11.8<\/td>\n",
              "      <td>6<\/td>\n",
              "    <\/tr>\n",
              "  <\/tbody>\n",
              "<\/table>\n",
              "<p>6497 rows × 12 columns<\/p>\n",
              "<\/div>"
            ]
          },
          "metadata":{
            
          },
          "output_type":"display_data"
        }
      ],
      "metadata":{
        
      }
    },
    {
      "cell_type":"code",
      "source":[
        "RANDOM_STATE = 42"
      ],
      "execution_count":4,
      "outputs":[
        
      ],
      "metadata":{
        
      }
    },
    {
      "cell_type":"code",
      "source":[
        "def make_ordinal_scorer(scorer, for_cv=True, greater_is_better=True):\n",
        "    def my_scorer(y_true, y_pred):\n",
        "        y_rounded = y_pred.round()\n",
        "        y_rounded[y_rounded < 0] = 0\n",
        "        y_rounded[y_rounded > 10] = 10\n",
        "        return scorer(y_true, y_rounded)\n",
        "\n",
        "    if for_cv:\n",
        "        return make_scorer(my_scorer, greater_is_better=greater_is_better)\n",
        "    else:\n",
        "        return my_scorer\n"
      ],
      "execution_count":5,
      "outputs":[
        
      ],
      "metadata":{
        
      }
    },
    {
      "cell_type":"code",
      "source":[
        "def score_model(model: RandomForestRegressor, X_train, X_test, y_train, y_test) -> pd.DataFrame:\n",
        "    X = pd.concat([X_train, X_test])\n",
        "    y = pd.concat([y_train, y_test])\n",
        "\n",
        "    X_resampled, y_resampled = RandomOverSampler(random_state=RANDOM_STATE).fit_resample(X, y)\n",
        "    X_train_resampled, y_train_resampled = RandomOverSampler(random_state=RANDOM_STATE).fit_resample(X_train, y_train)\n",
        "\n",
        "    train_scores = []\n",
        "    test_scores = []\n",
        "    all_scores = []\n",
        "\n",
        "    ordinal_mean_absolute_error = make_ordinal_scorer(mean_absolute_error, for_cv=False)\n",
        "    ordinal_mean_squared_error = make_ordinal_scorer(mean_squared_error, for_cv=False)\n",
        "    ordinal_max_error = make_ordinal_scorer(max_error, for_cv=False)\n",
        "\n",
        "    scorers = [ordinal_mean_absolute_error, ordinal_mean_squared_error, ordinal_max_error]\n",
        "    for scorer in scorers:\n",
        "        model.fit(X_train_resampled, y_train_resampled)\n",
        "        train_scores.append(scorer(y_train, model.predict(X_train)))\n",
        "        test_scores.append(scorer(y_test, model.predict(X_test)))\n",
        "        model.fit(X_resampled, y_resampled)\n",
        "        all_scores.append(scorer(y, model.predict(X)))\n",
        "\n",
        "    return pd.DataFrame.from_dict({'Train': train_scores, 'Test': test_scores, 'All': all_scores}, orient='index',\n",
        "                                  columns=['Mean absolute error', 'Mean squared error', 'Max error'])"
      ],
      "execution_count":6,
      "outputs":[
        
      ],
      "metadata":{
        
      }
    },
    {
      "cell_type":"markdown",
      "source":[
        "## Препроцессинг "
      ],
      "attachments":{
        
      },
      "metadata":{
        
      }
    },
    {
      "cell_type":"markdown",
      "source":[
        "### Проверяем наличие nan"
      ],
      "attachments":{
        
      },
      "metadata":{
        
      }
    },
    {
      "cell_type":"code",
      "source":[
        "print(f'Количество nan: {wine.isna().sum().sum()}')"
      ],
      "execution_count":7,
      "outputs":[
        {
          "name":"stdout",
          "text":[
            "Количество nan: 0\n"
          ],
          "output_type":"stream"
        }
      ],
      "metadata":{
        
      }
    },
    {
      "cell_type":"markdown",
      "source":[
        "### Создаём X и y"
      ],
      "attachments":{
        
      },
      "metadata":{
        
      }
    },
    {
      "cell_type":"code",
      "source":[
        "y_columns = ['quality']\n",
        "X_columns = [column for column in wine.columns.tolist() if column not in y_columns]\n",
        "X, y = wine[X_columns], wine[y_columns]\n",
        "y = y.round()"
      ],
      "execution_count":8,
      "outputs":[
        
      ],
      "metadata":{
        
      }
    },
    {
      "cell_type":"markdown",
      "source":[
        "### Проверяем соотношения классов"
      ],
      "attachments":{
        
      },
      "metadata":{
        
      }
    },
    {
      "cell_type":"code",
      "source":[
        "y['quality'].value_counts(normalize=True).sort_values(ascending=False)"
      ],
      "execution_count":9,
      "outputs":[
        {
          "data":{
            "text\/html":[
              
            ]
          },
          "metadata":{
            
          },
          "output_type":"display_data"
        }
      ],
      "metadata":{
        
      }
    },
    {
      "cell_type":"markdown",
      "source":[
        "### Генерируем X_train, X_test, y_train, y_test "
      ],
      "attachments":{
        
      },
      "metadata":{
        
      }
    },
    {
      "cell_type":"code",
      "source":[
        "X_train, X_test, y_train, y_test = train_test_split(X, y['quality'], random_state=RANDOM_STATE, stratify=y['quality'])"
      ],
      "execution_count":10,
      "outputs":[
        
      ],
      "metadata":{
        
      }
    },
    {
      "cell_type":"markdown",
      "source":[
        "## Поиск параметров"
      ],
      "attachments":{
        
      },
      "metadata":{
        
      }
    },
    {
      "cell_type":"code",
      "source":[
        "class BalancedStratifiedKFold:\n",
        "    def __init__(self, n_splits=4, random_state=None):\n",
        "        self.n_splits = n_splits\n",
        "        self.random_state = random_state\n",
        "\n",
        "    def split(self, X, y, groups=None):\n",
        "        for train_idx, test_idx in StratifiedKFold(n_splits=self.n_splits).split(X, y):\n",
        "            X_train, y_train = X.take(train_idx), y.take(train_idx)\n",
        "            X_test, y_test = X.take(test_idx), y.take(test_idx)\n",
        "\n",
        "            X_train['index'] = train_idx\n",
        "            X_test['index'] = test_idx\n",
        "\n",
        "            X_train, y_train = RandomOverSampler(random_state=self.random_state).fit_resample(X_train, y_train)\n",
        "            X_test, y_test = RandomOverSampler(random_state=self.random_state).fit_resample(X_test, y_test)\n",
        "\n",
        "            yield X_train['index'].to_numpy(), X_test['index'].to_numpy()\n",
        "\n",
        "    def get_n_splits(self, X, y, groups=None):\n",
        "        return self.n_splits"
      ],
      "execution_count":11,
      "outputs":[
        
      ],
      "metadata":{
        
      }
    },
    {
      "cell_type":"code",
      "source":[
        "# parameters = {'n_estimators': list(range(30, 180, 10)), 'min_samples_leaf': [1, 5, 10]}\n",
        "# clf = GridSearchCV(RandomForestRegressor(random_state=RANDOM_STATE, max_features='sqrt'), parameters,\n",
        "#                    cv=BalancedStratifiedKFold(random_state=RANDOM_STATE), verbose=100,\n",
        "#                    scoring=make_ordinal_scorer(mean_squared_error, greater_is_better=False), n_jobs=6)\n",
        "# clf.fit(X_train, y_train)\n",
        "\n",
        "# clf.cv_results_"
      ],
      "execution_count":12,
      "outputs":[
        
      ],
      "metadata":{
        
      }
    },
    {
      "cell_type":"markdown",
      "source":[
        "## Результаты"
      ],
      "attachments":{
        
      },
      "metadata":{
        
      }
    },
    {
      "cell_type":"code",
      "source":[
        "model = RandomForestRegressor(random_state=RANDOM_STATE, max_features='sqrt', min_samples_leaf=7, n_estimators=50)"
      ],
      "execution_count":13,
      "outputs":[
        
      ],
      "metadata":{
        
      }
    },
    {
      "cell_type":"code",
      "source":[
        "score_model(model, X_train, X_test, y_train, y_test)"
      ],
      "execution_count":14,
      "outputs":[
        {
          "data":{
            "text\/html":[
              "<div>\n",
              "<style scoped>\n",
              "    .dataframe tbody tr th:only-of-type {\n",
              "        vertical-align: middle;\n",
              "    }\n",
              "\n",
              "    .dataframe tbody tr th {\n",
              "        vertical-align: top;\n",
              "    }\n",
              "\n",
              "    .dataframe thead th {\n",
              "        text-align: right;\n",
              "    }\n",
              "<\/style>\n",
              "<table border=\"1\" class=\"dataframe\">\n",
              "  <thead>\n",
              "    <tr style=\"text-align: right;\">\n",
              "      <th><\/th>\n",
              "      <th>Mean absolute error<\/th>\n",
              "      <th>Mean squared error<\/th>\n",
              "      <th>Max error<\/th>\n",
              "    <\/tr>\n",
              "  <\/thead>\n",
              "  <tbody>\n",
              "    <tr>\n",
              "      <th>Train<\/th>\n",
              "      <td>0.207307<\/td>\n",
              "      <td>0.208539<\/td>\n",
              "      <td>2.0<\/td>\n",
              "    <\/tr>\n",
              "    <tr>\n",
              "      <th>Test<\/th>\n",
              "      <td>0.417846<\/td>\n",
              "      <td>0.475692<\/td>\n",
              "      <td>3.0<\/td>\n",
              "    <\/tr>\n",
              "    <tr>\n",
              "      <th>All<\/th>\n",
              "      <td>0.195783<\/td>\n",
              "      <td>0.197630<\/td>\n",
              "      <td>2.0<\/td>\n",
              "    <\/tr>\n",
              "  <\/tbody>\n",
              "<\/table>\n",
              "<\/div>"
            ]
          },
          "metadata":{
            
          },
          "output_type":"display_data"
        }
      ],
      "metadata":{
        
      }
    },
    {
      "cell_type":"markdown",
      "source":[
        "### Результаты на 9"
      ],
      "attachments":{
        
      },
      "metadata":{
        
      }
    },
    {
      "cell_type":"code",
      "source":[
        "X_train, y_train = RandomOverSampler(random_state=RANDOM_STATE).fit_resample(X_train, y_train)\n",
        "model.fit(X_train, y_train)\n",
        "y_test[y_test == 9]  # 2426\n",
        "model.predict(X_test[X_test.index == 2426]).round()"
      ],
      "execution_count":15,
      "outputs":[
        {
          "data":{
            "text\/html":[
              
            ]
          },
          "metadata":{
            
          },
          "output_type":"display_data"
        }
      ],
      "metadata":{
        
      }
    },
    {
      "cell_type":"markdown",
      "source":[
        "### Результаты на 8"
      ],
      "attachments":{
        
      },
      "metadata":{
        
      }
    },
    {
      "cell_type":"code",
      "source":[
        "y_test[y_test == 8].index\n",
        "eights = [498, 5266, 278, 2818, 6364, 4347, 1403, 3579, 2621, 2478, 1619, 4349, 3989, 4771, 6386, 455, 3897, 2224, 1090,\n",
        "          5933, 4521, 5939, 4403, 2398, 6385, 2705, 4900, 6365, 440, 4851, 1673, 4862, 2944, 4628, 4352, 588, 4595,\n",
        "          1120, 3005, 5931, 2943, 3581, 4489, 1269, 1061, 5072, 5060, 2882]\n",
        "model.predict(X_test[X_test.index.isin(eights)]).round()"
      ],
      "execution_count":16,
      "outputs":[
        {
          "data":{
            "text\/html":[
              
            ]
          },
          "metadata":{
            
          },
          "output_type":"display_data"
        }
      ],
      "metadata":{
        
      }
    }
  ],
  "metadata":{
    
  },
  "nbformat":4,
  "nbformat_minor":0
}