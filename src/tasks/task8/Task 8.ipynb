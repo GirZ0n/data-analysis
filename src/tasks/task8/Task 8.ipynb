{
  "cells":[
    {
      "cell_type":"code",
      "source":[
        "import pandas as pd\n",
        "import numpy as np\n",
        "\n",
        "import plotly.express as px\n",
        "import plotly.graph_objects as go\n",
        "\n",
        "from typing import List\n",
        "from scipy import stats\n",
        "\n",
        "from sklearn.metrics import SCORERS\n",
        "from sklearn.preprocessing import PolynomialFeatures\n",
        "from sklearn.linear_model import LinearRegression\n",
        "from sklearn.model_selection import cross_validate\n",
        "\n",
        "from collections import defaultdict\n",
        "\n",
        "from IPython.core.display import display, HTML"
      ],
      "execution_count":1,
      "outputs":[
        
      ],
      "metadata":{
        
      }
    },
    {
      "cell_type":"code",
      "source":[
        "flats = pd.read_csv('FLATS.csv')\n",
        "\n",
        "flats.drop(columns=['Id'], inplace=True)\n",
        "flats.rename(columns=dict(zip(flats.columns.tolist(), map(str.lower, flats.columns.tolist()))), inplace=True)\n",
        "\n",
        "print(f'Количество отсутствующих значений: {flats.isna().sum().sum()}')\n",
        "\n",
        "flats"
      ],
      "execution_count":2,
      "outputs":[
        {
          "name":"stdout",
          "text":[
            "Количество отсутствующих значений: 0\n"
          ],
          "output_type":"stream"
        },
        {
          "data":{
            "text\/html":[
              "<div>\n",
              "<style scoped>\n",
              "    .dataframe tbody tr th:only-of-type {\n",
              "        vertical-align: middle;\n",
              "    }\n",
              "\n",
              "    .dataframe tbody tr th {\n",
              "        vertical-align: top;\n",
              "    }\n",
              "\n",
              "    .dataframe thead th {\n",
              "        text-align: right;\n",
              "    }\n",
              "<\/style>\n",
              "<table border=\"1\" class=\"dataframe\">\n",
              "  <thead>\n",
              "    <tr style=\"text-align: right;\">\n",
              "      <th><\/th>\n",
              "      <th>square_meters<\/th>\n",
              "      <th>metro_distance<\/th>\n",
              "      <th>price<\/th>\n",
              "    <\/tr>\n",
              "  <\/thead>\n",
              "  <tbody>\n",
              "    <tr>\n",
              "      <th>0<\/th>\n",
              "      <td>28<\/td>\n",
              "      <td>677<\/td>\n",
              "      <td>7328400<\/td>\n",
              "    <\/tr>\n",
              "    <tr>\n",
              "      <th>1<\/th>\n",
              "      <td>54<\/td>\n",
              "      <td>120<\/td>\n",
              "      <td>9754600<\/td>\n",
              "    <\/tr>\n",
              "    <tr>\n",
              "      <th>2<\/th>\n",
              "      <td>43<\/td>\n",
              "      <td>1344<\/td>\n",
              "      <td>6781500<\/td>\n",
              "    <\/tr>\n",
              "    <tr>\n",
              "      <th>3<\/th>\n",
              "      <td>33<\/td>\n",
              "      <td>1003<\/td>\n",
              "      <td>6784100<\/td>\n",
              "    <\/tr>\n",
              "    <tr>\n",
              "      <th>4<\/th>\n",
              "      <td>30<\/td>\n",
              "      <td>591<\/td>\n",
              "      <td>7296200<\/td>\n",
              "    <\/tr>\n",
              "    <tr>\n",
              "      <th>...<\/th>\n",
              "      <td>...<\/td>\n",
              "      <td>...<\/td>\n",
              "      <td>...<\/td>\n",
              "    <\/tr>\n",
              "    <tr>\n",
              "      <th>95<\/th>\n",
              "      <td>28<\/td>\n",
              "      <td>2073<\/td>\n",
              "      <td>4826700<\/td>\n",
              "    <\/tr>\n",
              "    <tr>\n",
              "      <th>96<\/th>\n",
              "      <td>63<\/td>\n",
              "      <td>2120<\/td>\n",
              "      <td>6800800<\/td>\n",
              "    <\/tr>\n",
              "    <tr>\n",
              "      <th>97<\/th>\n",
              "      <td>33<\/td>\n",
              "      <td>1411<\/td>\n",
              "      <td>6517500<\/td>\n",
              "    <\/tr>\n",
              "    <tr>\n",
              "      <th>98<\/th>\n",
              "      <td>47<\/td>\n",
              "      <td>1715<\/td>\n",
              "      <td>6812100<\/td>\n",
              "    <\/tr>\n",
              "    <tr>\n",
              "      <th>99<\/th>\n",
              "      <td>31<\/td>\n",
              "      <td>1785<\/td>\n",
              "      <td>5583200<\/td>\n",
              "    <\/tr>\n",
              "  <\/tbody>\n",
              "<\/table>\n",
              "<p>100 rows × 3 columns<\/p>\n",
              "<\/div>"
            ]
          },
          "metadata":{
            
          },
          "output_type":"display_data"
        }
      ],
      "metadata":{
        
      }
    },
    {
      "cell_type":"code",
      "source":[
        "metric_names = ['r2', 'max_error', 'neg_mean_absolute_error', 'neg_root_mean_squared_error']"
      ],
      "execution_count":3,
      "outputs":[
        
      ],
      "metadata":{
        
      }
    },
    {
      "cell_type":"code",
      "source":[
        "def create_and_fit_models(columns_to_be_used: List[List[str]], X: pd.DataFrame, y: pd.DataFrame) -> List[LinearRegression]:\n",
        "    models = []\n",
        "    for columns in columns_to_be_used:\n",
        "        model = LinearRegression()\n",
        "        model.fit(X[columns], y)\n",
        "        models.append(model)\n",
        "    return models"
      ],
      "execution_count":4,
      "outputs":[
        
      ],
      "metadata":{
        
      }
    },
    {
      "cell_type":"code",
      "source":[
        "def score_models(models: List[LinearRegression]) -> pd.DataFrame:\n",
        "    scores_by_feature_names = defaultdict(list)\n",
        "    for model in models:\n",
        "        feature_names = model.feature_names_in_\n",
        "        for metric_name in metric_names:\n",
        "            scores_by_feature_names[' + '.join(feature_names)].append(SCORERS[metric_name](model, X[feature_names], y))\n",
        "    return pd.DataFrame(scores_by_feature_names, index=metric_names).T"
      ],
      "execution_count":5,
      "outputs":[
        
      ],
      "metadata":{
        
      }
    },
    {
      "cell_type":"code",
      "source":[
        "def display_model_coefs(models: List[LinearRegression]) -> pd.DataFrame:\n",
        "    for model in models:\n",
        "        features = model.feature_names_in_\n",
        "        display(HTML(f'<h3>{\" + \".join(features)}<\/h3>'))\n",
        "        display(HTML(regression_coef(model, X[features], y).style.format({'coef': '{:.4f}', 'pvalue': '{:e}'}).to_html()))"
      ],
      "execution_count":6,
      "outputs":[
        
      ],
      "metadata":{
        
      }
    },
    {
      "cell_type":"code",
      "source":[
        "def perform_cross_validation(columns_to_be_used: List[List[str]], X: pd.DataFrame, y: pd.DataFrame, cv: int = 5):\n",
        "    val_scores = []\n",
        "    for column in columns_to_be_used:\n",
        "        model = LinearRegression()\n",
        "        val_scores.append(cross_validate(model, X[column], y, scoring=metric_names, cv=cv))\n",
        "\n",
        "    scores_by_feature_names = defaultdict(list)\n",
        "    for columns, split_scores in zip(columns_to_be_used, val_scores):\n",
        "        for metric_name in metric_names:\n",
        "            split_scores[f'test_{metric_name}'] = np.mean(split_scores[f'test_{metric_name}'])\n",
        "            scores_by_feature_names[' + '.join(columns)].append(split_scores[f'test_{metric_name}'])\n",
        "\n",
        "    return pd.DataFrame(scores_by_feature_names, index=metric_names).T"
      ],
      "execution_count":7,
      "outputs":[
        
      ],
      "metadata":{
        
      }
    },
    {
      "cell_type":"code",
      "source":[
        "def regression_coef(model, X, y):\n",
        "    coef = pd.DataFrame(zip(['intercept'] + X.columns.tolist(), [model.intercept_] + model.coef_.tolist()),\n",
        "                    columns=['predictor', 'coef'])\n",
        "    \n",
        "    X1 = np.append(np.ones((len(X),1)), X, axis=1)\n",
        "    b = np.append(model.intercept_, model.coef_)\n",
        "    MSE = np.sum((model.predict(X) - y) ** 2, axis=0) \/ float(X.shape[0] - X.shape[1])\n",
        "    var_b = MSE * (np.linalg.inv(np.dot(X1.T, X1)).diagonal())\n",
        "    sd_b = np.sqrt(var_b)\n",
        "    t = b \/ sd_b\n",
        "\n",
        "    coef['pvalue'] = [2 * (1 - stats.t.cdf(np.abs(i), (len(X1) - 1))) for i in t]\n",
        "    coef.set_index(['predictor'], inplace=True)\n",
        "    coef.columns.name = coef.index.name\n",
        "    coef.index.name = None\n",
        "\n",
        "    return coef"
      ],
      "execution_count":8,
      "outputs":[
        
      ],
      "metadata":{
        
      }
    },
    {
      "cell_type":"markdown",
      "source":[
        "# Модель на основе площади квартиры"
      ],
      "attachments":{
        
      },
      "metadata":{
        
      }
    },
    {
      "cell_type":"code",
      "source":[
        "fig = px.scatter(flats, x='square_meters', y='price')\n",
        "fig.update_layout(xaxis_title='Площадь (м²)', yaxis_title='Цена (₽)', title='Зависимость цены квартиры от площади')\n",
        "fig.show()"
      ],
      "execution_count":9,
      "outputs":[
        {
          "data":{
            "text\/plain":[
              "Unsupported"
            ]
          },
          "metadata":{
            
          },
          "output_type":"display_data"
        }
      ],
      "metadata":{
        
      }
    },
    {
      "cell_type":"code",
      "source":[
        "poly = PolynomialFeatures(degree=3, include_bias=False)\n",
        "features = poly.fit_transform(flats[['square_meters']])\n",
        "\n",
        "X = pd.DataFrame(features, columns=poly.get_feature_names_out())\n",
        "y = flats['price']\n",
        "\n",
        "pd.concat([X, y], axis=1)"
      ],
      "execution_count":10,
      "outputs":[
        {
          "data":{
            "text\/html":[
              "<div>\n",
              "<style scoped>\n",
              "    .dataframe tbody tr th:only-of-type {\n",
              "        vertical-align: middle;\n",
              "    }\n",
              "\n",
              "    .dataframe tbody tr th {\n",
              "        vertical-align: top;\n",
              "    }\n",
              "\n",
              "    .dataframe thead th {\n",
              "        text-align: right;\n",
              "    }\n",
              "<\/style>\n",
              "<table border=\"1\" class=\"dataframe\">\n",
              "  <thead>\n",
              "    <tr style=\"text-align: right;\">\n",
              "      <th><\/th>\n",
              "      <th>square_meters<\/th>\n",
              "      <th>square_meters^2<\/th>\n",
              "      <th>square_meters^3<\/th>\n",
              "      <th>price<\/th>\n",
              "    <\/tr>\n",
              "  <\/thead>\n",
              "  <tbody>\n",
              "    <tr>\n",
              "      <th>0<\/th>\n",
              "      <td>28.0<\/td>\n",
              "      <td>784.0<\/td>\n",
              "      <td>21952.0<\/td>\n",
              "      <td>7328400<\/td>\n",
              "    <\/tr>\n",
              "    <tr>\n",
              "      <th>1<\/th>\n",
              "      <td>54.0<\/td>\n",
              "      <td>2916.0<\/td>\n",
              "      <td>157464.0<\/td>\n",
              "      <td>9754600<\/td>\n",
              "    <\/tr>\n",
              "    <tr>\n",
              "      <th>2<\/th>\n",
              "      <td>43.0<\/td>\n",
              "      <td>1849.0<\/td>\n",
              "      <td>79507.0<\/td>\n",
              "      <td>6781500<\/td>\n",
              "    <\/tr>\n",
              "    <tr>\n",
              "      <th>3<\/th>\n",
              "      <td>33.0<\/td>\n",
              "      <td>1089.0<\/td>\n",
              "      <td>35937.0<\/td>\n",
              "      <td>6784100<\/td>\n",
              "    <\/tr>\n",
              "    <tr>\n",
              "      <th>4<\/th>\n",
              "      <td>30.0<\/td>\n",
              "      <td>900.0<\/td>\n",
              "      <td>27000.0<\/td>\n",
              "      <td>7296200<\/td>\n",
              "    <\/tr>\n",
              "    <tr>\n",
              "      <th>...<\/th>\n",
              "      <td>...<\/td>\n",
              "      <td>...<\/td>\n",
              "      <td>...<\/td>\n",
              "      <td>...<\/td>\n",
              "    <\/tr>\n",
              "    <tr>\n",
              "      <th>95<\/th>\n",
              "      <td>28.0<\/td>\n",
              "      <td>784.0<\/td>\n",
              "      <td>21952.0<\/td>\n",
              "      <td>4826700<\/td>\n",
              "    <\/tr>\n",
              "    <tr>\n",
              "      <th>96<\/th>\n",
              "      <td>63.0<\/td>\n",
              "      <td>3969.0<\/td>\n",
              "      <td>250047.0<\/td>\n",
              "      <td>6800800<\/td>\n",
              "    <\/tr>\n",
              "    <tr>\n",
              "      <th>97<\/th>\n",
              "      <td>33.0<\/td>\n",
              "      <td>1089.0<\/td>\n",
              "      <td>35937.0<\/td>\n",
              "      <td>6517500<\/td>\n",
              "    <\/tr>\n",
              "    <tr>\n",
              "      <th>98<\/th>\n",
              "      <td>47.0<\/td>\n",
              "      <td>2209.0<\/td>\n",
              "      <td>103823.0<\/td>\n",
              "      <td>6812100<\/td>\n",
              "    <\/tr>\n",
              "    <tr>\n",
              "      <th>99<\/th>\n",
              "      <td>31.0<\/td>\n",
              "      <td>961.0<\/td>\n",
              "      <td>29791.0<\/td>\n",
              "      <td>5583200<\/td>\n",
              "    <\/tr>\n",
              "  <\/tbody>\n",
              "<\/table>\n",
              "<p>100 rows × 4 columns<\/p>\n",
              "<\/div>"
            ]
          },
          "metadata":{
            
          },
          "output_type":"display_data"
        }
      ],
      "metadata":{
        
      }
    },
    {
      "cell_type":"code",
      "source":[
        "fig = px.imshow(pd.concat([X, y], axis=1).corr())\n",
        "fig.update_layout(title='Корреляция между переменными')\n",
        "fig.show()"
      ],
      "execution_count":11,
      "outputs":[
        {
          "data":{
            "text\/plain":[
              "Unsupported"
            ]
          },
          "metadata":{
            
          },
          "output_type":"display_data"
        }
      ],
      "metadata":{
        
      }
    },
    {
      "cell_type":"code",
      "source":[
        "columns_to_be_used = [['square_meters'], ['square_meters^2'], ['square_meters^3']]\n",
        "models = create_and_fit_models(columns_to_be_used, X, y)\n",
        "\n",
        "scores = score_models(models)\n",
        "scores.style.highlight_max()"
      ],
      "execution_count":12,
      "outputs":[
        {
          "data":{
            "text\/html":[
              "<style type=\"text\/css\">\n",
              "#T_3e918_row0_col0, #T_3e918_row0_col1, #T_3e918_row0_col2, #T_3e918_row0_col3 {\n",
              "  background-color: yellow;\n",
              "}\n",
              "<\/style>\n",
              "<table id=\"T_3e918_\">\n",
              "  <thead>\n",
              "    <tr>\n",
              "      <th class=\"blank level0\" >&nbsp;<\/th>\n",
              "      <th class=\"col_heading level0 col0\" >r2<\/th>\n",
              "      <th class=\"col_heading level0 col1\" >max_error<\/th>\n",
              "      <th class=\"col_heading level0 col2\" >neg_mean_absolute_error<\/th>\n",
              "      <th class=\"col_heading level0 col3\" >neg_root_mean_squared_error<\/th>\n",
              "    <\/tr>\n",
              "  <\/thead>\n",
              "  <tbody>\n",
              "    <tr>\n",
              "      <th id=\"T_3e918_level0_row0\" class=\"row_heading level0 row0\" >square_meters<\/th>\n",
              "      <td id=\"T_3e918_row0_col0\" class=\"data row0 col0\" >0.452221<\/td>\n",
              "      <td id=\"T_3e918_row0_col1\" class=\"data row0 col1\" >-2184374.821151<\/td>\n",
              "      <td id=\"T_3e918_row0_col2\" class=\"data row0 col2\" >-990261.942495<\/td>\n",
              "      <td id=\"T_3e918_row0_col3\" class=\"data row0 col3\" >-1141985.127290<\/td>\n",
              "    <\/tr>\n",
              "    <tr>\n",
              "      <th id=\"T_3e918_level0_row1\" class=\"row_heading level0 row1\" >square_meters^2<\/th>\n",
              "      <td id=\"T_3e918_row1_col0\" class=\"data row1 col0\" >0.423938<\/td>\n",
              "      <td id=\"T_3e918_row1_col1\" class=\"data row1 col1\" >-2214253.339918<\/td>\n",
              "      <td id=\"T_3e918_row1_col2\" class=\"data row1 col2\" >-1012542.378197<\/td>\n",
              "      <td id=\"T_3e918_row1_col3\" class=\"data row1 col3\" >-1171095.416708<\/td>\n",
              "    <\/tr>\n",
              "    <tr>\n",
              "      <th id=\"T_3e918_level0_row2\" class=\"row_heading level0 row2\" >square_meters^3<\/th>\n",
              "      <td id=\"T_3e918_row2_col0\" class=\"data row2 col0\" >0.385331<\/td>\n",
              "      <td id=\"T_3e918_row2_col1\" class=\"data row2 col1\" >-2360068.377651<\/td>\n",
              "      <td id=\"T_3e918_row2_col2\" class=\"data row2 col2\" >-1040034.087510<\/td>\n",
              "      <td id=\"T_3e918_row2_col3\" class=\"data row2 col3\" >-1209702.074233<\/td>\n",
              "    <\/tr>\n",
              "  <\/tbody>\n",
              "<\/table>\n"
            ]
          },
          "metadata":{
            
          },
          "output_type":"display_data"
        }
      ],
      "metadata":{
        
      }
    },
    {
      "cell_type":"code",
      "source":[
        "display_model_coefs(models)"
      ],
      "execution_count":13,
      "outputs":[
        {
          "data":{
            "text\/html":[
              "<style type=\"text\/css\">\n",
              "<\/style>\n",
              "<table id=\"T_eec4f_\">\n",
              "  <thead>\n",
              "    <tr>\n",
              "      <th class=\"index_name level0\" >predictor<\/th>\n",
              "      <th class=\"col_heading level0 col0\" >coef<\/th>\n",
              "      <th class=\"col_heading level0 col1\" >pvalue<\/th>\n",
              "    <\/tr>\n",
              "  <\/thead>\n",
              "  <tbody>\n",
              "    <tr>\n",
              "      <th id=\"T_eec4f_level0_row0\" class=\"row_heading level0 row0\" >intercept<\/th>\n",
              "      <td id=\"T_eec4f_row0_col0\" class=\"data row0 col0\" >5799067.1327<\/td>\n",
              "      <td id=\"T_eec4f_row0_col1\" class=\"data row0 col1\" >0.000000e+00<\/td>\n",
              "    <\/tr>\n",
              "    <tr>\n",
              "      <th id=\"T_eec4f_level0_row1\" class=\"row_heading level0 row1\" >square_meters^3<\/th>\n",
              "      <td id=\"T_eec4f_row1_col0\" class=\"data row1 col0\" >10.1322<\/td>\n",
              "      <td id=\"T_eec4f_row1_col1\" class=\"data row1 col1\" >4.377831e-12<\/td>\n",
              "    <\/tr>\n",
              "  <\/tbody>\n",
              "<\/table>\n"
            ]
          },
          "metadata":{
            
          },
          "output_type":"display_data"
        }
      ],
      "metadata":{
        
      }
    },
    {
      "cell_type":"code",
      "source":[
        "scores = perform_cross_validation(columns_to_be_used, X, y, cv=3)\n",
        "scores.style.highlight_max()"
      ],
      "execution_count":14,
      "outputs":[
        {
          "data":{
            "text\/html":[
              "<style type=\"text\/css\">\n",
              "#T_a8f0a_row0_col0, #T_a8f0a_row0_col1, #T_a8f0a_row0_col2, #T_a8f0a_row0_col3 {\n",
              "  background-color: yellow;\n",
              "}\n",
              "<\/style>\n",
              "<table id=\"T_a8f0a_\">\n",
              "  <thead>\n",
              "    <tr>\n",
              "      <th class=\"blank level0\" >&nbsp;<\/th>\n",
              "      <th class=\"col_heading level0 col0\" >r2<\/th>\n",
              "      <th class=\"col_heading level0 col1\" >max_error<\/th>\n",
              "      <th class=\"col_heading level0 col2\" >neg_mean_absolute_error<\/th>\n",
              "      <th class=\"col_heading level0 col3\" >neg_root_mean_squared_error<\/th>\n",
              "    <\/tr>\n",
              "  <\/thead>\n",
              "  <tbody>\n",
              "    <tr>\n",
              "      <th id=\"T_a8f0a_level0_row0\" class=\"row_heading level0 row0\" >square_meters<\/th>\n",
              "      <td id=\"T_a8f0a_row0_col0\" class=\"data row0 col0\" >0.387025<\/td>\n",
              "      <td id=\"T_a8f0a_row0_col1\" class=\"data row0 col1\" >-2203037.197201<\/td>\n",
              "      <td id=\"T_a8f0a_row0_col2\" class=\"data row0 col2\" >-1022485.924633<\/td>\n",
              "      <td id=\"T_a8f0a_row0_col3\" class=\"data row0 col3\" >-1179149.370456<\/td>\n",
              "    <\/tr>\n",
              "    <tr>\n",
              "      <th id=\"T_a8f0a_level0_row1\" class=\"row_heading level0 row1\" >square_meters^2<\/th>\n",
              "      <td id=\"T_a8f0a_row1_col0\" class=\"data row1 col0\" >0.354560<\/td>\n",
              "      <td id=\"T_a8f0a_row1_col1\" class=\"data row1 col1\" >-2232469.501254<\/td>\n",
              "      <td id=\"T_a8f0a_row1_col2\" class=\"data row1 col2\" >-1053052.117444<\/td>\n",
              "      <td id=\"T_a8f0a_row1_col3\" class=\"data row1 col3\" >-1210735.043982<\/td>\n",
              "    <\/tr>\n",
              "    <tr>\n",
              "      <th id=\"T_a8f0a_level0_row2\" class=\"row_heading level0 row2\" >square_meters^3<\/th>\n",
              "      <td id=\"T_a8f0a_row2_col0\" class=\"data row2 col0\" >0.310454<\/td>\n",
              "      <td id=\"T_a8f0a_row2_col1\" class=\"data row2 col1\" >-2447245.063804<\/td>\n",
              "      <td id=\"T_a8f0a_row2_col2\" class=\"data row2 col2\" >-1086208.955876<\/td>\n",
              "      <td id=\"T_a8f0a_row2_col3\" class=\"data row2 col3\" >-1251682.080897<\/td>\n",
              "    <\/tr>\n",
              "  <\/tbody>\n",
              "<\/table>\n"
            ]
          },
          "metadata":{
            
          },
          "output_type":"display_data"
        }
      ],
      "metadata":{
        
      }
    },
    {
      "cell_type":"code",
      "source":[
        "area_model = LinearRegression()\n",
        "area_model.fit(X[['square_meters']], y)\n",
        "\n",
        "fig = go.Figure()\n",
        "fig.add_scatter(x=flats['square_meters'], y=flats['price'], mode='markers', name='Исходные данные')\n",
        "fig.add_scatter(x=X['square_meters'], y=area_model.predict(X[['square_meters']]), name='Модель')\n",
        "fig.update_layout(xaxis_title='Площадь (м²)', yaxis_title='Цена (₽)', title='Зависимость цены квартиры от площади')\n",
        "fig.show()"
      ],
      "execution_count":15,
      "outputs":[
        {
          "data":{
            "text\/plain":[
              "Unsupported"
            ]
          },
          "metadata":{
            
          },
          "output_type":"display_data"
        }
      ],
      "metadata":{
        
      }
    },
    {
      "cell_type":"markdown",
      "source":[
        "# Модель на основе расстояния до метро"
      ],
      "attachments":{
        
      },
      "metadata":{
        
      }
    },
    {
      "cell_type":"code",
      "source":[
        "fig = px.scatter(flats, x='metro_distance', y='price')\n",
        "fig.update_layout(xaxis_title='Расстояние до метро (м)', yaxis_title='Цена (₽)',\n",
        "                  title='Зависимость цены квартиры от расстояния до метро')\n",
        "fig.show()"
      ],
      "execution_count":16,
      "outputs":[
        {
          "data":{
            "text\/plain":[
              "Unsupported"
            ]
          },
          "metadata":{
            
          },
          "output_type":"display_data"
        }
      ],
      "metadata":{
        
      }
    },
    {
      "cell_type":"code",
      "source":[
        "poly = PolynomialFeatures(degree=3, include_bias=False)\n",
        "features = poly.fit_transform(flats[['metro_distance']])\n",
        "\n",
        "X = pd.DataFrame(features, columns=poly.get_feature_names_out())\n",
        "y = flats['price']\n",
        "\n",
        "pd.concat([X, y], axis=1)"
      ],
      "execution_count":17,
      "outputs":[
        {
          "data":{
            "text\/html":[
              "<div>\n",
              "<style scoped>\n",
              "    .dataframe tbody tr th:only-of-type {\n",
              "        vertical-align: middle;\n",
              "    }\n",
              "\n",
              "    .dataframe tbody tr th {\n",
              "        vertical-align: top;\n",
              "    }\n",
              "\n",
              "    .dataframe thead th {\n",
              "        text-align: right;\n",
              "    }\n",
              "<\/style>\n",
              "<table border=\"1\" class=\"dataframe\">\n",
              "  <thead>\n",
              "    <tr style=\"text-align: right;\">\n",
              "      <th><\/th>\n",
              "      <th>metro_distance<\/th>\n",
              "      <th>metro_distance^2<\/th>\n",
              "      <th>metro_distance^3<\/th>\n",
              "      <th>price<\/th>\n",
              "    <\/tr>\n",
              "  <\/thead>\n",
              "  <tbody>\n",
              "    <tr>\n",
              "      <th>0<\/th>\n",
              "      <td>677.0<\/td>\n",
              "      <td>458329.0<\/td>\n",
              "      <td>3.102887e+08<\/td>\n",
              "      <td>7328400<\/td>\n",
              "    <\/tr>\n",
              "    <tr>\n",
              "      <th>1<\/th>\n",
              "      <td>120.0<\/td>\n",
              "      <td>14400.0<\/td>\n",
              "      <td>1.728000e+06<\/td>\n",
              "      <td>9754600<\/td>\n",
              "    <\/tr>\n",
              "    <tr>\n",
              "      <th>2<\/th>\n",
              "      <td>1344.0<\/td>\n",
              "      <td>1806336.0<\/td>\n",
              "      <td>2.427716e+09<\/td>\n",
              "      <td>6781500<\/td>\n",
              "    <\/tr>\n",
              "    <tr>\n",
              "      <th>3<\/th>\n",
              "      <td>1003.0<\/td>\n",
              "      <td>1006009.0<\/td>\n",
              "      <td>1.009027e+09<\/td>\n",
              "      <td>6784100<\/td>\n",
              "    <\/tr>\n",
              "    <tr>\n",
              "      <th>4<\/th>\n",
              "      <td>591.0<\/td>\n",
              "      <td>349281.0<\/td>\n",
              "      <td>2.064251e+08<\/td>\n",
              "      <td>7296200<\/td>\n",
              "    <\/tr>\n",
              "    <tr>\n",
              "      <th>...<\/th>\n",
              "      <td>...<\/td>\n",
              "      <td>...<\/td>\n",
              "      <td>...<\/td>\n",
              "      <td>...<\/td>\n",
              "    <\/tr>\n",
              "    <tr>\n",
              "      <th>95<\/th>\n",
              "      <td>2073.0<\/td>\n",
              "      <td>4297329.0<\/td>\n",
              "      <td>8.908363e+09<\/td>\n",
              "      <td>4826700<\/td>\n",
              "    <\/tr>\n",
              "    <tr>\n",
              "      <th>96<\/th>\n",
              "      <td>2120.0<\/td>\n",
              "      <td>4494400.0<\/td>\n",
              "      <td>9.528128e+09<\/td>\n",
              "      <td>6800800<\/td>\n",
              "    <\/tr>\n",
              "    <tr>\n",
              "      <th>97<\/th>\n",
              "      <td>1411.0<\/td>\n",
              "      <td>1990921.0<\/td>\n",
              "      <td>2.809190e+09<\/td>\n",
              "      <td>6517500<\/td>\n",
              "    <\/tr>\n",
              "    <tr>\n",
              "      <th>98<\/th>\n",
              "      <td>1715.0<\/td>\n",
              "      <td>2941225.0<\/td>\n",
              "      <td>5.044201e+09<\/td>\n",
              "      <td>6812100<\/td>\n",
              "    <\/tr>\n",
              "    <tr>\n",
              "      <th>99<\/th>\n",
              "      <td>1785.0<\/td>\n",
              "      <td>3186225.0<\/td>\n",
              "      <td>5.687412e+09<\/td>\n",
              "      <td>5583200<\/td>\n",
              "    <\/tr>\n",
              "  <\/tbody>\n",
              "<\/table>\n",
              "<p>100 rows × 4 columns<\/p>\n",
              "<\/div>"
            ]
          },
          "metadata":{
            
          },
          "output_type":"display_data"
        }
      ],
      "metadata":{
        
      }
    },
    {
      "cell_type":"code",
      "source":[
        "fig = px.imshow(pd.concat([X, y], axis=1).corr())\n",
        "fig.update_layout(title='Корреляция между переменными')\n",
        "fig.show()"
      ],
      "execution_count":18,
      "outputs":[
        {
          "data":{
            "text\/plain":[
              "Unsupported"
            ]
          },
          "metadata":{
            
          },
          "output_type":"display_data"
        }
      ],
      "metadata":{
        
      }
    },
    {
      "cell_type":"code",
      "source":[
        "columns_to_be_used = [['metro_distance'], ['metro_distance^2'], ['metro_distance^3']]\n",
        "models = create_and_fit_models(columns_to_be_used, X, y)\n",
        "\n",
        "scores = score_models(models)\n",
        "scores.style.highlight_max()"
      ],
      "execution_count":19,
      "outputs":[
        {
          "data":{
            "text\/html":[
              "<style type=\"text\/css\">\n",
              "#T_194c5_row0_col0, #T_194c5_row0_col1, #T_194c5_row0_col2, #T_194c5_row0_col3 {\n",
              "  background-color: yellow;\n",
              "}\n",
              "<\/style>\n",
              "<table id=\"T_194c5_\">\n",
              "  <thead>\n",
              "    <tr>\n",
              "      <th class=\"blank level0\" >&nbsp;<\/th>\n",
              "      <th class=\"col_heading level0 col0\" >r2<\/th>\n",
              "      <th class=\"col_heading level0 col1\" >max_error<\/th>\n",
              "      <th class=\"col_heading level0 col2\" >neg_mean_absolute_error<\/th>\n",
              "      <th class=\"col_heading level0 col3\" >neg_root_mean_squared_error<\/th>\n",
              "    <\/tr>\n",
              "  <\/thead>\n",
              "  <tbody>\n",
              "    <tr>\n",
              "      <th id=\"T_194c5_level0_row0\" class=\"row_heading level0 row0\" >metro_distance<\/th>\n",
              "      <td id=\"T_194c5_row0_col0\" class=\"data row0 col0\" >0.577598<\/td>\n",
              "      <td id=\"T_194c5_row0_col1\" class=\"data row0 col1\" >-1794925.935491<\/td>\n",
              "      <td id=\"T_194c5_row0_col2\" class=\"data row0 col2\" >-870605.158410<\/td>\n",
              "      <td id=\"T_194c5_row0_col3\" class=\"data row0 col3\" >-1002814.034524<\/td>\n",
              "    <\/tr>\n",
              "    <tr>\n",
              "      <th id=\"T_194c5_level0_row1\" class=\"row_heading level0 row1\" >metro_distance^2<\/th>\n",
              "      <td id=\"T_194c5_row1_col0\" class=\"data row1 col0\" >0.545542<\/td>\n",
              "      <td id=\"T_194c5_row1_col1\" class=\"data row1 col1\" >-1929858.297767<\/td>\n",
              "      <td id=\"T_194c5_row1_col2\" class=\"data row1 col2\" >-902276.593923<\/td>\n",
              "      <td id=\"T_194c5_row1_col3\" class=\"data row1 col3\" >-1040170.556806<\/td>\n",
              "    <\/tr>\n",
              "    <tr>\n",
              "      <th id=\"T_194c5_level0_row2\" class=\"row_heading level0 row2\" >metro_distance^3<\/th>\n",
              "      <td id=\"T_194c5_row2_col0\" class=\"data row2 col0\" >0.497292<\/td>\n",
              "      <td id=\"T_194c5_row2_col1\" class=\"data row2 col1\" >-2075765.780396<\/td>\n",
              "      <td id=\"T_194c5_row2_col2\" class=\"data row2 col2\" >-946335.752795<\/td>\n",
              "      <td id=\"T_194c5_row2_col3\" class=\"data row2 col3\" >-1093995.275219<\/td>\n",
              "    <\/tr>\n",
              "  <\/tbody>\n",
              "<\/table>\n"
            ]
          },
          "metadata":{
            
          },
          "output_type":"display_data"
        }
      ],
      "metadata":{
        
      }
    },
    {
      "cell_type":"code",
      "source":[
        "display_model_coefs(models)"
      ],
      "execution_count":20,
      "outputs":[
        {
          "data":{
            "text\/html":[
              "<style type=\"text\/css\">\n",
              "<\/style>\n",
              "<table id=\"T_2e459_\">\n",
              "  <thead>\n",
              "    <tr>\n",
              "      <th class=\"index_name level0\" >predictor<\/th>\n",
              "      <th class=\"col_heading level0 col0\" >coef<\/th>\n",
              "      <th class=\"col_heading level0 col1\" >pvalue<\/th>\n",
              "    <\/tr>\n",
              "  <\/thead>\n",
              "  <tbody>\n",
              "    <tr>\n",
              "      <th id=\"T_2e459_level0_row0\" class=\"row_heading level0 row0\" >intercept<\/th>\n",
              "      <td id=\"T_2e459_row0_col0\" class=\"data row0 col0\" >7810197.3189<\/td>\n",
              "      <td id=\"T_2e459_row0_col1\" class=\"data row0 col1\" >0.000000e+00<\/td>\n",
              "    <\/tr>\n",
              "    <tr>\n",
              "      <th id=\"T_2e459_level0_row1\" class=\"row_heading level0 row1\" >metro_distance^3<\/th>\n",
              "      <td id=\"T_2e459_row1_col0\" class=\"data row1 col0\" >-0.0002<\/td>\n",
              "      <td id=\"T_2e459_row1_col1\" class=\"data row1 col1\" >2.220446e-16<\/td>\n",
              "    <\/tr>\n",
              "  <\/tbody>\n",
              "<\/table>\n"
            ]
          },
          "metadata":{
            
          },
          "output_type":"display_data"
        }
      ],
      "metadata":{
        
      }
    },
    {
      "cell_type":"code",
      "source":[
        "scores = perform_cross_validation(columns_to_be_used, X, y, cv=3)\n",
        "scores.style.highlight_max()"
      ],
      "execution_count":21,
      "outputs":[
        {
          "data":{
            "text\/html":[
              "<style type=\"text\/css\">\n",
              "#T_33719_row0_col0, #T_33719_row0_col1, #T_33719_row0_col2, #T_33719_row0_col3 {\n",
              "  background-color: yellow;\n",
              "}\n",
              "<\/style>\n",
              "<table id=\"T_33719_\">\n",
              "  <thead>\n",
              "    <tr>\n",
              "      <th class=\"blank level0\" >&nbsp;<\/th>\n",
              "      <th class=\"col_heading level0 col0\" >r2<\/th>\n",
              "      <th class=\"col_heading level0 col1\" >max_error<\/th>\n",
              "      <th class=\"col_heading level0 col2\" >neg_mean_absolute_error<\/th>\n",
              "      <th class=\"col_heading level0 col3\" >neg_root_mean_squared_error<\/th>\n",
              "    <\/tr>\n",
              "  <\/thead>\n",
              "  <tbody>\n",
              "    <tr>\n",
              "      <th id=\"T_33719_level0_row0\" class=\"row_heading level0 row0\" >metro_distance<\/th>\n",
              "      <td id=\"T_33719_row0_col0\" class=\"data row0 col0\" >0.556349<\/td>\n",
              "      <td id=\"T_33719_row0_col1\" class=\"data row0 col1\" >-1820263.978298<\/td>\n",
              "      <td id=\"T_33719_row0_col2\" class=\"data row0 col2\" >-878291.065020<\/td>\n",
              "      <td id=\"T_33719_row0_col3\" class=\"data row0 col3\" >-1009740.654692<\/td>\n",
              "    <\/tr>\n",
              "    <tr>\n",
              "      <th id=\"T_33719_level0_row1\" class=\"row_heading level0 row1\" >metro_distance^2<\/th>\n",
              "      <td id=\"T_33719_row1_col0\" class=\"data row1 col0\" >0.523045<\/td>\n",
              "      <td id=\"T_33719_row1_col1\" class=\"data row1 col1\" >-1885019.837535<\/td>\n",
              "      <td id=\"T_33719_row1_col2\" class=\"data row1 col2\" >-904803.022129<\/td>\n",
              "      <td id=\"T_33719_row1_col3\" class=\"data row1 col3\" >-1046705.776340<\/td>\n",
              "    <\/tr>\n",
              "    <tr>\n",
              "      <th id=\"T_33719_level0_row2\" class=\"row_heading level0 row2\" >metro_distance^3<\/th>\n",
              "      <td id=\"T_33719_row2_col0\" class=\"data row2 col0\" >0.471662<\/td>\n",
              "      <td id=\"T_33719_row2_col1\" class=\"data row2 col1\" >-2048985.892890<\/td>\n",
              "      <td id=\"T_33719_row2_col2\" class=\"data row2 col2\" >-946618.613970<\/td>\n",
              "      <td id=\"T_33719_row2_col3\" class=\"data row2 col3\" >-1101412.971701<\/td>\n",
              "    <\/tr>\n",
              "  <\/tbody>\n",
              "<\/table>\n"
            ]
          },
          "metadata":{
            
          },
          "output_type":"display_data"
        }
      ],
      "metadata":{
        
      }
    },
    {
      "cell_type":"code",
      "source":[
        "metro_model = LinearRegression()\n",
        "metro_model.fit(X[['metro_distance']], y)\n",
        "\n",
        "fig = go.Figure()\n",
        "fig.add_scatter(x=flats['metro_distance'], y=flats['price'], mode='markers', name='Исходные данные')\n",
        "fig.add_scatter(x=X['metro_distance'], y=metro_model.predict(X[['metro_distance']]), name='Модель')\n",
        "fig.update_layout(xaxis_title='Расстояние до метро (м)', yaxis_title='Цена (₽)',\n",
        "                  title='Зависимость цены квартиры от расстояния до метро')\n",
        "fig.show()"
      ],
      "execution_count":22,
      "outputs":[
        {
          "data":{
            "text\/plain":[
              "Unsupported"
            ]
          },
          "metadata":{
            
          },
          "output_type":"display_data"
        }
      ],
      "metadata":{
        
      }
    },
    {
      "cell_type":"markdown",
      "source":[
        "# Модель на основе площади квартиры и расстояния до метро"
      ],
      "attachments":{
        
      },
      "metadata":{
        
      }
    },
    {
      "cell_type":"code",
      "source":[
        "fig = px.scatter_3d(flats, x='square_meters', y='metro_distance', z='price')\n",
        "fig.update_layout(scene={'xaxis_title': 'Площадь (м²)', 'yaxis_title': 'Расстояние до метро (м)', 'zaxis_title': 'Цена (₽)'},\n",
        "                  title='Зависимость цены квартиры от площади и расстояния до метро')\n",
        "fig.show()"
      ],
      "execution_count":23,
      "outputs":[
        {
          "data":{
            "text\/plain":[
              "Unsupported"
            ]
          },
          "metadata":{
            
          },
          "output_type":"display_data"
        }
      ],
      "metadata":{
        
      }
    },
    {
      "cell_type":"code",
      "source":[
        "poly = PolynomialFeatures(degree=2, include_bias=False)\n",
        "features = poly.fit_transform(flats[['square_meters', 'metro_distance']])\n",
        "\n",
        "X = pd.DataFrame(features, columns=poly.get_feature_names_out())\n",
        "y = flats['price']\n",
        "\n",
        "pd.concat([X, y], axis=1)"
      ],
      "execution_count":24,
      "outputs":[
        {
          "data":{
            "text\/html":[
              "<div>\n",
              "<style scoped>\n",
              "    .dataframe tbody tr th:only-of-type {\n",
              "        vertical-align: middle;\n",
              "    }\n",
              "\n",
              "    .dataframe tbody tr th {\n",
              "        vertical-align: top;\n",
              "    }\n",
              "\n",
              "    .dataframe thead th {\n",
              "        text-align: right;\n",
              "    }\n",
              "<\/style>\n",
              "<table border=\"1\" class=\"dataframe\">\n",
              "  <thead>\n",
              "    <tr style=\"text-align: right;\">\n",
              "      <th><\/th>\n",
              "      <th>square_meters<\/th>\n",
              "      <th>metro_distance<\/th>\n",
              "      <th>square_meters^2<\/th>\n",
              "      <th>square_meters metro_distance<\/th>\n",
              "      <th>metro_distance^2<\/th>\n",
              "      <th>price<\/th>\n",
              "    <\/tr>\n",
              "  <\/thead>\n",
              "  <tbody>\n",
              "    <tr>\n",
              "      <th>0<\/th>\n",
              "      <td>28.0<\/td>\n",
              "      <td>677.0<\/td>\n",
              "      <td>784.0<\/td>\n",
              "      <td>18956.0<\/td>\n",
              "      <td>458329.0<\/td>\n",
              "      <td>7328400<\/td>\n",
              "    <\/tr>\n",
              "    <tr>\n",
              "      <th>1<\/th>\n",
              "      <td>54.0<\/td>\n",
              "      <td>120.0<\/td>\n",
              "      <td>2916.0<\/td>\n",
              "      <td>6480.0<\/td>\n",
              "      <td>14400.0<\/td>\n",
              "      <td>9754600<\/td>\n",
              "    <\/tr>\n",
              "    <tr>\n",
              "      <th>2<\/th>\n",
              "      <td>43.0<\/td>\n",
              "      <td>1344.0<\/td>\n",
              "      <td>1849.0<\/td>\n",
              "      <td>57792.0<\/td>\n",
              "      <td>1806336.0<\/td>\n",
              "      <td>6781500<\/td>\n",
              "    <\/tr>\n",
              "    <tr>\n",
              "      <th>3<\/th>\n",
              "      <td>33.0<\/td>\n",
              "      <td>1003.0<\/td>\n",
              "      <td>1089.0<\/td>\n",
              "      <td>33099.0<\/td>\n",
              "      <td>1006009.0<\/td>\n",
              "      <td>6784100<\/td>\n",
              "    <\/tr>\n",
              "    <tr>\n",
              "      <th>4<\/th>\n",
              "      <td>30.0<\/td>\n",
              "      <td>591.0<\/td>\n",
              "      <td>900.0<\/td>\n",
              "      <td>17730.0<\/td>\n",
              "      <td>349281.0<\/td>\n",
              "      <td>7296200<\/td>\n",
              "    <\/tr>\n",
              "    <tr>\n",
              "      <th>...<\/th>\n",
              "      <td>...<\/td>\n",
              "      <td>...<\/td>\n",
              "      <td>...<\/td>\n",
              "      <td>...<\/td>\n",
              "      <td>...<\/td>\n",
              "      <td>...<\/td>\n",
              "    <\/tr>\n",
              "    <tr>\n",
              "      <th>95<\/th>\n",
              "      <td>28.0<\/td>\n",
              "      <td>2073.0<\/td>\n",
              "      <td>784.0<\/td>\n",
              "      <td>58044.0<\/td>\n",
              "      <td>4297329.0<\/td>\n",
              "      <td>4826700<\/td>\n",
              "    <\/tr>\n",
              "    <tr>\n",
              "      <th>96<\/th>\n",
              "      <td>63.0<\/td>\n",
              "      <td>2120.0<\/td>\n",
              "      <td>3969.0<\/td>\n",
              "      <td>133560.0<\/td>\n",
              "      <td>4494400.0<\/td>\n",
              "      <td>6800800<\/td>\n",
              "    <\/tr>\n",
              "    <tr>\n",
              "      <th>97<\/th>\n",
              "      <td>33.0<\/td>\n",
              "      <td>1411.0<\/td>\n",
              "      <td>1089.0<\/td>\n",
              "      <td>46563.0<\/td>\n",
              "      <td>1990921.0<\/td>\n",
              "      <td>6517500<\/td>\n",
              "    <\/tr>\n",
              "    <tr>\n",
              "      <th>98<\/th>\n",
              "      <td>47.0<\/td>\n",
              "      <td>1715.0<\/td>\n",
              "      <td>2209.0<\/td>\n",
              "      <td>80605.0<\/td>\n",
              "      <td>2941225.0<\/td>\n",
              "      <td>6812100<\/td>\n",
              "    <\/tr>\n",
              "    <tr>\n",
              "      <th>99<\/th>\n",
              "      <td>31.0<\/td>\n",
              "      <td>1785.0<\/td>\n",
              "      <td>961.0<\/td>\n",
              "      <td>55335.0<\/td>\n",
              "      <td>3186225.0<\/td>\n",
              "      <td>5583200<\/td>\n",
              "    <\/tr>\n",
              "  <\/tbody>\n",
              "<\/table>\n",
              "<p>100 rows × 6 columns<\/p>\n",
              "<\/div>"
            ]
          },
          "metadata":{
            
          },
          "output_type":"display_data"
        }
      ],
      "metadata":{
        
      }
    },
    {
      "cell_type":"code",
      "source":[
        "fig = px.imshow(pd.concat([X, y], axis=1).corr())\n",
        "fig.update_layout(title='Корреляция между переменными')"
      ],
      "execution_count":25,
      "outputs":[
        {
          "data":{
            "text\/plain":[
              "Unsupported"
            ]
          },
          "metadata":{
            
          },
          "output_type":"display_data"
        }
      ],
      "metadata":{
        
      }
    },
    {
      "cell_type":"code",
      "source":[
        "columns_to_be_used = [['square_meters', 'metro_distance'],\n",
        "                      ['square_meters', 'metro_distance', 'square_meters metro_distance'],\n",
        "                      ['square_meters^2', 'metro_distance^2'],\n",
        "                      ['square_meters^2', 'metro_distance^2', 'square_meters metro_distance']]\n",
        "models = create_and_fit_models(columns_to_be_used, X, y)\n",
        "\n",
        "scores = score_models(models)\n",
        "scores.style.highlight_max()"
      ],
      "execution_count":26,
      "outputs":[
        {
          "data":{
            "text\/html":[
              "<style type=\"text\/css\">\n",
              "#T_256e7_row0_col1, #T_256e7_row1_col0, #T_256e7_row1_col2, #T_256e7_row1_col3 {\n",
              "  background-color: yellow;\n",
              "}\n",
              "<\/style>\n",
              "<table id=\"T_256e7_\">\n",
              "  <thead>\n",
              "    <tr>\n",
              "      <th class=\"blank level0\" >&nbsp;<\/th>\n",
              "      <th class=\"col_heading level0 col0\" >r2<\/th>\n",
              "      <th class=\"col_heading level0 col1\" >max_error<\/th>\n",
              "      <th class=\"col_heading level0 col2\" >neg_mean_absolute_error<\/th>\n",
              "      <th class=\"col_heading level0 col3\" >neg_root_mean_squared_error<\/th>\n",
              "    <\/tr>\n",
              "  <\/thead>\n",
              "  <tbody>\n",
              "    <tr>\n",
              "      <th id=\"T_256e7_level0_row0\" class=\"row_heading level0 row0\" >square_meters + metro_distance<\/th>\n",
              "      <td id=\"T_256e7_row0_col0\" class=\"data row0 col0\" >0.977458<\/td>\n",
              "      <td id=\"T_256e7_row0_col1\" class=\"data row0 col1\" >-468912.499566<\/td>\n",
              "      <td id=\"T_256e7_row0_col2\" class=\"data row0 col2\" >-188069.835656<\/td>\n",
              "      <td id=\"T_256e7_row0_col3\" class=\"data row0 col3\" >-231660.844156<\/td>\n",
              "    <\/tr>\n",
              "    <tr>\n",
              "      <th id=\"T_256e7_level0_row1\" class=\"row_heading level0 row1\" >square_meters + metro_distance + square_meters metro_distance<\/th>\n",
              "      <td id=\"T_256e7_row1_col0\" class=\"data row1 col0\" >0.977480<\/td>\n",
              "      <td id=\"T_256e7_row1_col1\" class=\"data row1 col1\" >-477542.734832<\/td>\n",
              "      <td id=\"T_256e7_row1_col2\" class=\"data row1 col2\" >-187830.203066<\/td>\n",
              "      <td id=\"T_256e7_row1_col3\" class=\"data row1 col3\" >-231550.117670<\/td>\n",
              "    <\/tr>\n",
              "    <tr>\n",
              "      <th id=\"T_256e7_level0_row2\" class=\"row_heading level0 row2\" >square_meters^2 + metro_distance^2<\/th>\n",
              "      <td id=\"T_256e7_row2_col0\" class=\"data row2 col0\" >0.942989<\/td>\n",
              "      <td id=\"T_256e7_row2_col1\" class=\"data row2 col1\" >-981051.723072<\/td>\n",
              "      <td id=\"T_256e7_row2_col2\" class=\"data row2 col2\" >-305514.830113<\/td>\n",
              "      <td id=\"T_256e7_row2_col3\" class=\"data row2 col3\" >-368415.901210<\/td>\n",
              "    <\/tr>\n",
              "    <tr>\n",
              "      <th id=\"T_256e7_level0_row3\" class=\"row_heading level0 row3\" >square_meters^2 + metro_distance^2 + square_meters metro_distance<\/th>\n",
              "      <td id=\"T_256e7_row3_col0\" class=\"data row3 col0\" >0.947349<\/td>\n",
              "      <td id=\"T_256e7_row3_col1\" class=\"data row3 col1\" >-965513.603033<\/td>\n",
              "      <td id=\"T_256e7_row3_col2\" class=\"data row3 col2\" >-287539.055507<\/td>\n",
              "      <td id=\"T_256e7_row3_col3\" class=\"data row3 col3\" >-354047.900904<\/td>\n",
              "    <\/tr>\n",
              "  <\/tbody>\n",
              "<\/table>\n"
            ]
          },
          "metadata":{
            
          },
          "output_type":"display_data"
        }
      ],
      "metadata":{
        
      }
    },
    {
      "cell_type":"code",
      "source":[
        "display_model_coefs(models)"
      ],
      "execution_count":27,
      "outputs":[
        {
          "data":{
            "text\/html":[
              "<style type=\"text\/css\">\n",
              "<\/style>\n",
              "<table id=\"T_1daa5_\">\n",
              "  <thead>\n",
              "    <tr>\n",
              "      <th class=\"index_name level0\" >predictor<\/th>\n",
              "      <th class=\"col_heading level0 col0\" >coef<\/th>\n",
              "      <th class=\"col_heading level0 col1\" >pvalue<\/th>\n",
              "    <\/tr>\n",
              "  <\/thead>\n",
              "  <tbody>\n",
              "    <tr>\n",
              "      <th id=\"T_1daa5_level0_row0\" class=\"row_heading level0 row0\" >intercept<\/th>\n",
              "      <td id=\"T_1daa5_row0_col0\" class=\"data row0 col0\" >6648850.4674<\/td>\n",
              "      <td id=\"T_1daa5_row0_col1\" class=\"data row0 col1\" >0.000000e+00<\/td>\n",
              "    <\/tr>\n",
              "    <tr>\n",
              "      <th id=\"T_1daa5_level0_row1\" class=\"row_heading level0 row1\" >square_meters^2<\/th>\n",
              "      <td id=\"T_1daa5_row1_col0\" class=\"data row1 col0\" >815.4056<\/td>\n",
              "      <td id=\"T_1daa5_row1_col1\" class=\"data row1 col1\" >0.000000e+00<\/td>\n",
              "    <\/tr>\n",
              "    <tr>\n",
              "      <th id=\"T_1daa5_level0_row2\" class=\"row_heading level0 row2\" >metro_distance^2<\/th>\n",
              "      <td id=\"T_1daa5_row2_col0\" class=\"data row2 col0\" >-0.4958<\/td>\n",
              "      <td id=\"T_1daa5_row2_col1\" class=\"data row2 col1\" >0.000000e+00<\/td>\n",
              "    <\/tr>\n",
              "    <tr>\n",
              "      <th id=\"T_1daa5_level0_row3\" class=\"row_heading level0 row3\" >square_meters metro_distance<\/th>\n",
              "      <td id=\"T_1daa5_row3_col0\" class=\"data row3 col0\" >-6.7275<\/td>\n",
              "      <td id=\"T_1daa5_row3_col1\" class=\"data row3 col1\" >5.568906e-03<\/td>\n",
              "    <\/tr>\n",
              "  <\/tbody>\n",
              "<\/table>\n"
            ]
          },
          "metadata":{
            
          },
          "output_type":"display_data"
        }
      ],
      "metadata":{
        
      }
    },
    {
      "cell_type":"code",
      "source":[
        "scores = perform_cross_validation(columns_to_be_used, X, y, cv=3)\n",
        "scores.style.highlight_max()"
      ],
      "execution_count":28,
      "outputs":[
        {
          "data":{
            "text\/html":[
              "<style type=\"text\/css\">\n",
              "#T_bb1ff_row0_col0, #T_bb1ff_row0_col1, #T_bb1ff_row0_col2, #T_bb1ff_row0_col3 {\n",
              "  background-color: yellow;\n",
              "}\n",
              "<\/style>\n",
              "<table id=\"T_bb1ff_\">\n",
              "  <thead>\n",
              "    <tr>\n",
              "      <th class=\"blank level0\" >&nbsp;<\/th>\n",
              "      <th class=\"col_heading level0 col0\" >r2<\/th>\n",
              "      <th class=\"col_heading level0 col1\" >max_error<\/th>\n",
              "      <th class=\"col_heading level0 col2\" >neg_mean_absolute_error<\/th>\n",
              "      <th class=\"col_heading level0 col3\" >neg_root_mean_squared_error<\/th>\n",
              "    <\/tr>\n",
              "  <\/thead>\n",
              "  <tbody>\n",
              "    <tr>\n",
              "      <th id=\"T_bb1ff_level0_row0\" class=\"row_heading level0 row0\" >square_meters + metro_distance<\/th>\n",
              "      <td id=\"T_bb1ff_row0_col0\" class=\"data row0 col0\" >0.975159<\/td>\n",
              "      <td id=\"T_bb1ff_row0_col1\" class=\"data row0 col1\" >-486071.148972<\/td>\n",
              "      <td id=\"T_bb1ff_row0_col2\" class=\"data row0 col2\" >-198798.078751<\/td>\n",
              "      <td id=\"T_bb1ff_row0_col3\" class=\"data row0 col3\" >-239727.152503<\/td>\n",
              "    <\/tr>\n",
              "    <tr>\n",
              "      <th id=\"T_bb1ff_level0_row1\" class=\"row_heading level0 row1\" >square_meters + metro_distance + square_meters metro_distance<\/th>\n",
              "      <td id=\"T_bb1ff_row1_col0\" class=\"data row1 col0\" >0.974325<\/td>\n",
              "      <td id=\"T_bb1ff_row1_col1\" class=\"data row1 col1\" >-510081.774306<\/td>\n",
              "      <td id=\"T_bb1ff_row1_col2\" class=\"data row1 col2\" >-201892.737591<\/td>\n",
              "      <td id=\"T_bb1ff_row1_col3\" class=\"data row1 col3\" >-243618.326519<\/td>\n",
              "    <\/tr>\n",
              "    <tr>\n",
              "      <th id=\"T_bb1ff_level0_row2\" class=\"row_heading level0 row2\" >square_meters^2 + metro_distance^2<\/th>\n",
              "      <td id=\"T_bb1ff_row2_col0\" class=\"data row2 col0\" >0.936035<\/td>\n",
              "      <td id=\"T_bb1ff_row2_col1\" class=\"data row2 col1\" >-823993.014414<\/td>\n",
              "      <td id=\"T_bb1ff_row2_col2\" class=\"data row2 col2\" >-315148.250434<\/td>\n",
              "      <td id=\"T_bb1ff_row2_col3\" class=\"data row2 col3\" >-379047.825932<\/td>\n",
              "    <\/tr>\n",
              "    <tr>\n",
              "      <th id=\"T_bb1ff_level0_row3\" class=\"row_heading level0 row3\" >square_meters^2 + metro_distance^2 + square_meters metro_distance<\/th>\n",
              "      <td id=\"T_bb1ff_row3_col0\" class=\"data row3 col0\" >0.938875<\/td>\n",
              "      <td id=\"T_bb1ff_row3_col1\" class=\"data row3 col1\" >-732715.320577<\/td>\n",
              "      <td id=\"T_bb1ff_row3_col2\" class=\"data row3 col2\" >-307162.295228<\/td>\n",
              "      <td id=\"T_bb1ff_row3_col3\" class=\"data row3 col3\" >-371181.383373<\/td>\n",
              "    <\/tr>\n",
              "  <\/tbody>\n",
              "<\/table>\n"
            ]
          },
          "metadata":{
            
          },
          "output_type":"display_data"
        }
      ],
      "metadata":{
        
      }
    },
    {
      "cell_type":"code",
      "source":[
        "area_metro_model = LinearRegression()\n",
        "area_metro_model.fit(X[['square_meters', 'metro_distance']], y)\n",
        "\n",
        "fig = go.Figure()\n",
        "fig.add_scatter3d(x=flats['square_meters'], y=flats['metro_distance'], z=flats['price'], mode='markers',\n",
        "                  name='Исходные данные')\n",
        "fig.add_mesh3d(x=X['square_meters'], y=X['metro_distance'],\n",
        "               z=area_metro_model.predict(X[['square_meters', 'metro_distance']]), name='Модель')\n",
        "fig.update_layout(\n",
        "    scene={'xaxis_title': 'Площадь (м²)', 'yaxis_title': 'Расстояние до метро (м)', 'zaxis_title': 'Цена (₽)'},\n",
        "    title='Зависимость цены квартиры от площади и расстояния до метро', showlegend=True)\n",
        "fig.show()"
      ],
      "execution_count":29,
      "outputs":[
        {
          "data":{
            "text\/plain":[
              "Unsupported"
            ]
          },
          "metadata":{
            
          },
          "output_type":"display_data"
        }
      ],
      "metadata":{
        
      }
    },
    {
      "cell_type":"markdown",
      "source":[
        "# Результат"
      ],
      "attachments":{
        
      },
      "metadata":{
        
      }
    },
    {
      "cell_type":"code",
      "source":[
        "poly = PolynomialFeatures(degree=2, include_bias=False)\n",
        "features = poly.fit_transform(flats[['square_meters', 'metro_distance']])\n",
        "\n",
        "X = pd.DataFrame(features, columns=poly.get_feature_names_out())\n",
        "y = flats['price']"
      ],
      "execution_count":30,
      "outputs":[
        
      ],
      "metadata":{
        
      }
    },
    {
      "cell_type":"code",
      "source":[
        "columns_to_be_used = [['square_meters'], ['metro_distance'], ['square_meters', 'metro_distance']]\n",
        "models = create_and_fit_models(columns_to_be_used, X, y)\n",
        "\n",
        "scores = score_models(models)\n",
        "scores.style.highlight_max()"
      ],
      "execution_count":31,
      "outputs":[
        {
          "data":{
            "text\/html":[
              "<style type=\"text\/css\">\n",
              "#T_2dd59_row2_col0, #T_2dd59_row2_col1, #T_2dd59_row2_col2, #T_2dd59_row2_col3 {\n",
              "  background-color: yellow;\n",
              "}\n",
              "<\/style>\n",
              "<table id=\"T_2dd59_\">\n",
              "  <thead>\n",
              "    <tr>\n",
              "      <th class=\"blank level0\" >&nbsp;<\/th>\n",
              "      <th class=\"col_heading level0 col0\" >r2<\/th>\n",
              "      <th class=\"col_heading level0 col1\" >max_error<\/th>\n",
              "      <th class=\"col_heading level0 col2\" >neg_mean_absolute_error<\/th>\n",
              "      <th class=\"col_heading level0 col3\" >neg_root_mean_squared_error<\/th>\n",
              "    <\/tr>\n",
              "  <\/thead>\n",
              "  <tbody>\n",
              "    <tr>\n",
              "      <th id=\"T_2dd59_level0_row0\" class=\"row_heading level0 row0\" >square_meters<\/th>\n",
              "      <td id=\"T_2dd59_row0_col0\" class=\"data row0 col0\" >0.452221<\/td>\n",
              "      <td id=\"T_2dd59_row0_col1\" class=\"data row0 col1\" >-2184374.821151<\/td>\n",
              "      <td id=\"T_2dd59_row0_col2\" class=\"data row0 col2\" >-990261.942495<\/td>\n",
              "      <td id=\"T_2dd59_row0_col3\" class=\"data row0 col3\" >-1141985.127290<\/td>\n",
              "    <\/tr>\n",
              "    <tr>\n",
              "      <th id=\"T_2dd59_level0_row1\" class=\"row_heading level0 row1\" >metro_distance<\/th>\n",
              "      <td id=\"T_2dd59_row1_col0\" class=\"data row1 col0\" >0.577598<\/td>\n",
              "      <td id=\"T_2dd59_row1_col1\" class=\"data row1 col1\" >-1794925.935491<\/td>\n",
              "      <td id=\"T_2dd59_row1_col2\" class=\"data row1 col2\" >-870605.158410<\/td>\n",
              "      <td id=\"T_2dd59_row1_col3\" class=\"data row1 col3\" >-1002814.034524<\/td>\n",
              "    <\/tr>\n",
              "    <tr>\n",
              "      <th id=\"T_2dd59_level0_row2\" class=\"row_heading level0 row2\" >square_meters + metro_distance<\/th>\n",
              "      <td id=\"T_2dd59_row2_col0\" class=\"data row2 col0\" >0.977458<\/td>\n",
              "      <td id=\"T_2dd59_row2_col1\" class=\"data row2 col1\" >-468912.499566<\/td>\n",
              "      <td id=\"T_2dd59_row2_col2\" class=\"data row2 col2\" >-188069.835656<\/td>\n",
              "      <td id=\"T_2dd59_row2_col3\" class=\"data row2 col3\" >-231660.844156<\/td>\n",
              "    <\/tr>\n",
              "  <\/tbody>\n",
              "<\/table>\n"
            ]
          },
          "metadata":{
            
          },
          "output_type":"display_data"
        }
      ],
      "metadata":{
        
      }
    },
    {
      "cell_type":"code",
      "source":[
        "display_model_coefs(models)"
      ],
      "execution_count":32,
      "outputs":[
        {
          "data":{
            "text\/html":[
              "<style type=\"text\/css\">\n",
              "<\/style>\n",
              "<table id=\"T_0e94f_\">\n",
              "  <thead>\n",
              "    <tr>\n",
              "      <th class=\"index_name level0\" >predictor<\/th>\n",
              "      <th class=\"col_heading level0 col0\" >coef<\/th>\n",
              "      <th class=\"col_heading level0 col1\" >pvalue<\/th>\n",
              "    <\/tr>\n",
              "  <\/thead>\n",
              "  <tbody>\n",
              "    <tr>\n",
              "      <th id=\"T_0e94f_level0_row0\" class=\"row_heading level0 row0\" >intercept<\/th>\n",
              "      <td id=\"T_0e94f_row0_col0\" class=\"data row0 col0\" >6496840.1066<\/td>\n",
              "      <td id=\"T_0e94f_row0_col1\" class=\"data row0 col1\" >0.000000e+00<\/td>\n",
              "    <\/tr>\n",
              "    <tr>\n",
              "      <th id=\"T_0e94f_level0_row1\" class=\"row_heading level0 row1\" >square_meters<\/th>\n",
              "      <td id=\"T_0e94f_row1_col0\" class=\"data row1 col0\" >58525.5431<\/td>\n",
              "      <td id=\"T_0e94f_row1_col1\" class=\"data row1 col1\" >0.000000e+00<\/td>\n",
              "    <\/tr>\n",
              "    <tr>\n",
              "      <th id=\"T_0e94f_level0_row2\" class=\"row_heading level0 row2\" >metro_distance<\/th>\n",
              "      <td id=\"T_0e94f_row2_col0\" class=\"data row2 col0\" >-1603.4599<\/td>\n",
              "      <td id=\"T_0e94f_row2_col1\" class=\"data row2 col1\" >0.000000e+00<\/td>\n",
              "    <\/tr>\n",
              "  <\/tbody>\n",
              "<\/table>\n"
            ]
          },
          "metadata":{
            
          },
          "output_type":"display_data"
        }
      ],
      "metadata":{
        
      }
    },
    {
      "cell_type":"code",
      "source":[
        "scores = perform_cross_validation(columns_to_be_used, X, y, cv=3)\n",
        "scores.style.highlight_max()"
      ],
      "execution_count":33,
      "outputs":[
        {
          "data":{
            "text\/html":[
              "<style type=\"text\/css\">\n",
              "#T_44fdb_row2_col0, #T_44fdb_row2_col1, #T_44fdb_row2_col2, #T_44fdb_row2_col3 {\n",
              "  background-color: yellow;\n",
              "}\n",
              "<\/style>\n",
              "<table id=\"T_44fdb_\">\n",
              "  <thead>\n",
              "    <tr>\n",
              "      <th class=\"blank level0\" >&nbsp;<\/th>\n",
              "      <th class=\"col_heading level0 col0\" >r2<\/th>\n",
              "      <th class=\"col_heading level0 col1\" >max_error<\/th>\n",
              "      <th class=\"col_heading level0 col2\" >neg_mean_absolute_error<\/th>\n",
              "      <th class=\"col_heading level0 col3\" >neg_root_mean_squared_error<\/th>\n",
              "    <\/tr>\n",
              "  <\/thead>\n",
              "  <tbody>\n",
              "    <tr>\n",
              "      <th id=\"T_44fdb_level0_row0\" class=\"row_heading level0 row0\" >square_meters<\/th>\n",
              "      <td id=\"T_44fdb_row0_col0\" class=\"data row0 col0\" >0.387025<\/td>\n",
              "      <td id=\"T_44fdb_row0_col1\" class=\"data row0 col1\" >-2203037.197201<\/td>\n",
              "      <td id=\"T_44fdb_row0_col2\" class=\"data row0 col2\" >-1022485.924633<\/td>\n",
              "      <td id=\"T_44fdb_row0_col3\" class=\"data row0 col3\" >-1179149.370456<\/td>\n",
              "    <\/tr>\n",
              "    <tr>\n",
              "      <th id=\"T_44fdb_level0_row1\" class=\"row_heading level0 row1\" >metro_distance<\/th>\n",
              "      <td id=\"T_44fdb_row1_col0\" class=\"data row1 col0\" >0.556349<\/td>\n",
              "      <td id=\"T_44fdb_row1_col1\" class=\"data row1 col1\" >-1820263.978298<\/td>\n",
              "      <td id=\"T_44fdb_row1_col2\" class=\"data row1 col2\" >-878291.065020<\/td>\n",
              "      <td id=\"T_44fdb_row1_col3\" class=\"data row1 col3\" >-1009740.654692<\/td>\n",
              "    <\/tr>\n",
              "    <tr>\n",
              "      <th id=\"T_44fdb_level0_row2\" class=\"row_heading level0 row2\" >square_meters + metro_distance<\/th>\n",
              "      <td id=\"T_44fdb_row2_col0\" class=\"data row2 col0\" >0.975159<\/td>\n",
              "      <td id=\"T_44fdb_row2_col1\" class=\"data row2 col1\" >-486071.148972<\/td>\n",
              "      <td id=\"T_44fdb_row2_col2\" class=\"data row2 col2\" >-198798.078751<\/td>\n",
              "      <td id=\"T_44fdb_row2_col3\" class=\"data row2 col3\" >-239727.152503<\/td>\n",
              "    <\/tr>\n",
              "  <\/tbody>\n",
              "<\/table>\n"
            ]
          },
          "metadata":{
            
          },
          "output_type":"display_data"
        }
      ],
      "metadata":{
        
      }
    }
  ],
  "metadata":{
    
  },
  "nbformat":4,
  "nbformat_minor":0
}