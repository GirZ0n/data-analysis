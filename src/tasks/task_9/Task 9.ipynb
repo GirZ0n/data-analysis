{
  "cells":[
    {
      "cell_type":"code",
      "source":[
        "import pandas as pd\n",
        "import plotly.express as px\n",
        "import plotly.graph_objects as go\n",
        "import numpy as np\n",
        "from datetime import date, timedelta\n",
        "from sklearn.linear_model import LinearRegression\n",
        "from plotly.subplots import make_subplots\n",
        "from typing import List, Tuple\n",
        "from statsmodels.tsa.seasonal import STL\n",
        "from collections import defaultdict\n",
        "from sklearn.metrics import SCORERS\n",
        "from IPython.core.display import display, HTML\n",
        "from scipy import stats"
      ],
      "execution_count":1,
      "outputs":[
        
      ],
      "metadata":{
        
      }
    },
    {
      "cell_type":"markdown",
      "source":[
        "# Препроцессинг (Часть 1)"
      ],
      "attachments":{
        
      },
      "metadata":{
        
      }
    },
    {
      "cell_type":"markdown",
      "source":[
        "## Считываем данные "
      ],
      "attachments":{
        
      },
      "metadata":{
        
      }
    },
    {
      "cell_type":"code",
      "source":[
        "df = pd.read_xml('electric power.xml')\n",
        "df.rename(columns={'DATE': 'date', 'VALUE': 'value'}, inplace=True)\n",
        "df['date'] = pd.to_datetime(df['date'], format='%d.%m.%Y %H:%M:%S.%f').dt.date\n",
        "df = df[['date', 'value']]\n",
        "df"
      ],
      "execution_count":2,
      "outputs":[
        {
          "data":{
            "text\/html":[
              "<div>\n",
              "<style scoped>\n",
              "    .dataframe tbody tr th:only-of-type {\n",
              "        vertical-align: middle;\n",
              "    }\n",
              "\n",
              "    .dataframe tbody tr th {\n",
              "        vertical-align: top;\n",
              "    }\n",
              "\n",
              "    .dataframe thead th {\n",
              "        text-align: right;\n",
              "    }\n",
              "<\/style>\n",
              "<table border=\"1\" class=\"dataframe\">\n",
              "  <thead>\n",
              "    <tr style=\"text-align: right;\">\n",
              "      <th><\/th>\n",
              "      <th>date<\/th>\n",
              "      <th>value<\/th>\n",
              "    <\/tr>\n",
              "  <\/thead>\n",
              "  <tbody>\n",
              "    <tr>\n",
              "      <th>0<\/th>\n",
              "      <td>2009-01-01<\/td>\n",
              "      <td>243887.0<\/td>\n",
              "    <\/tr>\n",
              "    <tr>\n",
              "      <th>1<\/th>\n",
              "      <td>2009-01-01<\/td>\n",
              "      <td>243068.0<\/td>\n",
              "    <\/tr>\n",
              "    <tr>\n",
              "      <th>2<\/th>\n",
              "      <td>2009-01-01<\/td>\n",
              "      <td>242266.0<\/td>\n",
              "    <\/tr>\n",
              "    <tr>\n",
              "      <th>3<\/th>\n",
              "      <td>2009-01-01<\/td>\n",
              "      <td>242659.0<\/td>\n",
              "    <\/tr>\n",
              "    <tr>\n",
              "      <th>4<\/th>\n",
              "      <td>2009-01-01<\/td>\n",
              "      <td>243724.0<\/td>\n",
              "    <\/tr>\n",
              "    <tr>\n",
              "      <th>...<\/th>\n",
              "      <td>...<\/td>\n",
              "      <td>...<\/td>\n",
              "    <\/tr>\n",
              "    <tr>\n",
              "      <th>17513<\/th>\n",
              "      <td>2010-12-31<\/td>\n",
              "      <td>371835.0<\/td>\n",
              "    <\/tr>\n",
              "    <tr>\n",
              "      <th>17514<\/th>\n",
              "      <td>2010-12-31<\/td>\n",
              "      <td>370674.0<\/td>\n",
              "    <\/tr>\n",
              "    <tr>\n",
              "      <th>17515<\/th>\n",
              "      <td>2010-12-31<\/td>\n",
              "      <td>369646.0<\/td>\n",
              "    <\/tr>\n",
              "    <tr>\n",
              "      <th>17516<\/th>\n",
              "      <td>2010-12-31<\/td>\n",
              "      <td>365917.0<\/td>\n",
              "    <\/tr>\n",
              "    <tr>\n",
              "      <th>17517<\/th>\n",
              "      <td>2010-12-31<\/td>\n",
              "      <td>362311.0<\/td>\n",
              "    <\/tr>\n",
              "  <\/tbody>\n",
              "<\/table>\n",
              "<p>17518 rows × 2 columns<\/p>\n",
              "<\/div>"
            ]
          },
          "metadata":{
            
          },
          "output_type":"display_data"
        }
      ],
      "metadata":{
        
      }
    },
    {
      "cell_type":"markdown",
      "source":[
        "## Проверяем наличие nan "
      ],
      "attachments":{
        
      },
      "metadata":{
        
      }
    },
    {
      "cell_type":"code",
      "source":[
        "df.isna().values.any()"
      ],
      "execution_count":3,
      "outputs":[
        {
          "data":{
            "text\/plain":[
              "False"
            ]
          },
          "metadata":{
            
          },
          "output_type":"display_data"
        }
      ],
      "metadata":{
        
      }
    },
    {
      "cell_type":"markdown",
      "source":[
        "## Укрупним данные"
      ],
      "attachments":{
        
      },
      "metadata":{
        
      }
    },
    {
      "cell_type":"code",
      "source":[
        "df = df.groupby('date', as_index=False).sum()\n",
        "df.set_index(['date'], inplace=True)\n",
        "df"
      ],
      "execution_count":4,
      "outputs":[
        {
          "data":{
            "text\/html":[
              "<div>\n",
              "<style scoped>\n",
              "    .dataframe tbody tr th:only-of-type {\n",
              "        vertical-align: middle;\n",
              "    }\n",
              "\n",
              "    .dataframe tbody tr th {\n",
              "        vertical-align: top;\n",
              "    }\n",
              "\n",
              "    .dataframe thead th {\n",
              "        text-align: right;\n",
              "    }\n",
              "<\/style>\n",
              "<table border=\"1\" class=\"dataframe\">\n",
              "  <thead>\n",
              "    <tr style=\"text-align: right;\">\n",
              "      <th><\/th>\n",
              "      <th>value<\/th>\n",
              "    <\/tr>\n",
              "    <tr>\n",
              "      <th>date<\/th>\n",
              "      <th><\/th>\n",
              "    <\/tr>\n",
              "  <\/thead>\n",
              "  <tbody>\n",
              "    <tr>\n",
              "      <th>2009-01-01<\/th>\n",
              "      <td>5830312.0<\/td>\n",
              "    <\/tr>\n",
              "    <tr>\n",
              "      <th>2009-01-02<\/th>\n",
              "      <td>5865441.0<\/td>\n",
              "    <\/tr>\n",
              "    <tr>\n",
              "      <th>2009-01-03<\/th>\n",
              "      <td>5949114.0<\/td>\n",
              "    <\/tr>\n",
              "    <tr>\n",
              "      <th>2009-01-04<\/th>\n",
              "      <td>6067779.0<\/td>\n",
              "    <\/tr>\n",
              "    <tr>\n",
              "      <th>2009-01-05<\/th>\n",
              "      <td>6115772.0<\/td>\n",
              "    <\/tr>\n",
              "    <tr>\n",
              "      <th>...<\/th>\n",
              "      <td>...<\/td>\n",
              "    <\/tr>\n",
              "    <tr>\n",
              "      <th>2010-12-27<\/th>\n",
              "      <td>6624696.0<\/td>\n",
              "    <\/tr>\n",
              "    <tr>\n",
              "      <th>2010-12-28<\/th>\n",
              "      <td>7543819.0<\/td>\n",
              "    <\/tr>\n",
              "    <tr>\n",
              "      <th>2010-12-29<\/th>\n",
              "      <td>8790105.0<\/td>\n",
              "    <\/tr>\n",
              "    <tr>\n",
              "      <th>2010-12-30<\/th>\n",
              "      <td>8876376.0<\/td>\n",
              "    <\/tr>\n",
              "    <tr>\n",
              "      <th>2010-12-31<\/th>\n",
              "      <td>8631863.0<\/td>\n",
              "    <\/tr>\n",
              "  <\/tbody>\n",
              "<\/table>\n",
              "<p>730 rows × 1 columns<\/p>\n",
              "<\/div>"
            ]
          },
          "metadata":{
            
          },
          "output_type":"display_data"
        }
      ],
      "metadata":{
        
      }
    },
    {
      "cell_type":"markdown",
      "source":[
        "## Визуализируем данные"
      ],
      "attachments":{
        
      },
      "metadata":{
        
      }
    },
    {
      "cell_type":"code",
      "source":[
        "fig = px.line(df, y='value')\n",
        "fig.update_layout(xaxis_title='Дата', yaxis_title='Объем потребления',\n",
        "                  title='Объём потребления электроэнергии в период с 2009 по 2010 год')\n",
        "fig.show()"
      ],
      "execution_count":5,
      "outputs":[
        {
          "data":{
            "text\/plain":[
              "Unsupported"
            ]
          },
          "metadata":{
            
          },
          "output_type":"display_data"
        }
      ],
      "metadata":{
        
      }
    },
    {
      "cell_type":"code",
      "source":[
        "fig = px.line(df, y='value')\n",
        "fig.update_layout(xaxis_title='Дата', yaxis_title='Объем потребления',\n",
        "                  title='Объём потребления электроэнергии в период с 2009 по 2010 год')\n",
        "fig.add_vrect(x0=\"2009-06-30\", x1=\"2009-08-17\", fillcolor=\"Red\", opacity=0.5, line_width=0)\n",
        "fig.add_vrect(x0=\"2009-01-01\", x1=\"2009-06-30\", fillcolor=\"Orange\", opacity=0.5, line_width=0)\n",
        "fig.show()"
      ],
      "execution_count":6,
      "outputs":[
        {
          "data":{
            "text\/plain":[
              "Unsupported"
            ]
          },
          "metadata":{
            
          },
          "output_type":"display_data"
        }
      ],
      "metadata":{
        
      }
    },
    {
      "cell_type":"code",
      "source":[
        "df = df[df.index >= date(2009, 8, 17)]\n",
        "\n",
        "fig = px.line(df, y='value')\n",
        "fig.update_layout(xaxis_title='Дата', yaxis_title='Объем потребления',\n",
        "                  title='Объём потребления электроэнергии в период с 2009 по 2010 год')\n",
        "fig.add_vrect(x0=\"2009-09-25\", x1=\"2009-09-28\", fillcolor=\"OrangeRed\", opacity=0.5, line_width=0, layer=\"below\")\n",
        "fig.add_vrect(x0=\"2009-10-09\", x1=\"2009-10-12\", fillcolor=\"OrangeRed\", opacity=0.5, line_width=0, layer=\"below\")\n",
        "fig.add_vrect(x0=\"2009-12-04\", x1=\"2009-12-08\", fillcolor=\"OrangeRed\", opacity=0.5, line_width=0, layer=\"below\")\n",
        "fig.add_vrect(x0=\"2010-05-21\", x1=\"2010-05-24\", fillcolor=\"OrangeRed\", opacity=0.5, line_width=0, layer=\"below\")\n",
        "fig.add_vrect(x0=\"2010-06-25\", x1=\"2010-06-28\", fillcolor=\"OrangeRed\", opacity=0.5, line_width=0, layer=\"below\")\n",
        "fig.add_vrect(x0=\"2010-09-17\", x1=\"2010-09-21\", fillcolor=\"OrangeRed\", opacity=0.5, line_width=0, layer=\"below\")\n",
        "fig.add_vrect(x0=\"2010-12-22\", x1=\"2010-12-29\", fillcolor=\"OrangeRed\", opacity=0.5, line_width=0, layer=\"below\")\n",
        "fig.show()"
      ],
      "execution_count":7,
      "outputs":[
        {
          "data":{
            "text\/plain":[
              "Unsupported"
            ]
          },
          "metadata":{
            
          },
          "output_type":"display_data"
        }
      ],
      "metadata":{
        
      }
    },
    {
      "cell_type":"code",
      "source":[
        "def show_trend_and_season(period: int, period_name: str):\n",
        "    stl = STL(df['value'], period=period)\n",
        "    res = stl.fit()\n",
        "\n",
        "    fig = make_subplots(cols=1, rows=2, shared_xaxes=True)\n",
        "    fig.add_scatter(x=res.trend.index, y=res.trend, name='Тренд', row=1, col=1)\n",
        "    fig.add_scatter(x=res.seasonal.index, y=res.seasonal, name='Сезонность', row=2, col=1)\n",
        "    fig.update_xaxes(title='День')\n",
        "    fig.update_yaxes(title='Значение')\n",
        "    fig.update_layout(title=f'Период: {period_name}')\n",
        "    fig.show()\n",
        "\n",
        "show_trend_and_season(7, 'неделя')\n",
        "show_trend_and_season(30, 'месяц')\n",
        "show_trend_and_season(365, 'год')"
      ],
      "execution_count":8,
      "outputs":[
        {
          "data":{
            "text\/plain":[
              "Unsupported"
            ]
          },
          "metadata":{
            
          },
          "output_type":"display_data"
        }
      ],
      "metadata":{
        
      }
    },
    {
      "cell_type":"markdown",
      "source":[
        "# Препроцессинг (Часть 2)"
      ],
      "attachments":{
        
      },
      "metadata":{
        
      }
    },
    {
      "cell_type":"code",
      "source":[
        "def expand(df: pd.DataFrame, by_month: bool = True, by_weekday: bool = True, ignore_months=(12,),\n",
        "           ignore_weekdays=(7,)) -> pd.DataFrame:\n",
        "    df = df.copy()\n",
        "    if by_month:\n",
        "        for month_number in range(1, 13):\n",
        "            if month_number in ignore_months:\n",
        "                continue\n",
        "            df[f'month_{month_number}'] = df.apply(lambda row: row.name.month == month_number, axis=1).astype(int)\n",
        "\n",
        "    if by_weekday:\n",
        "        for weekday_number in range(1, 8):\n",
        "            if weekday_number in ignore_weekdays:\n",
        "                continue\n",
        "            df[f'weekday_{weekday_number}'] = df.apply(lambda row: row.name.isoweekday() == weekday_number,\n",
        "                                                       axis=1).astype(int)\n",
        "\n",
        "    return df\n",
        "\n",
        "\n",
        "def remove_outliers(df: pd.DataFrame, predictions: np.array, dates: List[date]) -> pd.DataFrame:\n",
        "    df = df.copy()\n",
        "\n",
        "    for date in dates:\n",
        "        predictions = pd.DataFrame(data=predictions, index=df.index, columns=['value'])\n",
        "        df.at[date, 'value'] = predictions.loc[date, 'value']\n",
        "\n",
        "    return df\n"
      ],
      "execution_count":9,
      "outputs":[
        
      ],
      "metadata":{
        
      }
    },
    {
      "cell_type":"markdown",
      "source":[
        "## Избавляемся от выбросов"
      ],
      "attachments":{
        
      },
      "metadata":{
        
      }
    },
    {
      "cell_type":"code",
      "source":[
        "expanded_df = expand(df)\n",
        "expanded_df['day'] = range(len(expanded_df))\n",
        "expanded_df"
      ],
      "execution_count":33,
      "outputs":[
        {
          "data":{
            "text\/html":[
              "<div>\n",
              "<style scoped>\n",
              "    .dataframe tbody tr th:only-of-type {\n",
              "        vertical-align: middle;\n",
              "    }\n",
              "\n",
              "    .dataframe tbody tr th {\n",
              "        vertical-align: top;\n",
              "    }\n",
              "\n",
              "    .dataframe thead th {\n",
              "        text-align: right;\n",
              "    }\n",
              "<\/style>\n",
              "<table border=\"1\" class=\"dataframe\">\n",
              "  <thead>\n",
              "    <tr style=\"text-align: right;\">\n",
              "      <th><\/th>\n",
              "      <th>value<\/th>\n",
              "      <th>month_1<\/th>\n",
              "      <th>month_2<\/th>\n",
              "      <th>month_3<\/th>\n",
              "      <th>month_4<\/th>\n",
              "      <th>month_5<\/th>\n",
              "      <th>month_6<\/th>\n",
              "      <th>month_7<\/th>\n",
              "      <th>month_8<\/th>\n",
              "      <th>month_9<\/th>\n",
              "      <th>month_10<\/th>\n",
              "      <th>month_11<\/th>\n",
              "      <th>weekday_1<\/th>\n",
              "      <th>weekday_2<\/th>\n",
              "      <th>weekday_3<\/th>\n",
              "      <th>weekday_4<\/th>\n",
              "      <th>weekday_5<\/th>\n",
              "      <th>weekday_6<\/th>\n",
              "      <th>day<\/th>\n",
              "    <\/tr>\n",
              "    <tr>\n",
              "      <th>date<\/th>\n",
              "      <th><\/th>\n",
              "      <th><\/th>\n",
              "      <th><\/th>\n",
              "      <th><\/th>\n",
              "      <th><\/th>\n",
              "      <th><\/th>\n",
              "      <th><\/th>\n",
              "      <th><\/th>\n",
              "      <th><\/th>\n",
              "      <th><\/th>\n",
              "      <th><\/th>\n",
              "      <th><\/th>\n",
              "      <th><\/th>\n",
              "      <th><\/th>\n",
              "      <th><\/th>\n",
              "      <th><\/th>\n",
              "      <th><\/th>\n",
              "      <th><\/th>\n",
              "      <th><\/th>\n",
              "    <\/tr>\n",
              "  <\/thead>\n",
              "  <tbody>\n",
              "    <tr>\n",
              "      <th>2009-08-17<\/th>\n",
              "      <td>3398401.0<\/td>\n",
              "      <td>0<\/td>\n",
              "      <td>0<\/td>\n",
              "      <td>0<\/td>\n",
              "      <td>0<\/td>\n",
              "      <td>0<\/td>\n",
              "      <td>0<\/td>\n",
              "      <td>0<\/td>\n",
              "      <td>1<\/td>\n",
              "      <td>0<\/td>\n",
              "      <td>0<\/td>\n",
              "      <td>0<\/td>\n",
              "      <td>1<\/td>\n",
              "      <td>0<\/td>\n",
              "      <td>0<\/td>\n",
              "      <td>0<\/td>\n",
              "      <td>0<\/td>\n",
              "      <td>0<\/td>\n",
              "      <td>0<\/td>\n",
              "    <\/tr>\n",
              "    <tr>\n",
              "      <th>2009-08-18<\/th>\n",
              "      <td>3505239.0<\/td>\n",
              "      <td>0<\/td>\n",
              "      <td>0<\/td>\n",
              "      <td>0<\/td>\n",
              "      <td>0<\/td>\n",
              "      <td>0<\/td>\n",
              "      <td>0<\/td>\n",
              "      <td>0<\/td>\n",
              "      <td>1<\/td>\n",
              "      <td>0<\/td>\n",
              "      <td>0<\/td>\n",
              "      <td>0<\/td>\n",
              "      <td>0<\/td>\n",
              "      <td>1<\/td>\n",
              "      <td>0<\/td>\n",
              "      <td>0<\/td>\n",
              "      <td>0<\/td>\n",
              "      <td>0<\/td>\n",
              "      <td>1<\/td>\n",
              "    <\/tr>\n",
              "    <tr>\n",
              "      <th>2009-08-19<\/th>\n",
              "      <td>3554215.0<\/td>\n",
              "      <td>0<\/td>\n",
              "      <td>0<\/td>\n",
              "      <td>0<\/td>\n",
              "      <td>0<\/td>\n",
              "      <td>0<\/td>\n",
              "      <td>0<\/td>\n",
              "      <td>0<\/td>\n",
              "      <td>1<\/td>\n",
              "      <td>0<\/td>\n",
              "      <td>0<\/td>\n",
              "      <td>0<\/td>\n",
              "      <td>0<\/td>\n",
              "      <td>0<\/td>\n",
              "      <td>1<\/td>\n",
              "      <td>0<\/td>\n",
              "      <td>0<\/td>\n",
              "      <td>0<\/td>\n",
              "      <td>2<\/td>\n",
              "    <\/tr>\n",
              "    <tr>\n",
              "      <th>2009-08-20<\/th>\n",
              "      <td>3770158.0<\/td>\n",
              "      <td>0<\/td>\n",
              "      <td>0<\/td>\n",
              "      <td>0<\/td>\n",
              "      <td>0<\/td>\n",
              "      <td>0<\/td>\n",
              "      <td>0<\/td>\n",
              "      <td>0<\/td>\n",
              "      <td>1<\/td>\n",
              "      <td>0<\/td>\n",
              "      <td>0<\/td>\n",
              "      <td>0<\/td>\n",
              "      <td>0<\/td>\n",
              "      <td>0<\/td>\n",
              "      <td>0<\/td>\n",
              "      <td>1<\/td>\n",
              "      <td>0<\/td>\n",
              "      <td>0<\/td>\n",
              "      <td>3<\/td>\n",
              "    <\/tr>\n",
              "    <tr>\n",
              "      <th>2009-08-21<\/th>\n",
              "      <td>3873099.0<\/td>\n",
              "      <td>0<\/td>\n",
              "      <td>0<\/td>\n",
              "      <td>0<\/td>\n",
              "      <td>0<\/td>\n",
              "      <td>0<\/td>\n",
              "      <td>0<\/td>\n",
              "      <td>0<\/td>\n",
              "      <td>1<\/td>\n",
              "      <td>0<\/td>\n",
              "      <td>0<\/td>\n",
              "      <td>0<\/td>\n",
              "      <td>0<\/td>\n",
              "      <td>0<\/td>\n",
              "      <td>0<\/td>\n",
              "      <td>0<\/td>\n",
              "      <td>1<\/td>\n",
              "      <td>0<\/td>\n",
              "      <td>4<\/td>\n",
              "    <\/tr>\n",
              "    <tr>\n",
              "      <th>...<\/th>\n",
              "      <td>...<\/td>\n",
              "      <td>...<\/td>\n",
              "      <td>...<\/td>\n",
              "      <td>...<\/td>\n",
              "      <td>...<\/td>\n",
              "      <td>...<\/td>\n",
              "      <td>...<\/td>\n",
              "      <td>...<\/td>\n",
              "      <td>...<\/td>\n",
              "      <td>...<\/td>\n",
              "      <td>...<\/td>\n",
              "      <td>...<\/td>\n",
              "      <td>...<\/td>\n",
              "      <td>...<\/td>\n",
              "      <td>...<\/td>\n",
              "      <td>...<\/td>\n",
              "      <td>...<\/td>\n",
              "      <td>...<\/td>\n",
              "      <td>...<\/td>\n",
              "    <\/tr>\n",
              "    <tr>\n",
              "      <th>2010-12-27<\/th>\n",
              "      <td>6624696.0<\/td>\n",
              "      <td>0<\/td>\n",
              "      <td>0<\/td>\n",
              "      <td>0<\/td>\n",
              "      <td>0<\/td>\n",
              "      <td>0<\/td>\n",
              "      <td>0<\/td>\n",
              "      <td>0<\/td>\n",
              "      <td>0<\/td>\n",
              "      <td>0<\/td>\n",
              "      <td>0<\/td>\n",
              "      <td>0<\/td>\n",
              "      <td>1<\/td>\n",
              "      <td>0<\/td>\n",
              "      <td>0<\/td>\n",
              "      <td>0<\/td>\n",
              "      <td>0<\/td>\n",
              "      <td>0<\/td>\n",
              "      <td>497<\/td>\n",
              "    <\/tr>\n",
              "    <tr>\n",
              "      <th>2010-12-28<\/th>\n",
              "      <td>7543819.0<\/td>\n",
              "      <td>0<\/td>\n",
              "      <td>0<\/td>\n",
              "      <td>0<\/td>\n",
              "      <td>0<\/td>\n",
              "      <td>0<\/td>\n",
              "      <td>0<\/td>\n",
              "      <td>0<\/td>\n",
              "      <td>0<\/td>\n",
              "      <td>0<\/td>\n",
              "      <td>0<\/td>\n",
              "      <td>0<\/td>\n",
              "      <td>0<\/td>\n",
              "      <td>1<\/td>\n",
              "      <td>0<\/td>\n",
              "      <td>0<\/td>\n",
              "      <td>0<\/td>\n",
              "      <td>0<\/td>\n",
              "      <td>498<\/td>\n",
              "    <\/tr>\n",
              "    <tr>\n",
              "      <th>2010-12-29<\/th>\n",
              "      <td>8790105.0<\/td>\n",
              "      <td>0<\/td>\n",
              "      <td>0<\/td>\n",
              "      <td>0<\/td>\n",
              "      <td>0<\/td>\n",
              "      <td>0<\/td>\n",
              "      <td>0<\/td>\n",
              "      <td>0<\/td>\n",
              "      <td>0<\/td>\n",
              "      <td>0<\/td>\n",
              "      <td>0<\/td>\n",
              "      <td>0<\/td>\n",
              "      <td>0<\/td>\n",
              "      <td>0<\/td>\n",
              "      <td>1<\/td>\n",
              "      <td>0<\/td>\n",
              "      <td>0<\/td>\n",
              "      <td>0<\/td>\n",
              "      <td>499<\/td>\n",
              "    <\/tr>\n",
              "    <tr>\n",
              "      <th>2010-12-30<\/th>\n",
              "      <td>8876376.0<\/td>\n",
              "      <td>0<\/td>\n",
              "      <td>0<\/td>\n",
              "      <td>0<\/td>\n",
              "      <td>0<\/td>\n",
              "      <td>0<\/td>\n",
              "      <td>0<\/td>\n",
              "      <td>0<\/td>\n",
              "      <td>0<\/td>\n",
              "      <td>0<\/td>\n",
              "      <td>0<\/td>\n",
              "      <td>0<\/td>\n",
              "      <td>0<\/td>\n",
              "      <td>0<\/td>\n",
              "      <td>0<\/td>\n",
              "      <td>1<\/td>\n",
              "      <td>0<\/td>\n",
              "      <td>0<\/td>\n",
              "      <td>500<\/td>\n",
              "    <\/tr>\n",
              "    <tr>\n",
              "      <th>2010-12-31<\/th>\n",
              "      <td>8631863.0<\/td>\n",
              "      <td>0<\/td>\n",
              "      <td>0<\/td>\n",
              "      <td>0<\/td>\n",
              "      <td>0<\/td>\n",
              "      <td>0<\/td>\n",
              "      <td>0<\/td>\n",
              "      <td>0<\/td>\n",
              "      <td>0<\/td>\n",
              "      <td>0<\/td>\n",
              "      <td>0<\/td>\n",
              "      <td>0<\/td>\n",
              "      <td>0<\/td>\n",
              "      <td>0<\/td>\n",
              "      <td>0<\/td>\n",
              "      <td>0<\/td>\n",
              "      <td>1<\/td>\n",
              "      <td>0<\/td>\n",
              "      <td>501<\/td>\n",
              "    <\/tr>\n",
              "  <\/tbody>\n",
              "<\/table>\n",
              "<p>502 rows × 19 columns<\/p>\n",
              "<\/div>"
            ]
          },
          "metadata":{
            
          },
          "output_type":"display_data"
        }
      ],
      "metadata":{
        
      }
    },
    {
      "cell_type":"code",
      "source":[
        "model_all = LinearRegression()\n",
        "x_columns = expanded_df.columns.to_list()\n",
        "x_columns.remove('value')\n",
        "model_all.fit(expanded_df[x_columns], expanded_df['value'])\n",
        "predictions = model_all.predict(expanded_df[x_columns])\n",
        "\n",
        "fig = go.Figure()\n",
        "fig.add_scatter(x=expanded_df.index, y=predictions, name='Модель')\n",
        "fig.add_scatter(x=df.index, y=df['value'], name='Исходные данные')\n",
        "fig.update_layout(xaxis_title='Дата', yaxis_title='Объем потребления',\n",
        "                  title='Объём потребления электроэнергии в период с 2009 по 2010 год')\n",
        "fig.show()"
      ],
      "execution_count":11,
      "outputs":[
        {
          "data":{
            "text\/plain":[
              "Unsupported"
            ]
          },
          "metadata":{
            
          },
          "output_type":"display_data"
        }
      ],
      "metadata":{
        
      }
    },
    {
      "cell_type":"code",
      "source":[
        "df_without_outliers = remove_outliers(df, predictions,\n",
        "                                      [date(2009, 9, 26), date(2009, 9, 27), date(2009, 10, 10), date(2009, 10, 11),\n",
        "                                       date(2009, 12, 5), date(2009, 12, 6), date(2009, 12, 7), date(2010, 5, 22),\n",
        "                                       date(2010, 5, 23), date(2010, 6, 26), date(2010, 6, 27), date(2010, 9, 18),\n",
        "                                       date(2010, 9, 19), date(2010, 9, 20), date(2010, 12, 24), date(2010, 12, 25),\n",
        "                                       date(2010, 12, 26), date(2010, 12, 27), date(2010, 12, 28)])\n",
        "\n",
        "fig = go.Figure()\n",
        "fig.add_scatter(x=df.index, y=df['value'], name='Исходные данные')\n",
        "fig.add_scatter(x=df_without_outliers.index, y=df_without_outliers['value'], name='Без выбросов')\n",
        "fig.update_layout(xaxis_title='Дата', yaxis_title='Объем потребления',\n",
        "                  title='Объём потребления электроэнергии в период с 2009 по 2010 год')\n",
        "fig.show()"
      ],
      "execution_count":12,
      "outputs":[
        {
          "data":{
            "text\/plain":[
              "Unsupported"
            ]
          },
          "metadata":{
            
          },
          "output_type":"display_data"
        }
      ],
      "metadata":{
        
      }
    },
    {
      "cell_type":"markdown",
      "source":[
        "# Обучение"
      ],
      "attachments":{
        
      },
      "metadata":{
        
      }
    },
    {
      "cell_type":"code",
      "source":[
        "def train_test_split(df: pd.DataFrame, number_of_test_days: int) -> Tuple[\n",
        "    pd.DataFrame, pd.DataFrame, pd.DataFrame, pd.DataFrame]:\n",
        "    max_day = df.index.max()\n",
        "\n",
        "    x_columns = df.columns.to_list()\n",
        "    x_columns.remove('value')\n",
        "\n",
        "    train = df[df.index <= max_day - timedelta(days=number_of_test_days)]\n",
        "    test = df[df.index > max_day - timedelta(days=number_of_test_days)]\n",
        "\n",
        "    return train[x_columns], train['value'], test[x_columns], test['value']"
      ],
      "execution_count":13,
      "outputs":[
        
      ],
      "metadata":{
        
      }
    },
    {
      "cell_type":"code",
      "source":[
        "metric_names = ['r2', 'max_error', 'neg_mean_absolute_error', 'neg_root_mean_squared_error']"
      ],
      "execution_count":14,
      "outputs":[
        
      ],
      "metadata":{
        
      }
    },
    {
      "cell_type":"code",
      "source":[
        "def score_model(model: LinearRegression, X_train: pd.DataFrame, y_train: pd.DataFrame, X_test: pd.DataFrame,\n",
        "                y_test: pd.DataFrame) -> pd.DataFrame:\n",
        "    scores_by_data = defaultdict(list)\n",
        "    for metric_name in metric_names:\n",
        "        scores_by_data['Train'].append(SCORERS[metric_name](model, X_train, y_train))\n",
        "        if X_test is not None and y_test is not None:\n",
        "            scores_by_data['Test'].append(SCORERS[metric_name](model, X_test, y_test))\n",
        "            scores_by_data['All'].append(SCORERS[metric_name](model, pd.concat([X_train, X_test]), pd.concat([y_train, y_test])))\n",
        "    return pd.DataFrame(scores_by_data, index=metric_names).T"
      ],
      "execution_count":15,
      "outputs":[
        
      ],
      "metadata":{
        
      }
    },
    {
      "cell_type":"code",
      "source":[
        "def regression_coef(model, X, y):\n",
        "    coef = pd.DataFrame(zip(['intercept'] + X.columns.tolist(), [model.intercept_] + model.coef_.tolist()),\n",
        "                    columns=['predictor', 'coef'])\n",
        "    \n",
        "    X1 = np.append(np.ones((len(X),1)), X, axis=1)\n",
        "    b = np.append(model.intercept_, model.coef_)\n",
        "    MSE = np.sum((model.predict(X) - y) ** 2, axis=0) \/ float(X.shape[0] - X.shape[1])\n",
        "    var_b = MSE * (np.linalg.inv(np.dot(X1.T, X1)).diagonal())\n",
        "    sd_b = np.sqrt(var_b)\n",
        "    t = b \/ sd_b\n",
        "\n",
        "    coef['pvalue'] = [2 * (1 - stats.t.cdf(np.abs(i), (len(X1) - 1))) for i in t]\n",
        "    coef.set_index(['predictor'], inplace=True)\n",
        "    coef.columns.name = coef.index.name\n",
        "    coef.index.name = None\n",
        "\n",
        "    return coef"
      ],
      "execution_count":16,
      "outputs":[
        
      ],
      "metadata":{
        
      }
    },
    {
      "cell_type":"code",
      "source":[
        "def display_model_coefs(model: LinearRegression, X: pd.DataFrame, y: pd.DataFrame) -> pd.DataFrame:\n",
        "    features = model.feature_names_in_\n",
        "    display(HTML(regression_coef(model, X[features], y).style.format({'coef': '{:.4f}', 'pvalue': '{:e}'}).to_html()))"
      ],
      "execution_count":17,
      "outputs":[
        
      ],
      "metadata":{
        
      }
    },
    {
      "cell_type":"code",
      "source":[
        "def fit_model(df: pd.DataFrame, number_of_test_days: int) -> Tuple[LinearRegression, go.Figure, pd.DataFrame]:\n",
        "    \"\"\"\n",
        "    Returns model, plot and scores\n",
        "    \"\"\"\n",
        "\n",
        "    X_train, y_train, X_test, y_test = train_test_split(df, number_of_test_days)\n",
        "\n",
        "    model = LinearRegression()\n",
        "    model.fit(X_train, y_train)\n",
        "\n",
        "    dates = pd.concat([X_train, X_test]).index\n",
        "    predictions = model.predict(pd.concat([X_train, X_test]))\n",
        "\n",
        "    fig = go.Figure()\n",
        "    fig.add_scatter(x=dates, y=pd.concat([y_train, y_test]), name='Обучающая выборка')\n",
        "    fig.add_scatter(x=X_test.index, y=y_test, name='Тестовая выборка', mode='lines')\n",
        "    fig.add_scatter(x=dates, y=predictions, name='Модель')\n",
        "    fig.update_layout(xaxis_title='Дата', yaxis_title='Объем потребления',\n",
        "                  title='Объём потребления электроэнергии в период с 2009 по 2010 год')\n",
        "\n",
        "    scores = score_model(model, X_train, y_train, X_test, y_test)\n",
        "\n",
        "    display_model_coefs(model, X_train, y_train)\n",
        "\n",
        "    return model, fig, scores"
      ],
      "execution_count":18,
      "outputs":[
        
      ],
      "metadata":{
        
      }
    },
    {
      "cell_type":"markdown",
      "source":[
        "## Все колонки"
      ],
      "attachments":{
        
      },
      "metadata":{
        
      }
    },
    {
      "cell_type":"code",
      "source":[
        "expanded_df_without_outliers = expand(df_without_outliers)\n",
        "expanded_df_without_outliers['day'] = range(len(expanded_df_without_outliers))\n",
        "\n",
        "model_all, plot_all, scores_all = fit_model(expanded_df_without_outliers, 14)"
      ],
      "execution_count":19,
      "outputs":[
        {
          "data":{
            "text\/html":[
              "<style type=\"text\/css\">\n",
              "<\/style>\n",
              "<table id=\"T_dab50_\">\n",
              "  <thead>\n",
              "    <tr>\n",
              "      <th class=\"index_name level0\" >predictor<\/th>\n",
              "      <th class=\"col_heading level0 col0\" >coef<\/th>\n",
              "      <th class=\"col_heading level0 col1\" >pvalue<\/th>\n",
              "    <\/tr>\n",
              "  <\/thead>\n",
              "  <tbody>\n",
              "    <tr>\n",
              "      <th id=\"T_dab50_level0_row0\" class=\"row_heading level0 row0\" >intercept<\/th>\n",
              "      <td id=\"T_dab50_row0_col0\" class=\"data row0 col0\" >6857634.1270<\/td>\n",
              "      <td id=\"T_dab50_row0_col1\" class=\"data row0 col1\" >0.000000e+00<\/td>\n",
              "    <\/tr>\n",
              "    <tr>\n",
              "      <th id=\"T_dab50_level0_row1\" class=\"row_heading level0 row1\" >month_1<\/th>\n",
              "      <td id=\"T_dab50_row1_col0\" class=\"data row1 col0\" >202804.2444<\/td>\n",
              "      <td id=\"T_dab50_row1_col1\" class=\"data row1 col1\" >3.914858e-02<\/td>\n",
              "    <\/tr>\n",
              "    <tr>\n",
              "      <th id=\"T_dab50_level0_row2\" class=\"row_heading level0 row2\" >month_2<\/th>\n",
              "      <td id=\"T_dab50_row2_col0\" class=\"data row2 col0\" >434003.5963<\/td>\n",
              "      <td id=\"T_dab50_row2_col1\" class=\"data row2 col1\" >1.943250e-05<\/td>\n",
              "    <\/tr>\n",
              "    <tr>\n",
              "      <th id=\"T_dab50_level0_row3\" class=\"row_heading level0 row3\" >month_3<\/th>\n",
              "      <td id=\"T_dab50_row3_col0\" class=\"data row3 col0\" >-238304.0708<\/td>\n",
              "      <td id=\"T_dab50_row3_col1\" class=\"data row3 col1\" >1.458206e-02<\/td>\n",
              "    <\/tr>\n",
              "    <tr>\n",
              "      <th id=\"T_dab50_level0_row4\" class=\"row_heading level0 row4\" >month_4<\/th>\n",
              "      <td id=\"T_dab50_row4_col0\" class=\"data row4 col0\" >-991224.0518<\/td>\n",
              "      <td id=\"T_dab50_row4_col1\" class=\"data row4 col1\" >0.000000e+00<\/td>\n",
              "    <\/tr>\n",
              "    <tr>\n",
              "      <th id=\"T_dab50_level0_row5\" class=\"row_heading level0 row5\" >month_5<\/th>\n",
              "      <td id=\"T_dab50_row5_col0\" class=\"data row5 col0\" >-2345920.7727<\/td>\n",
              "      <td id=\"T_dab50_row5_col1\" class=\"data row5 col1\" >0.000000e+00<\/td>\n",
              "    <\/tr>\n",
              "    <tr>\n",
              "      <th id=\"T_dab50_level0_row6\" class=\"row_heading level0 row6\" >month_6<\/th>\n",
              "      <td id=\"T_dab50_row6_col0\" class=\"data row6 col0\" >-3551904.3844<\/td>\n",
              "      <td id=\"T_dab50_row6_col1\" class=\"data row6 col1\" >0.000000e+00<\/td>\n",
              "    <\/tr>\n",
              "    <tr>\n",
              "      <th id=\"T_dab50_level0_row7\" class=\"row_heading level0 row7\" >month_7<\/th>\n",
              "      <td id=\"T_dab50_row7_col0\" class=\"data row7 col0\" >-4210186.2511<\/td>\n",
              "      <td id=\"T_dab50_row7_col1\" class=\"data row7 col1\" >0.000000e+00<\/td>\n",
              "    <\/tr>\n",
              "    <tr>\n",
              "      <th id=\"T_dab50_level0_row8\" class=\"row_heading level0 row8\" >month_8<\/th>\n",
              "      <td id=\"T_dab50_row8_col0\" class=\"data row8 col0\" >-3675261.8400<\/td>\n",
              "      <td id=\"T_dab50_row8_col1\" class=\"data row8 col1\" >0.000000e+00<\/td>\n",
              "    <\/tr>\n",
              "    <tr>\n",
              "      <th id=\"T_dab50_level0_row9\" class=\"row_heading level0 row9\" >month_9<\/th>\n",
              "      <td id=\"T_dab50_row9_col0\" class=\"data row9 col0\" >-2755093.0759<\/td>\n",
              "      <td id=\"T_dab50_row9_col1\" class=\"data row9 col1\" >0.000000e+00<\/td>\n",
              "    <\/tr>\n",
              "    <tr>\n",
              "      <th id=\"T_dab50_level0_row10\" class=\"row_heading level0 row10\" >month_10<\/th>\n",
              "      <td id=\"T_dab50_row10_col0\" class=\"data row10 col0\" >-1096041.6136<\/td>\n",
              "      <td id=\"T_dab50_row10_col1\" class=\"data row10 col1\" >0.000000e+00<\/td>\n",
              "    <\/tr>\n",
              "    <tr>\n",
              "      <th id=\"T_dab50_level0_row11\" class=\"row_heading level0 row11\" >month_11<\/th>\n",
              "      <td id=\"T_dab50_row11_col0\" class=\"data row11 col0\" >-544338.0515<\/td>\n",
              "      <td id=\"T_dab50_row11_col1\" class=\"data row11 col1\" >7.299050e-11<\/td>\n",
              "    <\/tr>\n",
              "    <tr>\n",
              "      <th id=\"T_dab50_level0_row12\" class=\"row_heading level0 row12\" >weekday_1<\/th>\n",
              "      <td id=\"T_dab50_row12_col0\" class=\"data row12 col0\" >441551.7728<\/td>\n",
              "      <td id=\"T_dab50_row12_col1\" class=\"data row12 col1\" >1.370686e-09<\/td>\n",
              "    <\/tr>\n",
              "    <tr>\n",
              "      <th id=\"T_dab50_level0_row13\" class=\"row_heading level0 row13\" >weekday_2<\/th>\n",
              "      <td id=\"T_dab50_row13_col0\" class=\"data row13 col0\" >577562.6857<\/td>\n",
              "      <td id=\"T_dab50_row13_col1\" class=\"data row13 col1\" >5.107026e-15<\/td>\n",
              "    <\/tr>\n",
              "    <tr>\n",
              "      <th id=\"T_dab50_level0_row14\" class=\"row_heading level0 row14\" >weekday_3<\/th>\n",
              "      <td id=\"T_dab50_row14_col0\" class=\"data row14 col0\" >601479.1180<\/td>\n",
              "      <td id=\"T_dab50_row14_col1\" class=\"data row14 col1\" >4.440892e-16<\/td>\n",
              "    <\/tr>\n",
              "    <tr>\n",
              "      <th id=\"T_dab50_level0_row15\" class=\"row_heading level0 row15\" >weekday_4<\/th>\n",
              "      <td id=\"T_dab50_row15_col0\" class=\"data row15 col0\" >587159.0960<\/td>\n",
              "      <td id=\"T_dab50_row15_col1\" class=\"data row15 col1\" >1.998401e-15<\/td>\n",
              "    <\/tr>\n",
              "    <tr>\n",
              "      <th id=\"T_dab50_level0_row16\" class=\"row_heading level0 row16\" >weekday_5<\/th>\n",
              "      <td id=\"T_dab50_row16_col0\" class=\"data row16 col0\" >524223.4870<\/td>\n",
              "      <td id=\"T_dab50_row16_col1\" class=\"data row16 col1\" >9.414691e-13<\/td>\n",
              "    <\/tr>\n",
              "    <tr>\n",
              "      <th id=\"T_dab50_level0_row17\" class=\"row_heading level0 row17\" >weekday_6<\/th>\n",
              "      <td id=\"T_dab50_row17_col0\" class=\"data row17 col0\" >163316.1299<\/td>\n",
              "      <td id=\"T_dab50_row17_col1\" class=\"data row17 col1\" >2.320629e-02<\/td>\n",
              "    <\/tr>\n",
              "    <tr>\n",
              "      <th id=\"T_dab50_level0_row18\" class=\"row_heading level0 row18\" >day<\/th>\n",
              "      <td id=\"T_dab50_row18_col0\" class=\"data row18 col0\" >2045.3132<\/td>\n",
              "      <td id=\"T_dab50_row18_col1\" class=\"data row18 col1\" >0.000000e+00<\/td>\n",
              "    <\/tr>\n",
              "  <\/tbody>\n",
              "<\/table>\n"
            ]
          },
          "metadata":{
            
          },
          "output_type":"display_data"
        }
      ],
      "metadata":{
        
      }
    },
    {
      "cell_type":"code",
      "source":[
        "plot_all.show()"
      ],
      "execution_count":20,
      "outputs":[
        {
          "data":{
            "text\/plain":[
              "Unsupported"
            ]
          },
          "metadata":{
            
          },
          "output_type":"display_data"
        }
      ],
      "metadata":{
        
      }
    },
    {
      "cell_type":"code",
      "source":[
        "scores_all.style.highlight_max()"
      ],
      "execution_count":21,
      "outputs":[
        {
          "data":{
            "text\/html":[
              "<style type=\"text\/css\">\n",
              "#T_abdc6_row0_col2, #T_abdc6_row1_col1, #T_abdc6_row1_col3, #T_abdc6_row2_col0 {\n",
              "  background-color: yellow;\n",
              "}\n",
              "<\/style>\n",
              "<table id=\"T_abdc6_\">\n",
              "  <thead>\n",
              "    <tr>\n",
              "      <th class=\"blank level0\" >&nbsp;<\/th>\n",
              "      <th class=\"col_heading level0 col0\" >r2<\/th>\n",
              "      <th class=\"col_heading level0 col1\" >max_error<\/th>\n",
              "      <th class=\"col_heading level0 col2\" >neg_mean_absolute_error<\/th>\n",
              "      <th class=\"col_heading level0 col3\" >neg_root_mean_squared_error<\/th>\n",
              "    <\/tr>\n",
              "  <\/thead>\n",
              "  <tbody>\n",
              "    <tr>\n",
              "      <th id=\"T_abdc6_level0_row0\" class=\"row_heading level0 row0\" >Train<\/th>\n",
              "      <td id=\"T_abdc6_row0_col0\" class=\"data row0 col0\" >0.929792<\/td>\n",
              "      <td id=\"T_abdc6_row0_col1\" class=\"data row0 col1\" >-1380306.167733<\/td>\n",
              "      <td id=\"T_abdc6_row0_col2\" class=\"data row0 col2\" >-320867.126409<\/td>\n",
              "      <td id=\"T_abdc6_row0_col3\" class=\"data row0 col3\" >-413270.369546<\/td>\n",
              "    <\/tr>\n",
              "    <tr>\n",
              "      <th id=\"T_abdc6_level0_row1\" class=\"row_heading level0 row1\" >Test<\/th>\n",
              "      <td id=\"T_abdc6_row1_col0\" class=\"data row1 col0\" >0.502677<\/td>\n",
              "      <td id=\"T_abdc6_row1_col1\" class=\"data row1 col1\" >-649318.640957<\/td>\n",
              "      <td id=\"T_abdc6_row1_col2\" class=\"data row1 col2\" >-326144.684020<\/td>\n",
              "      <td id=\"T_abdc6_row1_col3\" class=\"data row1 col3\" >-360693.300325<\/td>\n",
              "    <\/tr>\n",
              "    <tr>\n",
              "      <th id=\"T_abdc6_level0_row2\" class=\"row_heading level0 row2\" >All<\/th>\n",
              "      <td id=\"T_abdc6_row2_col0\" class=\"data row2 col0\" >0.931969<\/td>\n",
              "      <td id=\"T_abdc6_row2_col1\" class=\"data row2 col1\" >-1380306.167733<\/td>\n",
              "      <td id=\"T_abdc6_row2_col2\" class=\"data row2 col2\" >-321014.309291<\/td>\n",
              "      <td id=\"T_abdc6_row2_col3\" class=\"data row2 col3\" >-411895.060681<\/td>\n",
              "    <\/tr>\n",
              "  <\/tbody>\n",
              "<\/table>\n"
            ]
          },
          "metadata":{
            
          },
          "output_type":"display_data"
        }
      ],
      "metadata":{
        
      }
    },
    {
      "cell_type":"markdown",
      "source":[
        "## Без weekday_6"
      ],
      "attachments":{
        
      },
      "metadata":{
        
      }
    },
    {
      "cell_type":"code",
      "source":[
        "expanded_df_without_outliers = expand(df_without_outliers)\n",
        "expanded_df_without_outliers['day'] = range(len(expanded_df_without_outliers))\n",
        "\n",
        "expanded_df_wo_outliers_wo_weekday_6 = expanded_df_without_outliers.drop(columns=['weekday_6'])\n",
        "model_wo_weekday, plot_wo_weekday, scores_wo_weekday = fit_model(expanded_df_wo_outliers_wo_weekday_6, 14)"
      ],
      "execution_count":22,
      "outputs":[
        {
          "data":{
            "text\/html":[
              "<style type=\"text\/css\">\n",
              "<\/style>\n",
              "<table id=\"T_e17ee_\">\n",
              "  <thead>\n",
              "    <tr>\n",
              "      <th class=\"index_name level0\" >predictor<\/th>\n",
              "      <th class=\"col_heading level0 col0\" >coef<\/th>\n",
              "      <th class=\"col_heading level0 col1\" >pvalue<\/th>\n",
              "    <\/tr>\n",
              "  <\/thead>\n",
              "  <tbody>\n",
              "    <tr>\n",
              "      <th id=\"T_e17ee_level0_row0\" class=\"row_heading level0 row0\" >intercept<\/th>\n",
              "      <td id=\"T_e17ee_row0_col0\" class=\"data row0 col0\" >6939560.5779<\/td>\n",
              "      <td id=\"T_e17ee_row0_col1\" class=\"data row0 col1\" >0.000000e+00<\/td>\n",
              "    <\/tr>\n",
              "    <tr>\n",
              "      <th id=\"T_e17ee_level0_row1\" class=\"row_heading level0 row1\" >month_1<\/th>\n",
              "      <td id=\"T_e17ee_row1_col0\" class=\"data row1 col0\" >202695.5905<\/td>\n",
              "      <td id=\"T_e17ee_row1_col1\" class=\"data row1 col1\" >4.012483e-02<\/td>\n",
              "    <\/tr>\n",
              "    <tr>\n",
              "      <th id=\"T_e17ee_level0_row2\" class=\"row_heading level0 row2\" >month_2<\/th>\n",
              "      <td id=\"T_e17ee_row2_col0\" class=\"data row2 col0\" >433925.4860<\/td>\n",
              "      <td id=\"T_e17ee_row2_col1\" class=\"data row2 col1\" >2.118173e-05<\/td>\n",
              "    <\/tr>\n",
              "    <tr>\n",
              "      <th id=\"T_e17ee_level0_row3\" class=\"row_heading level0 row3\" >month_3<\/th>\n",
              "      <td id=\"T_e17ee_row3_col0\" class=\"data row3 col0\" >-238353.2353<\/td>\n",
              "      <td id=\"T_e17ee_row3_col1\" class=\"data row3 col1\" >1.500004e-02<\/td>\n",
              "    <\/tr>\n",
              "    <tr>\n",
              "      <th id=\"T_e17ee_level0_row4\" class=\"row_heading level0 row4\" >month_4<\/th>\n",
              "      <td id=\"T_e17ee_row4_col0\" class=\"data row4 col0\" >-991229.4902<\/td>\n",
              "      <td id=\"T_e17ee_row4_col1\" class=\"data row4 col1\" >0.000000e+00<\/td>\n",
              "    <\/tr>\n",
              "    <tr>\n",
              "      <th id=\"T_e17ee_level0_row5\" class=\"row_heading level0 row5\" >month_5<\/th>\n",
              "      <td id=\"T_e17ee_row5_col0\" class=\"data row5 col0\" >-2345896.9559<\/td>\n",
              "      <td id=\"T_e17ee_row5_col1\" class=\"data row5 col1\" >0.000000e+00<\/td>\n",
              "    <\/tr>\n",
              "    <tr>\n",
              "      <th id=\"T_e17ee_level0_row6\" class=\"row_heading level0 row6\" >month_6<\/th>\n",
              "      <td id=\"T_e17ee_row6_col0\" class=\"data row6 col0\" >-3551845.6496<\/td>\n",
              "      <td id=\"T_e17ee_row6_col1\" class=\"data row6 col1\" >0.000000e+00<\/td>\n",
              "    <\/tr>\n",
              "    <tr>\n",
              "      <th id=\"T_e17ee_level0_row7\" class=\"row_heading level0 row7\" >month_7<\/th>\n",
              "      <td id=\"T_e17ee_row7_col0\" class=\"data row7 col0\" >-4207452.1652<\/td>\n",
              "      <td id=\"T_e17ee_row7_col1\" class=\"data row7 col1\" >0.000000e+00<\/td>\n",
              "    <\/tr>\n",
              "    <tr>\n",
              "      <th id=\"T_e17ee_level0_row8\" class=\"row_heading level0 row8\" >month_8<\/th>\n",
              "      <td id=\"T_e17ee_row8_col0\" class=\"data row8 col0\" >-3677044.1078<\/td>\n",
              "      <td id=\"T_e17ee_row8_col1\" class=\"data row8 col1\" >0.000000e+00<\/td>\n",
              "    <\/tr>\n",
              "    <tr>\n",
              "      <th id=\"T_e17ee_level0_row9\" class=\"row_heading level0 row9\" >month_9<\/th>\n",
              "      <td id=\"T_e17ee_row9_col0\" class=\"data row9 col0\" >-2755136.4704<\/td>\n",
              "      <td id=\"T_e17ee_row9_col1\" class=\"data row9 col1\" >0.000000e+00<\/td>\n",
              "    <\/tr>\n",
              "    <tr>\n",
              "      <th id=\"T_e17ee_level0_row10\" class=\"row_heading level0 row10\" >month_10<\/th>\n",
              "      <td id=\"T_e17ee_row10_col0\" class=\"data row10 col0\" >-1094728.8976<\/td>\n",
              "      <td id=\"T_e17ee_row10_col1\" class=\"data row10 col1\" >0.000000e+00<\/td>\n",
              "    <\/tr>\n",
              "    <tr>\n",
              "      <th id=\"T_e17ee_level0_row11\" class=\"row_heading level0 row11\" >month_11<\/th>\n",
              "      <td id=\"T_e17ee_row11_col0\" class=\"data row11 col0\" >-545675.8510<\/td>\n",
              "      <td id=\"T_e17ee_row11_col1\" class=\"data row11 col1\" >7.911827e-11<\/td>\n",
              "    <\/tr>\n",
              "    <tr>\n",
              "      <th id=\"T_e17ee_level0_row12\" class=\"row_heading level0 row12\" >weekday_1<\/th>\n",
              "      <td id=\"T_e17ee_row12_col0\" class=\"data row12 col0\" >360005.2371<\/td>\n",
              "      <td id=\"T_e17ee_row12_col1\" class=\"data row12 col1\" >1.229722e-08<\/td>\n",
              "    <\/tr>\n",
              "    <tr>\n",
              "      <th id=\"T_e17ee_level0_row13\" class=\"row_heading level0 row13\" >weekday_2<\/th>\n",
              "      <td id=\"T_e17ee_row13_col0\" class=\"data row13 col0\" >495972.8456<\/td>\n",
              "      <td id=\"T_e17ee_row13_col1\" class=\"data row13 col1\" >1.043610e-14<\/td>\n",
              "    <\/tr>\n",
              "    <tr>\n",
              "      <th id=\"T_e17ee_level0_row14\" class=\"row_heading level0 row14\" >weekday_3<\/th>\n",
              "      <td id=\"T_e17ee_row14_col0\" class=\"data row14 col0\" >519846.4723<\/td>\n",
              "      <td id=\"T_e17ee_row14_col1\" class=\"data row14 col1\" >6.661338e-16<\/td>\n",
              "    <\/tr>\n",
              "    <tr>\n",
              "      <th id=\"T_e17ee_level0_row15\" class=\"row_heading level0 row15\" >weekday_4<\/th>\n",
              "      <td id=\"T_e17ee_row15_col0\" class=\"data row15 col0\" >505469.3803<\/td>\n",
              "      <td id=\"T_e17ee_row15_col1\" class=\"data row15 col1\" >3.330669e-15<\/td>\n",
              "    <\/tr>\n",
              "    <tr>\n",
              "      <th id=\"T_e17ee_level0_row16\" class=\"row_heading level0 row16\" >weekday_5<\/th>\n",
              "      <td id=\"T_e17ee_row16_col0\" class=\"data row16 col0\" >442517.0974<\/td>\n",
              "      <td id=\"T_e17ee_row16_col1\" class=\"data row16 col1\" >3.744782e-12<\/td>\n",
              "    <\/tr>\n",
              "    <tr>\n",
              "      <th id=\"T_e17ee_level0_row17\" class=\"row_heading level0 row17\" >day<\/th>\n",
              "      <td id=\"T_e17ee_row17_col0\" class=\"data row17 col0\" >2044.1663<\/td>\n",
              "      <td id=\"T_e17ee_row17_col1\" class=\"data row17 col1\" >0.000000e+00<\/td>\n",
              "    <\/tr>\n",
              "  <\/tbody>\n",
              "<\/table>\n"
            ]
          },
          "metadata":{
            
          },
          "output_type":"display_data"
        }
      ],
      "metadata":{
        
      }
    },
    {
      "cell_type":"code",
      "source":[
        "scores_wo_weekday.style.highlight_max()"
      ],
      "execution_count":23,
      "outputs":[
        {
          "data":{
            "text\/html":[
              "<style type=\"text\/css\">\n",
              "#T_a8bd8_row0_col2, #T_a8bd8_row1_col1, #T_a8bd8_row1_col3, #T_a8bd8_row2_col0 {\n",
              "  background-color: yellow;\n",
              "}\n",
              "<\/style>\n",
              "<table id=\"T_a8bd8_\">\n",
              "  <thead>\n",
              "    <tr>\n",
              "      <th class=\"blank level0\" >&nbsp;<\/th>\n",
              "      <th class=\"col_heading level0 col0\" >r2<\/th>\n",
              "      <th class=\"col_heading level0 col1\" >max_error<\/th>\n",
              "      <th class=\"col_heading level0 col2\" >neg_mean_absolute_error<\/th>\n",
              "      <th class=\"col_heading level0 col3\" >neg_root_mean_squared_error<\/th>\n",
              "    <\/tr>\n",
              "  <\/thead>\n",
              "  <tbody>\n",
              "    <tr>\n",
              "      <th id=\"T_a8bd8_level0_row0\" class=\"row_heading level0 row0\" >Train<\/th>\n",
              "      <td id=\"T_a8bd8_row0_col0\" class=\"data row0 col0\" >0.929018<\/td>\n",
              "      <td id=\"T_a8bd8_row0_col1\" class=\"data row0 col1\" >-1380383.546293<\/td>\n",
              "      <td id=\"T_a8bd8_row0_col2\" class=\"data row0 col2\" >-321518.956179<\/td>\n",
              "      <td id=\"T_a8bd8_row0_col3\" class=\"data row0 col3\" >-415544.004885<\/td>\n",
              "    <\/tr>\n",
              "    <tr>\n",
              "      <th id=\"T_a8bd8_level0_row1\" class=\"row_heading level0 row1\" >Test<\/th>\n",
              "      <td id=\"T_a8bd8_row1_col0\" class=\"data row1 col0\" >0.503784<\/td>\n",
              "      <td id=\"T_a8bd8_row1_col1\" class=\"data row1 col1\" >-649500.703585<\/td>\n",
              "      <td id=\"T_a8bd8_row1_col2\" class=\"data row1 col2\" >-326099.356767<\/td>\n",
              "      <td id=\"T_a8bd8_row1_col3\" class=\"data row1 col3\" >-360291.729893<\/td>\n",
              "    <\/tr>\n",
              "    <tr>\n",
              "      <th id=\"T_a8bd8_level0_row2\" class=\"row_heading level0 row2\" >All<\/th>\n",
              "      <td id=\"T_a8bd8_row2_col0\" class=\"data row2 col0\" >0.931238<\/td>\n",
              "      <td id=\"T_a8bd8_row2_col1\" class=\"data row2 col1\" >-1380383.546293<\/td>\n",
              "      <td id=\"T_a8bd8_row2_col2\" class=\"data row2 col2\" >-321646.696434<\/td>\n",
              "      <td id=\"T_a8bd8_row2_col3\" class=\"data row2 col3\" >-414103.048328<\/td>\n",
              "    <\/tr>\n",
              "  <\/tbody>\n",
              "<\/table>\n"
            ]
          },
          "metadata":{
            
          },
          "output_type":"display_data"
        }
      ],
      "metadata":{
        
      }
    },
    {
      "cell_type":"code",
      "source":[
        "scores_all.style.highlight_max()"
      ],
      "execution_count":24,
      "outputs":[
        {
          "data":{
            "text\/html":[
              "<style type=\"text\/css\">\n",
              "#T_c6f98_row0_col2, #T_c6f98_row1_col1, #T_c6f98_row1_col3, #T_c6f98_row2_col0 {\n",
              "  background-color: yellow;\n",
              "}\n",
              "<\/style>\n",
              "<table id=\"T_c6f98_\">\n",
              "  <thead>\n",
              "    <tr>\n",
              "      <th class=\"blank level0\" >&nbsp;<\/th>\n",
              "      <th class=\"col_heading level0 col0\" >r2<\/th>\n",
              "      <th class=\"col_heading level0 col1\" >max_error<\/th>\n",
              "      <th class=\"col_heading level0 col2\" >neg_mean_absolute_error<\/th>\n",
              "      <th class=\"col_heading level0 col3\" >neg_root_mean_squared_error<\/th>\n",
              "    <\/tr>\n",
              "  <\/thead>\n",
              "  <tbody>\n",
              "    <tr>\n",
              "      <th id=\"T_c6f98_level0_row0\" class=\"row_heading level0 row0\" >Train<\/th>\n",
              "      <td id=\"T_c6f98_row0_col0\" class=\"data row0 col0\" >0.929792<\/td>\n",
              "      <td id=\"T_c6f98_row0_col1\" class=\"data row0 col1\" >-1380306.167733<\/td>\n",
              "      <td id=\"T_c6f98_row0_col2\" class=\"data row0 col2\" >-320867.126409<\/td>\n",
              "      <td id=\"T_c6f98_row0_col3\" class=\"data row0 col3\" >-413270.369546<\/td>\n",
              "    <\/tr>\n",
              "    <tr>\n",
              "      <th id=\"T_c6f98_level0_row1\" class=\"row_heading level0 row1\" >Test<\/th>\n",
              "      <td id=\"T_c6f98_row1_col0\" class=\"data row1 col0\" >0.502677<\/td>\n",
              "      <td id=\"T_c6f98_row1_col1\" class=\"data row1 col1\" >-649318.640957<\/td>\n",
              "      <td id=\"T_c6f98_row1_col2\" class=\"data row1 col2\" >-326144.684020<\/td>\n",
              "      <td id=\"T_c6f98_row1_col3\" class=\"data row1 col3\" >-360693.300325<\/td>\n",
              "    <\/tr>\n",
              "    <tr>\n",
              "      <th id=\"T_c6f98_level0_row2\" class=\"row_heading level0 row2\" >All<\/th>\n",
              "      <td id=\"T_c6f98_row2_col0\" class=\"data row2 col0\" >0.931969<\/td>\n",
              "      <td id=\"T_c6f98_row2_col1\" class=\"data row2 col1\" >-1380306.167733<\/td>\n",
              "      <td id=\"T_c6f98_row2_col2\" class=\"data row2 col2\" >-321014.309291<\/td>\n",
              "      <td id=\"T_c6f98_row2_col3\" class=\"data row2 col3\" >-411895.060681<\/td>\n",
              "    <\/tr>\n",
              "  <\/tbody>\n",
              "<\/table>\n"
            ]
          },
          "metadata":{
            
          },
          "output_type":"display_data"
        }
      ],
      "metadata":{
        
      }
    },
    {
      "cell_type":"markdown",
      "source":[
        "## Без weekday_6 и month_1"
      ],
      "attachments":{
        
      },
      "metadata":{
        
      }
    },
    {
      "cell_type":"code",
      "source":[
        "expanded_df_without_outliers = expand(df_without_outliers)\n",
        "expanded_df_without_outliers['day'] = range(len(expanded_df_without_outliers))\n",
        "\n",
        "expanded_df_wo_outliers_wo_weekday_6_wo_month_1 = expanded_df_without_outliers.drop(columns=['weekday_6', 'month_1'])\n",
        "model_wo_weekday_wo_month, plot_wo_weekday_wo_month, scores_wo_weekday_wo_month = (\n",
        "    fit_model(expanded_df_wo_outliers_wo_weekday_6_wo_month_1, 14)\n",
        ")"
      ],
      "execution_count":25,
      "outputs":[
        {
          "data":{
            "text\/html":[
              "<style type=\"text\/css\">\n",
              "<\/style>\n",
              "<table id=\"T_519ef_\">\n",
              "  <thead>\n",
              "    <tr>\n",
              "      <th class=\"index_name level0\" >predictor<\/th>\n",
              "      <th class=\"col_heading level0 col0\" >coef<\/th>\n",
              "      <th class=\"col_heading level0 col1\" >pvalue<\/th>\n",
              "    <\/tr>\n",
              "  <\/thead>\n",
              "  <tbody>\n",
              "    <tr>\n",
              "      <th id=\"T_519ef_level0_row0\" class=\"row_heading level0 row0\" >intercept<\/th>\n",
              "      <td id=\"T_519ef_row0_col0\" class=\"data row0 col0\" >7029681.3401<\/td>\n",
              "      <td id=\"T_519ef_row0_col1\" class=\"data row0 col1\" >0.000000e+00<\/td>\n",
              "    <\/tr>\n",
              "    <tr>\n",
              "      <th id=\"T_519ef_level0_row1\" class=\"row_heading level0 row1\" >month_2<\/th>\n",
              "      <td id=\"T_519ef_row1_col0\" class=\"data row1 col0\" >353176.8398<\/td>\n",
              "      <td id=\"T_519ef_row1_col1\" class=\"data row1 col1\" >1.765419e-04<\/td>\n",
              "    <\/tr>\n",
              "    <tr>\n",
              "      <th id=\"T_519ef_level0_row2\" class=\"row_heading level0 row2\" >month_3<\/th>\n",
              "      <td id=\"T_519ef_row2_col0\" class=\"data row2 col0\" >-317807.7541<\/td>\n",
              "      <td id=\"T_519ef_row2_col1\" class=\"data row2 col1\" >4.526054e-04<\/td>\n",
              "    <\/tr>\n",
              "    <tr>\n",
              "      <th id=\"T_519ef_level0_row3\" class=\"row_heading level0 row3\" >month_4<\/th>\n",
              "      <td id=\"T_519ef_row3_col0\" class=\"data row3 col0\" >-1069497.1447<\/td>\n",
              "      <td id=\"T_519ef_row3_col1\" class=\"data row3 col1\" >0.000000e+00<\/td>\n",
              "    <\/tr>\n",
              "    <tr>\n",
              "      <th id=\"T_519ef_level0_row4\" class=\"row_heading level0 row4\" >month_5<\/th>\n",
              "      <td id=\"T_519ef_row4_col0\" class=\"data row4 col0\" >-2423089.3732<\/td>\n",
              "      <td id=\"T_519ef_row4_col1\" class=\"data row4 col1\" >0.000000e+00<\/td>\n",
              "    <\/tr>\n",
              "    <tr>\n",
              "      <th id=\"T_519ef_level0_row5\" class=\"row_heading level0 row5\" >month_6<\/th>\n",
              "      <td id=\"T_519ef_row5_col0\" class=\"data row5 col0\" >-3627565.8561<\/td>\n",
              "      <td id=\"T_519ef_row5_col1\" class=\"data row5 col1\" >0.000000e+00<\/td>\n",
              "    <\/tr>\n",
              "    <tr>\n",
              "      <th id=\"T_519ef_level0_row6\" class=\"row_heading level0 row6\" >month_7<\/th>\n",
              "      <td id=\"T_519ef_row6_col0\" class=\"data row6 col0\" >-4282056.9482<\/td>\n",
              "      <td id=\"T_519ef_row6_col1\" class=\"data row6 col1\" >0.000000e+00<\/td>\n",
              "    <\/tr>\n",
              "    <tr>\n",
              "      <th id=\"T_519ef_level0_row7\" class=\"row_heading level0 row7\" >month_8<\/th>\n",
              "      <td id=\"T_519ef_row7_col0\" class=\"data row7 col0\" >-3755126.8207<\/td>\n",
              "      <td id=\"T_519ef_row7_col1\" class=\"data row7 col1\" >0.000000e+00<\/td>\n",
              "    <\/tr>\n",
              "    <tr>\n",
              "      <th id=\"T_519ef_level0_row8\" class=\"row_heading level0 row8\" >month_9<\/th>\n",
              "      <td id=\"T_519ef_row8_col0\" class=\"data row8 col0\" >-2834526.3082<\/td>\n",
              "      <td id=\"T_519ef_row8_col1\" class=\"data row8 col1\" >0.000000e+00<\/td>\n",
              "    <\/tr>\n",
              "    <tr>\n",
              "      <th id=\"T_519ef_level0_row9\" class=\"row_heading level0 row9\" >month_10<\/th>\n",
              "      <td id=\"T_519ef_row9_col0\" class=\"data row9 col0\" >-1173085.0696<\/td>\n",
              "      <td id=\"T_519ef_row9_col1\" class=\"data row9 col1\" >0.000000e+00<\/td>\n",
              "    <\/tr>\n",
              "    <tr>\n",
              "      <th id=\"T_519ef_level0_row10\" class=\"row_heading level0 row10\" >month_11<\/th>\n",
              "      <td id=\"T_519ef_row10_col0\" class=\"data row10 col0\" >-622717.0067<\/td>\n",
              "      <td id=\"T_519ef_row10_col1\" class=\"data row10 col1\" >2.220446e-16<\/td>\n",
              "    <\/tr>\n",
              "    <tr>\n",
              "      <th id=\"T_519ef_level0_row11\" class=\"row_heading level0 row11\" >weekday_1<\/th>\n",
              "      <td id=\"T_519ef_row11_col0\" class=\"data row11 col0\" >358129.5808<\/td>\n",
              "      <td id=\"T_519ef_row11_col1\" class=\"data row11 col1\" >1.616404e-08<\/td>\n",
              "    <\/tr>\n",
              "    <tr>\n",
              "      <th id=\"T_519ef_level0_row12\" class=\"row_heading level0 row12\" >weekday_2<\/th>\n",
              "      <td id=\"T_519ef_row12_col0\" class=\"data row12 col0\" >493034.9844<\/td>\n",
              "      <td id=\"T_519ef_row12_col1\" class=\"data row12 col1\" >1.731948e-14<\/td>\n",
              "    <\/tr>\n",
              "    <tr>\n",
              "      <th id=\"T_519ef_level0_row13\" class=\"row_heading level0 row13\" >weekday_3<\/th>\n",
              "      <td id=\"T_519ef_row13_col0\" class=\"data row13 col0\" >515867.4378<\/td>\n",
              "      <td id=\"T_519ef_row13_col1\" class=\"data row13 col1\" >1.332268e-15<\/td>\n",
              "    <\/tr>\n",
              "    <tr>\n",
              "      <th id=\"T_519ef_level0_row14\" class=\"row_heading level0 row14\" >weekday_4<\/th>\n",
              "      <td id=\"T_519ef_row14_col0\" class=\"data row14 col0\" >501483.4307<\/td>\n",
              "      <td id=\"T_519ef_row14_col1\" class=\"data row14 col1\" >6.439294e-15<\/td>\n",
              "    <\/tr>\n",
              "    <tr>\n",
              "      <th id=\"T_519ef_level0_row15\" class=\"row_heading level0 row15\" >weekday_5<\/th>\n",
              "      <td id=\"T_519ef_row15_col0\" class=\"data row15 col0\" >441452.7739<\/td>\n",
              "      <td id=\"T_519ef_row15_col1\" class=\"data row15 col1\" >4.904521e-12<\/td>\n",
              "    <\/tr>\n",
              "    <tr>\n",
              "      <th id=\"T_519ef_level0_row16\" class=\"row_heading level0 row16\" >day<\/th>\n",
              "      <td id=\"T_519ef_row16_col0\" class=\"data row16 col0\" >2003.4249<\/td>\n",
              "      <td id=\"T_519ef_row16_col1\" class=\"data row16 col1\" >0.000000e+00<\/td>\n",
              "    <\/tr>\n",
              "  <\/tbody>\n",
              "<\/table>\n"
            ]
          },
          "metadata":{
            
          },
          "output_type":"display_data"
        }
      ],
      "metadata":{
        
      }
    },
    {
      "cell_type":"code",
      "source":[
        "scores_wo_weekday_wo_month.style.highlight_max()"
      ],
      "execution_count":26,
      "outputs":[
        {
          "data":{
            "text\/html":[
              "<style type=\"text\/css\">\n",
              "#T_68ce3_row0_col2, #T_68ce3_row1_col1, #T_68ce3_row1_col3, #T_68ce3_row2_col0 {\n",
              "  background-color: yellow;\n",
              "}\n",
              "<\/style>\n",
              "<table id=\"T_68ce3_\">\n",
              "  <thead>\n",
              "    <tr>\n",
              "      <th class=\"blank level0\" >&nbsp;<\/th>\n",
              "      <th class=\"col_heading level0 col0\" >r2<\/th>\n",
              "      <th class=\"col_heading level0 col1\" >max_error<\/th>\n",
              "      <th class=\"col_heading level0 col2\" >neg_mean_absolute_error<\/th>\n",
              "      <th class=\"col_heading level0 col3\" >neg_root_mean_squared_error<\/th>\n",
              "    <\/tr>\n",
              "  <\/thead>\n",
              "  <tbody>\n",
              "    <tr>\n",
              "      <th id=\"T_68ce3_level0_row0\" class=\"row_heading level0 row0\" >Train<\/th>\n",
              "      <td id=\"T_68ce3_row0_col0\" class=\"data row0 col0\" >0.928379<\/td>\n",
              "      <td id=\"T_68ce3_row0_col1\" class=\"data row0 col1\" >-1380074.895294<\/td>\n",
              "      <td id=\"T_68ce3_row0_col2\" class=\"data row0 col2\" >-321840.639501<\/td>\n",
              "      <td id=\"T_68ce3_row0_col3\" class=\"data row0 col3\" >-417408.109735<\/td>\n",
              "    <\/tr>\n",
              "    <tr>\n",
              "      <th id=\"T_68ce3_level0_row1\" class=\"row_heading level0 row1\" >Test<\/th>\n",
              "      <td id=\"T_68ce3_row1_col0\" class=\"data row1 col0\" >0.506052<\/td>\n",
              "      <td id=\"T_68ce3_row1_col1\" class=\"data row1 col1\" >-581218.898293<\/td>\n",
              "      <td id=\"T_68ce3_row1_col2\" class=\"data row1 col2\" >-336699.015090<\/td>\n",
              "      <td id=\"T_68ce3_row1_col3\" class=\"data row1 col3\" >-359467.491697<\/td>\n",
              "    <\/tr>\n",
              "    <tr>\n",
              "      <th id=\"T_68ce3_level0_row2\" class=\"row_heading level0 row2\" >All<\/th>\n",
              "      <td id=\"T_68ce3_row2_col0\" class=\"data row2 col0\" >0.930639<\/td>\n",
              "      <td id=\"T_68ce3_row2_col1\" class=\"data row2 col1\" >-1380074.895294<\/td>\n",
              "      <td id=\"T_68ce3_row2_col2\" class=\"data row2 col2\" >-322255.016509<\/td>\n",
              "      <td id=\"T_68ce3_row2_col3\" class=\"data row2 col3\" >-415901.667627<\/td>\n",
              "    <\/tr>\n",
              "  <\/tbody>\n",
              "<\/table>\n"
            ]
          },
          "metadata":{
            
          },
          "output_type":"display_data"
        }
      ],
      "metadata":{
        
      }
    },
    {
      "cell_type":"code",
      "source":[
        "scores_wo_weekday.style.highlight_max()"
      ],
      "execution_count":27,
      "outputs":[
        {
          "data":{
            "text\/html":[
              "<style type=\"text\/css\">\n",
              "#T_848f2_row0_col2, #T_848f2_row1_col1, #T_848f2_row1_col3, #T_848f2_row2_col0 {\n",
              "  background-color: yellow;\n",
              "}\n",
              "<\/style>\n",
              "<table id=\"T_848f2_\">\n",
              "  <thead>\n",
              "    <tr>\n",
              "      <th class=\"blank level0\" >&nbsp;<\/th>\n",
              "      <th class=\"col_heading level0 col0\" >r2<\/th>\n",
              "      <th class=\"col_heading level0 col1\" >max_error<\/th>\n",
              "      <th class=\"col_heading level0 col2\" >neg_mean_absolute_error<\/th>\n",
              "      <th class=\"col_heading level0 col3\" >neg_root_mean_squared_error<\/th>\n",
              "    <\/tr>\n",
              "  <\/thead>\n",
              "  <tbody>\n",
              "    <tr>\n",
              "      <th id=\"T_848f2_level0_row0\" class=\"row_heading level0 row0\" >Train<\/th>\n",
              "      <td id=\"T_848f2_row0_col0\" class=\"data row0 col0\" >0.929018<\/td>\n",
              "      <td id=\"T_848f2_row0_col1\" class=\"data row0 col1\" >-1380383.546293<\/td>\n",
              "      <td id=\"T_848f2_row0_col2\" class=\"data row0 col2\" >-321518.956179<\/td>\n",
              "      <td id=\"T_848f2_row0_col3\" class=\"data row0 col3\" >-415544.004885<\/td>\n",
              "    <\/tr>\n",
              "    <tr>\n",
              "      <th id=\"T_848f2_level0_row1\" class=\"row_heading level0 row1\" >Test<\/th>\n",
              "      <td id=\"T_848f2_row1_col0\" class=\"data row1 col0\" >0.503784<\/td>\n",
              "      <td id=\"T_848f2_row1_col1\" class=\"data row1 col1\" >-649500.703585<\/td>\n",
              "      <td id=\"T_848f2_row1_col2\" class=\"data row1 col2\" >-326099.356767<\/td>\n",
              "      <td id=\"T_848f2_row1_col3\" class=\"data row1 col3\" >-360291.729893<\/td>\n",
              "    <\/tr>\n",
              "    <tr>\n",
              "      <th id=\"T_848f2_level0_row2\" class=\"row_heading level0 row2\" >All<\/th>\n",
              "      <td id=\"T_848f2_row2_col0\" class=\"data row2 col0\" >0.931238<\/td>\n",
              "      <td id=\"T_848f2_row2_col1\" class=\"data row2 col1\" >-1380383.546293<\/td>\n",
              "      <td id=\"T_848f2_row2_col2\" class=\"data row2 col2\" >-321646.696434<\/td>\n",
              "      <td id=\"T_848f2_row2_col3\" class=\"data row2 col3\" >-414103.048328<\/td>\n",
              "    <\/tr>\n",
              "  <\/tbody>\n",
              "<\/table>\n"
            ]
          },
          "metadata":{
            
          },
          "output_type":"display_data"
        }
      ],
      "metadata":{
        
      }
    },
    {
      "cell_type":"code",
      "source":[
        "plot_wo_weekday_wo_month"
      ],
      "execution_count":28,
      "outputs":[
        {
          "data":{
            "text\/plain":[
              "Unsupported"
            ]
          },
          "metadata":{
            
          },
          "output_type":"display_data"
        }
      ],
      "metadata":{
        
      }
    },
    {
      "cell_type":"markdown",
      "source":[
        "# Результаты"
      ],
      "attachments":{
        
      },
      "metadata":{
        
      }
    },
    {
      "cell_type":"code",
      "source":[
        "NUMBER_OF_DAYS_TO_PREDICT = 7"
      ],
      "execution_count":29,
      "outputs":[
        
      ],
      "metadata":{
        
      }
    },
    {
      "cell_type":"code",
      "source":[
        "future_extension = pd.DataFrame(data=[None] * NUMBER_OF_DAYS_TO_PREDICT,\n",
        "                                index=pd.date_range(df_without_outliers.index.max() + + timedelta(days=1),\n",
        "                                                    df_without_outliers.index.max() + timedelta(\n",
        "                                                        days=NUMBER_OF_DAYS_TO_PREDICT)).date,\n",
        "                                columns=['value'])\n",
        "extended_df_without_outliers = pd.concat([df_without_outliers, future_extension])\n",
        "expanded_and_extended_df_wo_outlires = expand(pd.concat([df_without_outliers, future_extension]))\n",
        "expanded_and_extended_df_wo_outlires['day'] = range(len(expanded_and_extended_df_wo_outlires))\n",
        "expanded_and_extended_df_wo_outlires.drop(columns=['month_1', 'weekday_6'], inplace=True)\n",
        "\n",
        "x_columns = expanded_and_extended_df_wo_outlires.columns.tolist()\n",
        "x_columns.remove('value')\n",
        "\n",
        "model = LinearRegression()\n",
        "model.fit(expanded_and_extended_df_wo_outlires[x_columns][:-NUMBER_OF_DAYS_TO_PREDICT],\n",
        "          expanded_and_extended_df_wo_outlires['value'][:-NUMBER_OF_DAYS_TO_PREDICT])\n",
        "\n",
        "fig = go.Figure()\n",
        "\n",
        "fig.add_scatter(\n",
        "    x=expanded_and_extended_df_wo_outlires.index,\n",
        "    y=expanded_and_extended_df_wo_outlires['value'],\n",
        "    name='Исходные данные',\n",
        ")\n",
        "\n",
        "predictions = model.predict(expanded_and_extended_df_wo_outlires[x_columns])\n",
        "\n",
        "fig.add_scatter(\n",
        "    x=expanded_and_extended_df_wo_outlires.index,\n",
        "    y=predictions,\n",
        "    name='Модель',\n",
        ")\n",
        "fig.update_layout(xaxis_title='Дата', yaxis_title='Объем потребления',\n",
        "                  title=f'Объём потребления электроэнергии в период с 2009 по 2010 год + {NUMBER_OF_DAYS_TO_PREDICT} дней')\n",
        "fig.show()\n"
      ],
      "execution_count":30,
      "outputs":[
        {
          "data":{
            "text\/plain":[
              "Unsupported"
            ]
          },
          "metadata":{
            
          },
          "output_type":"display_data"
        }
      ],
      "metadata":{
        
      }
    },
    {
      "cell_type":"code",
      "source":[
        "score_model(model, expanded_and_extended_df_wo_outlires[x_columns][:-NUMBER_OF_DAYS_TO_PREDICT],\n",
        "            expanded_and_extended_df_wo_outlires['value'][:-NUMBER_OF_DAYS_TO_PREDICT], None, None)"
      ],
      "execution_count":31,
      "outputs":[
        {
          "data":{
            "text\/html":[
              "<div>\n",
              "<style scoped>\n",
              "    .dataframe tbody tr th:only-of-type {\n",
              "        vertical-align: middle;\n",
              "    }\n",
              "\n",
              "    .dataframe tbody tr th {\n",
              "        vertical-align: top;\n",
              "    }\n",
              "\n",
              "    .dataframe thead th {\n",
              "        text-align: right;\n",
              "    }\n",
              "<\/style>\n",
              "<table border=\"1\" class=\"dataframe\">\n",
              "  <thead>\n",
              "    <tr style=\"text-align: right;\">\n",
              "      <th><\/th>\n",
              "      <th>r2<\/th>\n",
              "      <th>max_error<\/th>\n",
              "      <th>neg_mean_absolute_error<\/th>\n",
              "      <th>neg_root_mean_squared_error<\/th>\n",
              "    <\/tr>\n",
              "  <\/thead>\n",
              "  <tbody>\n",
              "    <tr>\n",
              "      <th>Train<\/th>\n",
              "      <td>0.930659<\/td>\n",
              "      <td>-1.385022e+06<\/td>\n",
              "      <td>-322047.424834<\/td>\n",
              "      <td>-415842.61559<\/td>\n",
              "    <\/tr>\n",
              "  <\/tbody>\n",
              "<\/table>\n",
              "<\/div>"
            ]
          },
          "metadata":{
            
          },
          "output_type":"display_data"
        }
      ],
      "metadata":{
        
      }
    },
    {
      "cell_type":"code",
      "source":[
        "pd.DataFrame(data=predictions[-NUMBER_OF_DAYS_TO_PREDICT:],\n",
        "             index=pd.date_range(df_without_outliers.index.max() + + timedelta(days=1),\n",
        "                                 df_without_outliers.index.max() + timedelta(\n",
        "                                     days=NUMBER_OF_DAYS_TO_PREDICT)).date,\n",
        "             columns=['value'])"
      ],
      "execution_count":32,
      "outputs":[
        {
          "data":{
            "text\/html":[
              "<div>\n",
              "<style scoped>\n",
              "    .dataframe tbody tr th:only-of-type {\n",
              "        vertical-align: middle;\n",
              "    }\n",
              "\n",
              "    .dataframe tbody tr th {\n",
              "        vertical-align: top;\n",
              "    }\n",
              "\n",
              "    .dataframe thead th {\n",
              "        text-align: right;\n",
              "    }\n",
              "<\/style>\n",
              "<table border=\"1\" class=\"dataframe\">\n",
              "  <thead>\n",
              "    <tr style=\"text-align: right;\">\n",
              "      <th><\/th>\n",
              "      <th>value<\/th>\n",
              "    <\/tr>\n",
              "  <\/thead>\n",
              "  <tbody>\n",
              "    <tr>\n",
              "      <th>2011-01-01<\/th>\n",
              "      <td>8.020356e+06<\/td>\n",
              "    <\/tr>\n",
              "    <tr>\n",
              "      <th>2011-01-02<\/th>\n",
              "      <td>8.022351e+06<\/td>\n",
              "    <\/tr>\n",
              "    <tr>\n",
              "      <th>2011-01-03<\/th>\n",
              "      <td>8.397069e+06<\/td>\n",
              "    <\/tr>\n",
              "    <tr>\n",
              "      <th>2011-01-04<\/th>\n",
              "      <td>8.532628e+06<\/td>\n",
              "    <\/tr>\n",
              "    <tr>\n",
              "      <th>2011-01-05<\/th>\n",
              "      <td>8.563304e+06<\/td>\n",
              "    <\/tr>\n",
              "    <tr>\n",
              "      <th>2011-01-06<\/th>\n",
              "      <td>8.539024e+06<\/td>\n",
              "    <\/tr>\n",
              "    <tr>\n",
              "      <th>2011-01-07<\/th>\n",
              "      <td>8.483085e+06<\/td>\n",
              "    <\/tr>\n",
              "  <\/tbody>\n",
              "<\/table>\n",
              "<\/div>"
            ]
          },
          "metadata":{
            
          },
          "output_type":"display_data"
        }
      ],
      "metadata":{
        
      }
    }
  ],
  "metadata":{
    
  },
  "nbformat":4,
  "nbformat_minor":0
}