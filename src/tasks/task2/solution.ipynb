{
  "cells":[
    {
      "cell_type":"code",
      "source":[
        "import pandas as pd\n",
        "import plotly.express as px\n",
        "import plotly.graph_objects as go\n",
        "from plotly.subplots import make_subplots\n",
        "from tabulate import tabulate"
      ],
      "execution_count":16,
      "outputs":[
        
      ],
      "metadata":{
        
      }
    },
    {
      "cell_type":"code",
      "source":[
        "products = pd.read_csv('PRODUCT_LIST.CSV', encoding='cp1251', sep=';')\n",
        "products.drop(columns=['Unnamed: 2', 'Unnamed: 3'], inplace=True)\n",
        "products.rename(columns={'Product_code': 'product_code', 'Product_name': 'product_name'}, inplace=True)\n",
        "products"
      ],
      "execution_count":17,
      "outputs":[
        {
          "data":{
            "text\/html":[
              "<div>\n",
              "<style scoped>\n",
              "    .dataframe tbody tr th:only-of-type {\n",
              "        vertical-align: middle;\n",
              "    }\n",
              "\n",
              "    .dataframe tbody tr th {\n",
              "        vertical-align: top;\n",
              "    }\n",
              "\n",
              "    .dataframe thead th {\n",
              "        text-align: right;\n",
              "    }\n",
              "<\/style>\n",
              "<table border=\"1\" class=\"dataframe\">\n",
              "  <thead>\n",
              "    <tr style=\"text-align: right;\">\n",
              "      <th><\/th>\n",
              "      <th>product_code<\/th>\n",
              "      <th>product_name<\/th>\n",
              "    <\/tr>\n",
              "  <\/thead>\n",
              "  <tbody>\n",
              "    <tr>\n",
              "      <th>0<\/th>\n",
              "      <td>821001<\/td>\n",
              "      <td>Кофе ЭСПРЕССО  30 мл<\/td>\n",
              "    <\/tr>\n",
              "    <tr>\n",
              "      <th>1<\/th>\n",
              "      <td>821002<\/td>\n",
              "      <td>Кофе ДОППИО 60мл<\/td>\n",
              "    <\/tr>\n",
              "    <tr>\n",
              "      <th>2<\/th>\n",
              "      <td>821003<\/td>\n",
              "      <td>Кофе РИСТРЕТТО  20 мл<\/td>\n",
              "    <\/tr>\n",
              "    <tr>\n",
              "      <th>3<\/th>\n",
              "      <td>821004<\/td>\n",
              "      <td>Фильтр кофе Верньяно250мл<\/td>\n",
              "    <\/tr>\n",
              "    <tr>\n",
              "      <th>4<\/th>\n",
              "      <td>821005<\/td>\n",
              "      <td>Кофе ЛУНГО  50 мл<\/td>\n",
              "    <\/tr>\n",
              "    <tr>\n",
              "      <th>...<\/th>\n",
              "      <td>...<\/td>\n",
              "      <td>...<\/td>\n",
              "    <\/tr>\n",
              "    <tr>\n",
              "      <th>9781<\/th>\n",
              "      <td>894094<\/td>\n",
              "      <td>Тофи-тофу 160г<\/td>\n",
              "    <\/tr>\n",
              "    <tr>\n",
              "      <th>9782<\/th>\n",
              "      <td>894095<\/td>\n",
              "      <td>Япончики 90г<\/td>\n",
              "    <\/tr>\n",
              "    <tr>\n",
              "      <th>9783<\/th>\n",
              "      <td>894096<\/td>\n",
              "      <td>Мо Мо 120г<\/td>\n",
              "    <\/tr>\n",
              "    <tr>\n",
              "      <th>9784<\/th>\n",
              "      <td>894097<\/td>\n",
              "      <td>Салат грейпфрут-манго п\/ф<\/td>\n",
              "    <\/tr>\n",
              "    <tr>\n",
              "      <th>9785<\/th>\n",
              "      <td>894098<\/td>\n",
              "      <td>Фруктовый десерт 200г<\/td>\n",
              "    <\/tr>\n",
              "  <\/tbody>\n",
              "<\/table>\n",
              "<p>9786 rows × 2 columns<\/p>\n",
              "<\/div>"
            ]
          },
          "metadata":{
            
          },
          "output_type":"display_data"
        }
      ],
      "metadata":{
        
      }
    },
    {
      "cell_type":"code",
      "source":[
        "sales = pd.read_csv('SALE_LIST.csv', encoding='cp1251', sep=';')\n",
        "sales"
      ],
      "execution_count":18,
      "outputs":[
        {
          "data":{
            "text\/html":[
              "<div>\n",
              "<style scoped>\n",
              "    .dataframe tbody tr th:only-of-type {\n",
              "        vertical-align: middle;\n",
              "    }\n",
              "\n",
              "    .dataframe tbody tr th {\n",
              "        vertical-align: top;\n",
              "    }\n",
              "\n",
              "    .dataframe thead th {\n",
              "        text-align: right;\n",
              "    }\n",
              "<\/style>\n",
              "<table border=\"1\" class=\"dataframe\">\n",
              "  <thead>\n",
              "    <tr style=\"text-align: right;\">\n",
              "      <th><\/th>\n",
              "      <th>date<\/th>\n",
              "      <th>product_code<\/th>\n",
              "      <th>rest_code<\/th>\n",
              "      <th>product_count<\/th>\n",
              "    <\/tr>\n",
              "  <\/thead>\n",
              "  <tbody>\n",
              "    <tr>\n",
              "      <th>0<\/th>\n",
              "      <td>06.01.2009<\/td>\n",
              "      <td>824021<\/td>\n",
              "      <td>Озерный<\/td>\n",
              "      <td>4<\/td>\n",
              "    <\/tr>\n",
              "    <tr>\n",
              "      <th>1<\/th>\n",
              "      <td>06.01.2009<\/td>\n",
              "      <td>824068<\/td>\n",
              "      <td>Озерный<\/td>\n",
              "      <td>1<\/td>\n",
              "    <\/tr>\n",
              "    <tr>\n",
              "      <th>2<\/th>\n",
              "      <td>06.01.2009<\/td>\n",
              "      <td>824070<\/td>\n",
              "      <td>Озерный<\/td>\n",
              "      <td>2<\/td>\n",
              "    <\/tr>\n",
              "    <tr>\n",
              "      <th>3<\/th>\n",
              "      <td>06.01.2009<\/td>\n",
              "      <td>824073<\/td>\n",
              "      <td>Озерный<\/td>\n",
              "      <td>1<\/td>\n",
              "    <\/tr>\n",
              "    <tr>\n",
              "      <th>4<\/th>\n",
              "      <td>06.01.2009<\/td>\n",
              "      <td>824074<\/td>\n",
              "      <td>Озерный<\/td>\n",
              "      <td>1<\/td>\n",
              "    <\/tr>\n",
              "    <tr>\n",
              "      <th>...<\/th>\n",
              "      <td>...<\/td>\n",
              "      <td>...<\/td>\n",
              "      <td>...<\/td>\n",
              "      <td>...<\/td>\n",
              "    <\/tr>\n",
              "    <tr>\n",
              "      <th>135915<\/th>\n",
              "      <td>26.05.2013<\/td>\n",
              "      <td>892545<\/td>\n",
              "      <td>Мечта<\/td>\n",
              "      <td>3<\/td>\n",
              "    <\/tr>\n",
              "    <tr>\n",
              "      <th>135916<\/th>\n",
              "      <td>27.05.2013<\/td>\n",
              "      <td>892545<\/td>\n",
              "      <td>Мечта<\/td>\n",
              "      <td>1<\/td>\n",
              "    <\/tr>\n",
              "    <tr>\n",
              "      <th>135917<\/th>\n",
              "      <td>28.05.2013<\/td>\n",
              "      <td>892545<\/td>\n",
              "      <td>Мечта<\/td>\n",
              "      <td>3<\/td>\n",
              "    <\/tr>\n",
              "    <tr>\n",
              "      <th>135918<\/th>\n",
              "      <td>29.05.2013<\/td>\n",
              "      <td>892545<\/td>\n",
              "      <td>Мечта<\/td>\n",
              "      <td>4<\/td>\n",
              "    <\/tr>\n",
              "    <tr>\n",
              "      <th>135919<\/th>\n",
              "      <td>30.05.2013<\/td>\n",
              "      <td>892545<\/td>\n",
              "      <td>Мечта<\/td>\n",
              "      <td>1<\/td>\n",
              "    <\/tr>\n",
              "  <\/tbody>\n",
              "<\/table>\n",
              "<p>135920 rows × 4 columns<\/p>\n",
              "<\/div>"
            ]
          },
          "metadata":{
            
          },
          "output_type":"display_data"
        }
      ],
      "metadata":{
        
      }
    },
    {
      "cell_type":"code",
      "source":[
        "df = sales.set_index(keys='product_code').join(products.set_index(keys='product_code'), on='product_code').reset_index()\n",
        "df['date'] = pd.to_datetime(df['date'])\n",
        "df"
      ],
      "execution_count":19,
      "outputs":[
        {
          "data":{
            "text\/html":[
              "<div>\n",
              "<style scoped>\n",
              "    .dataframe tbody tr th:only-of-type {\n",
              "        vertical-align: middle;\n",
              "    }\n",
              "\n",
              "    .dataframe tbody tr th {\n",
              "        vertical-align: top;\n",
              "    }\n",
              "\n",
              "    .dataframe thead th {\n",
              "        text-align: right;\n",
              "    }\n",
              "<\/style>\n",
              "<table border=\"1\" class=\"dataframe\">\n",
              "  <thead>\n",
              "    <tr style=\"text-align: right;\">\n",
              "      <th><\/th>\n",
              "      <th>product_code<\/th>\n",
              "      <th>date<\/th>\n",
              "      <th>rest_code<\/th>\n",
              "      <th>product_count<\/th>\n",
              "      <th>product_name<\/th>\n",
              "    <\/tr>\n",
              "  <\/thead>\n",
              "  <tbody>\n",
              "    <tr>\n",
              "      <th>0<\/th>\n",
              "      <td>824021<\/td>\n",
              "      <td>2009-06-01<\/td>\n",
              "      <td>Озерный<\/td>\n",
              "      <td>4<\/td>\n",
              "      <td>Чай красный фрукт 270мл<\/td>\n",
              "    <\/tr>\n",
              "    <tr>\n",
              "      <th>1<\/th>\n",
              "      <td>824068<\/td>\n",
              "      <td>2009-06-01<\/td>\n",
              "      <td>Озерный<\/td>\n",
              "      <td>1<\/td>\n",
              "      <td>Чай Дянь Хун 600мл<\/td>\n",
              "    <\/tr>\n",
              "    <tr>\n",
              "      <th>2<\/th>\n",
              "      <td>824070<\/td>\n",
              "      <td>2009-06-01<\/td>\n",
              "      <td>Озерный<\/td>\n",
              "      <td>2<\/td>\n",
              "      <td>Чай Жасм (пт\/язычк) 500мл<\/td>\n",
              "    <\/tr>\n",
              "    <tr>\n",
              "      <th>3<\/th>\n",
              "      <td>824073<\/td>\n",
              "      <td>2009-06-01<\/td>\n",
              "      <td>Озерный<\/td>\n",
              "      <td>1<\/td>\n",
              "      <td>Чай мятный 500мл<\/td>\n",
              "    <\/tr>\n",
              "    <tr>\n",
              "      <th>4<\/th>\n",
              "      <td>824074<\/td>\n",
              "      <td>2009-06-01<\/td>\n",
              "      <td>Озерный<\/td>\n",
              "      <td>1<\/td>\n",
              "      <td>Чай имбирный  500мл<\/td>\n",
              "    <\/tr>\n",
              "    <tr>\n",
              "      <th>...<\/th>\n",
              "      <td>...<\/td>\n",
              "      <td>...<\/td>\n",
              "      <td>...<\/td>\n",
              "      <td>...<\/td>\n",
              "      <td>...<\/td>\n",
              "    <\/tr>\n",
              "    <tr>\n",
              "      <th>135915<\/th>\n",
              "      <td>892545<\/td>\n",
              "      <td>2013-05-26<\/td>\n",
              "      <td>Мечта<\/td>\n",
              "      <td>3<\/td>\n",
              "      <td>Десерт Манифик 100г<\/td>\n",
              "    <\/tr>\n",
              "    <tr>\n",
              "      <th>135916<\/th>\n",
              "      <td>892545<\/td>\n",
              "      <td>2013-05-27<\/td>\n",
              "      <td>Мечта<\/td>\n",
              "      <td>1<\/td>\n",
              "      <td>Десерт Манифик 100г<\/td>\n",
              "    <\/tr>\n",
              "    <tr>\n",
              "      <th>135917<\/th>\n",
              "      <td>892545<\/td>\n",
              "      <td>2013-05-28<\/td>\n",
              "      <td>Мечта<\/td>\n",
              "      <td>3<\/td>\n",
              "      <td>Десерт Манифик 100г<\/td>\n",
              "    <\/tr>\n",
              "    <tr>\n",
              "      <th>135918<\/th>\n",
              "      <td>892545<\/td>\n",
              "      <td>2013-05-29<\/td>\n",
              "      <td>Мечта<\/td>\n",
              "      <td>4<\/td>\n",
              "      <td>Десерт Манифик 100г<\/td>\n",
              "    <\/tr>\n",
              "    <tr>\n",
              "      <th>135919<\/th>\n",
              "      <td>892545<\/td>\n",
              "      <td>2013-05-30<\/td>\n",
              "      <td>Мечта<\/td>\n",
              "      <td>1<\/td>\n",
              "      <td>Десерт Манифик 100г<\/td>\n",
              "    <\/tr>\n",
              "  <\/tbody>\n",
              "<\/table>\n",
              "<p>135920 rows × 5 columns<\/p>\n",
              "<\/div>"
            ]
          },
          "metadata":{
            
          },
          "output_type":"display_data"
        }
      ],
      "metadata":{
        
      }
    },
    {
      "cell_type":"code",
      "source":[
        "df.describe(include='all', datetime_is_numeric=True)"
      ],
      "execution_count":20,
      "outputs":[
        {
          "data":{
            "text\/html":[
              "<div>\n",
              "<style scoped>\n",
              "    .dataframe tbody tr th:only-of-type {\n",
              "        vertical-align: middle;\n",
              "    }\n",
              "\n",
              "    .dataframe tbody tr th {\n",
              "        vertical-align: top;\n",
              "    }\n",
              "\n",
              "    .dataframe thead th {\n",
              "        text-align: right;\n",
              "    }\n",
              "<\/style>\n",
              "<table border=\"1\" class=\"dataframe\">\n",
              "  <thead>\n",
              "    <tr style=\"text-align: right;\">\n",
              "      <th><\/th>\n",
              "      <th>product_code<\/th>\n",
              "      <th>date<\/th>\n",
              "      <th>rest_code<\/th>\n",
              "      <th>product_count<\/th>\n",
              "      <th>product_name<\/th>\n",
              "    <\/tr>\n",
              "  <\/thead>\n",
              "  <tbody>\n",
              "    <tr>\n",
              "      <th>count<\/th>\n",
              "      <td>135920.000000<\/td>\n",
              "      <td>135920<\/td>\n",
              "      <td>135920<\/td>\n",
              "      <td>135920.000000<\/td>\n",
              "      <td>135920<\/td>\n",
              "    <\/tr>\n",
              "    <tr>\n",
              "      <th>unique<\/th>\n",
              "      <td>NaN<\/td>\n",
              "      <td>NaN<\/td>\n",
              "      <td>2<\/td>\n",
              "      <td>NaN<\/td>\n",
              "      <td>110<\/td>\n",
              "    <\/tr>\n",
              "    <tr>\n",
              "      <th>top<\/th>\n",
              "      <td>NaN<\/td>\n",
              "      <td>NaN<\/td>\n",
              "      <td>Мечта<\/td>\n",
              "      <td>NaN<\/td>\n",
              "      <td>Кофе Латте 300мл<\/td>\n",
              "    <\/tr>\n",
              "    <tr>\n",
              "      <th>freq<\/th>\n",
              "      <td>NaN<\/td>\n",
              "      <td>NaN<\/td>\n",
              "      <td>73690<\/td>\n",
              "      <td>NaN<\/td>\n",
              "      <td>6666<\/td>\n",
              "    <\/tr>\n",
              "    <tr>\n",
              "      <th>mean<\/th>\n",
              "      <td>839804.895917<\/td>\n",
              "      <td>2011-06-06 11:35:15.079458304<\/td>\n",
              "      <td>NaN<\/td>\n",
              "      <td>11.376663<\/td>\n",
              "      <td>NaN<\/td>\n",
              "    <\/tr>\n",
              "    <tr>\n",
              "      <th>min<\/th>\n",
              "      <td>821001.000000<\/td>\n",
              "      <td>2009-01-01 00:00:00<\/td>\n",
              "      <td>NaN<\/td>\n",
              "      <td>-6.000000<\/td>\n",
              "      <td>NaN<\/td>\n",
              "    <\/tr>\n",
              "    <tr>\n",
              "      <th>25%<\/th>\n",
              "      <td>822006.000000<\/td>\n",
              "      <td>2010-04-06 00:00:00<\/td>\n",
              "      <td>NaN<\/td>\n",
              "      <td>2.000000<\/td>\n",
              "      <td>NaN<\/td>\n",
              "    <\/tr>\n",
              "    <tr>\n",
              "      <th>50%<\/th>\n",
              "      <td>824074.000000<\/td>\n",
              "      <td>2011-06-10 00:00:00<\/td>\n",
              "      <td>NaN<\/td>\n",
              "      <td>5.000000<\/td>\n",
              "      <td>NaN<\/td>\n",
              "    <\/tr>\n",
              "    <tr>\n",
              "      <th>75%<\/th>\n",
              "      <td>862094.000000<\/td>\n",
              "      <td>2012-08-03 00:00:00<\/td>\n",
              "      <td>NaN<\/td>\n",
              "      <td>12.000000<\/td>\n",
              "      <td>NaN<\/td>\n",
              "    <\/tr>\n",
              "    <tr>\n",
              "      <th>max<\/th>\n",
              "      <td>894098.000000<\/td>\n",
              "      <td>2013-12-31 00:00:00<\/td>\n",
              "      <td>NaN<\/td>\n",
              "      <td>239.000000<\/td>\n",
              "      <td>NaN<\/td>\n",
              "    <\/tr>\n",
              "    <tr>\n",
              "      <th>std<\/th>\n",
              "      <td>28968.345316<\/td>\n",
              "      <td>NaN<\/td>\n",
              "      <td>NaN<\/td>\n",
              "      <td>18.153321<\/td>\n",
              "      <td>NaN<\/td>\n",
              "    <\/tr>\n",
              "  <\/tbody>\n",
              "<\/table>\n",
              "<\/div>"
            ]
          },
          "metadata":{
            
          },
          "output_type":"display_data"
        }
      ],
      "metadata":{
        
      }
    },
    {
      "cell_type":"code",
      "source":[
        "rest_sum = df.groupby('rest_code').sum()['product_count'].reset_index(name='sum').rename(columns={'index': 'rest_code'})\n",
        "fig = px.bar(rest_sum, x='rest_code', y='sum', color='rest_code', labels={'rest_code': 'Ресторан', 'sum': 'Количество проданных продуктов'})\n",
        "fig"
      ],
      "execution_count":21,
      "outputs":[
        {
          "data":{
            "text\/plain":[
              "Unsupported"
            ]
          },
          "metadata":{
            
          },
          "output_type":"display_data"
        }
      ],
      "metadata":{
        
      }
    },
    {
      "cell_type":"code",
      "source":[
        "timeline = df.groupby(by=['rest_code', 'date']).sum()['product_count'].reset_index()\n",
        "fig = px.line(timeline, x='date', y='product_count', color='rest_code',\n",
        "              labels={'date': 'Дата', 'product_count': 'Количество проданных продуктов', 'rest_code': 'Ресторан'})\n",
        "fig.show()"
      ],
      "execution_count":22,
      "outputs":[
        {
          "data":{
            "text\/plain":[
              "Unsupported"
            ]
          },
          "metadata":{
            
          },
          "output_type":"display_data"
        }
      ],
      "metadata":{
        
      }
    },
    {
      "cell_type":"code",
      "source":[
        "fig = px.box(timeline, y='product_count', color='rest_code',\n",
        "             labels={'product_count': 'Количество проданных продуктов', 'rest_code': 'Ресторан'})\n",
        "fig.show()"
      ],
      "execution_count":23,
      "outputs":[
        {
          "data":{
            "text\/plain":[
              "Unsupported"
            ]
          },
          "metadata":{
            
          },
          "output_type":"display_data"
        }
      ],
      "metadata":{
        
      }
    },
    {
      "cell_type":"code",
      "source":[
        "fig = px.histogram(timeline, x='product_count', color='rest_code', histnorm='probability density', opacity=0.8,\n",
        "                   barmode='overlay', labels={'product_count': 'Количество проданных продуктов', 'rest_code': 'Ресторан'})\n",
        "fig.show()"
      ],
      "execution_count":24,
      "outputs":[
        {
          "data":{
            "text\/plain":[
              "Unsupported"
            ]
          },
          "metadata":{
            
          },
          "output_type":"display_data"
        }
      ],
      "metadata":{
        
      }
    },
    {
      "cell_type":"code",
      "source":[
        "def get_top_products_by_rest(df: pd.DataFrame, top: int = 10):\n",
        "    product_freq = df.groupby(by=['rest_code', 'product_name']).sum()['product_count'].reset_index(name='count')\n",
        "\n",
        "    dream_product_freq = product_freq[product_freq['rest_code'] == 'Мечта']\n",
        "    dream_product_freq = dream_product_freq.sort_values(by='count', ascending=False)[:top]\n",
        "\n",
        "    lake_product_freq = product_freq[product_freq['rest_code'] == 'Озерный']\n",
        "    lake_product_freq = lake_product_freq.sort_values(by='count', ascending=False)[:top]\n",
        "\n",
        "    return dream_product_freq, lake_product_freq"
      ],
      "execution_count":25,
      "outputs":[
        
      ],
      "metadata":{
        
      }
    },
    {
      "cell_type":"code",
      "source":[
        "\n",
        "dream_product_freq, lake_product_freq = get_top_products_by_rest(df)\n",
        "\n",
        "dream_product_list = []\n",
        "dream_product_freq.apply(lambda row: dream_product_list.append(f'{row[\"product_name\"]} ({row[\"count\"]})'), axis=1)\n",
        "\n",
        "lake_product_list = []\n",
        "lake_product_freq.apply(lambda row: lake_product_list.append(f'{row[\"product_name\"]} ({row[\"count\"]})'), axis=1)\n",
        "\n",
        "print(tabulate(zip(dream_product_list, lake_product_list), headers=['Мечта', 'Озерный'], showindex=True))"
      ],
      "execution_count":26,
      "outputs":[
        {
          "name":"stdout",
          "text":[
            "    Мечта                              Озерный\n",
            "--  ---------------------------------  ---------------------------------\n",
            " 0  Кофе Латте 300мл (143037)          Кофе КАПУЧИНО 150мл (38969)\n",
            " 1  Кофе КАПУЧИНО 150мл (138546)       Кофе Латте 300мл (31278)\n",
            " 2  Кофе АМЕРИКАНО 90мл (91865)        Кофе ЭСПРЕССО  30 мл (23792)\n",
            " 3  Кофе ЭСПРЕССО  30 мл (91759)       Кофе АМЕРИКАНО 90мл (23787)\n",
            " 4  Раф кофе 300мл (66077)             Раф кофе 300мл (11645)\n",
            " 5  Раф кофе 350мл (48114)             Чай Ассам Нонаипара 500мл (11320)\n",
            " 6  Эклер ванильный 60г (42745)        Раф кофе 350мл (10364)\n",
            " 7  Чай Дардж Марг\/Хоул 500мл (41582)  Чай Дардж Марг\/Хоул 500мл (7631)\n",
            " 8  Чай имбирный  500мл (36701)        Эклер ванильный 60г (7007)\n",
            " 9  Облепиховый чай 500мл (36649)      Чай Жасм (пт\/язычк) 500мл (6970)\n"
          ],
          "output_type":"stream"
        }
      ],
      "metadata":{
        
      }
    },
    {
      "cell_type":"code",
      "source":[
        "categories = ['Чай', 'Кофе', 'Пирожное', 'Эклер', 'Круассан', 'Десерт']\n",
        "\n",
        "def categorize_name(row):\n",
        "    for category in categories:\n",
        "        if category.lower() in row['product_name'].lower():\n",
        "            row['product_name'] = category\n",
        "    return row\n",
        "\n",
        "categorized_df = df.apply(categorize_name, axis=1).reset_index().drop(columns='index')\n",
        "categorized_df"
      ],
      "execution_count":27,
      "outputs":[
        {
          "data":{
            "text\/html":[
              "<div>\n",
              "<style scoped>\n",
              "    .dataframe tbody tr th:only-of-type {\n",
              "        vertical-align: middle;\n",
              "    }\n",
              "\n",
              "    .dataframe tbody tr th {\n",
              "        vertical-align: top;\n",
              "    }\n",
              "\n",
              "    .dataframe thead th {\n",
              "        text-align: right;\n",
              "    }\n",
              "<\/style>\n",
              "<table border=\"1\" class=\"dataframe\">\n",
              "  <thead>\n",
              "    <tr style=\"text-align: right;\">\n",
              "      <th><\/th>\n",
              "      <th>product_code<\/th>\n",
              "      <th>date<\/th>\n",
              "      <th>rest_code<\/th>\n",
              "      <th>product_count<\/th>\n",
              "      <th>product_name<\/th>\n",
              "    <\/tr>\n",
              "  <\/thead>\n",
              "  <tbody>\n",
              "    <tr>\n",
              "      <th>0<\/th>\n",
              "      <td>824021<\/td>\n",
              "      <td>2009-06-01<\/td>\n",
              "      <td>Озерный<\/td>\n",
              "      <td>4<\/td>\n",
              "      <td>Чай<\/td>\n",
              "    <\/tr>\n",
              "    <tr>\n",
              "      <th>1<\/th>\n",
              "      <td>824068<\/td>\n",
              "      <td>2009-06-01<\/td>\n",
              "      <td>Озерный<\/td>\n",
              "      <td>1<\/td>\n",
              "      <td>Чай<\/td>\n",
              "    <\/tr>\n",
              "    <tr>\n",
              "      <th>2<\/th>\n",
              "      <td>824070<\/td>\n",
              "      <td>2009-06-01<\/td>\n",
              "      <td>Озерный<\/td>\n",
              "      <td>2<\/td>\n",
              "      <td>Чай<\/td>\n",
              "    <\/tr>\n",
              "    <tr>\n",
              "      <th>3<\/th>\n",
              "      <td>824073<\/td>\n",
              "      <td>2009-06-01<\/td>\n",
              "      <td>Озерный<\/td>\n",
              "      <td>1<\/td>\n",
              "      <td>Чай<\/td>\n",
              "    <\/tr>\n",
              "    <tr>\n",
              "      <th>4<\/th>\n",
              "      <td>824074<\/td>\n",
              "      <td>2009-06-01<\/td>\n",
              "      <td>Озерный<\/td>\n",
              "      <td>1<\/td>\n",
              "      <td>Чай<\/td>\n",
              "    <\/tr>\n",
              "    <tr>\n",
              "      <th>...<\/th>\n",
              "      <td>...<\/td>\n",
              "      <td>...<\/td>\n",
              "      <td>...<\/td>\n",
              "      <td>...<\/td>\n",
              "      <td>...<\/td>\n",
              "    <\/tr>\n",
              "    <tr>\n",
              "      <th>135915<\/th>\n",
              "      <td>892545<\/td>\n",
              "      <td>2013-05-26<\/td>\n",
              "      <td>Мечта<\/td>\n",
              "      <td>3<\/td>\n",
              "      <td>Десерт<\/td>\n",
              "    <\/tr>\n",
              "    <tr>\n",
              "      <th>135916<\/th>\n",
              "      <td>892545<\/td>\n",
              "      <td>2013-05-27<\/td>\n",
              "      <td>Мечта<\/td>\n",
              "      <td>1<\/td>\n",
              "      <td>Десерт<\/td>\n",
              "    <\/tr>\n",
              "    <tr>\n",
              "      <th>135917<\/th>\n",
              "      <td>892545<\/td>\n",
              "      <td>2013-05-28<\/td>\n",
              "      <td>Мечта<\/td>\n",
              "      <td>3<\/td>\n",
              "      <td>Десерт<\/td>\n",
              "    <\/tr>\n",
              "    <tr>\n",
              "      <th>135918<\/th>\n",
              "      <td>892545<\/td>\n",
              "      <td>2013-05-29<\/td>\n",
              "      <td>Мечта<\/td>\n",
              "      <td>4<\/td>\n",
              "      <td>Десерт<\/td>\n",
              "    <\/tr>\n",
              "    <tr>\n",
              "      <th>135919<\/th>\n",
              "      <td>892545<\/td>\n",
              "      <td>2013-05-30<\/td>\n",
              "      <td>Мечта<\/td>\n",
              "      <td>1<\/td>\n",
              "      <td>Десерт<\/td>\n",
              "    <\/tr>\n",
              "  <\/tbody>\n",
              "<\/table>\n",
              "<p>135920 rows × 5 columns<\/p>\n",
              "<\/div>"
            ]
          },
          "metadata":{
            
          },
          "output_type":"display_data"
        }
      ],
      "metadata":{
        
      }
    },
    {
      "cell_type":"code",
      "source":[
        "dream_product_freq, lake_product_freq = get_top_products_by_rest(categorized_df)\n",
        "\n",
        "fig = make_subplots(rows=1, cols=2)\n",
        "\n",
        "fig.add_bar(x=dream_product_freq['product_name'], y=dream_product_freq['count'], name='Мечта', col=1, row=1)\n",
        "fig.add_bar(x=lake_product_freq['product_name'], y=lake_product_freq['count'], name='Озерный', col=2, row=1)\n",
        "fig.update_xaxes(title='Категория продукта')\n",
        "fig.update_yaxes(title='Количество продаж')\n",
        "fig.update_layout(legend_title_text='Ресторан')\n",
        "\n",
        "fig.show()"
      ],
      "execution_count":28,
      "outputs":[
        {
          "data":{
            "text\/plain":[
              "Unsupported"
            ]
          },
          "metadata":{
            
          },
          "output_type":"display_data"
        }
      ],
      "metadata":{
        
      }
    },
    {
      "cell_type":"code",
      "source":[
        "categorized_timeline = categorized_df.groupby(by=['rest_code', 'date', 'product_name']).sum()[\n",
        "    'product_count'].reset_index()\n",
        "\n",
        "dream_categorized_timeline = categorized_timeline[categorized_timeline['rest_code'] == 'Мечта']\n",
        "lake_categorized_timeline = categorized_timeline[categorized_timeline['rest_code'] == 'Озерный']\n",
        "\n",
        "fig = make_subplots(cols=2)\n",
        "\n",
        "fig.add_box(x=dream_categorized_timeline['product_name'], y=dream_categorized_timeline['product_count'], name='Мечта',\n",
        "            col=1, row=1)\n",
        "fig.add_box(x=lake_categorized_timeline['product_name'], y=lake_categorized_timeline['product_count'], name='Озерный',\n",
        "            col=2, row=1)\n",
        "\n",
        "fig.update_xaxes(title='Категория продукта')\n",
        "fig.update_yaxes(title='Количество продаж')\n",
        "fig.update_layout(legend_title_text='Ресторан')\n",
        "\n",
        "fig.show()"
      ],
      "execution_count":29,
      "outputs":[
        {
          "data":{
            "text\/plain":[
              "Unsupported"
            ]
          },
          "metadata":{
            
          },
          "output_type":"display_data"
        }
      ],
      "metadata":{
        
      }
    }
  ],
  "metadata":{
    
  },
  "nbformat":4,
  "nbformat_minor":0
}