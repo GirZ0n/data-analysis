{
  "cells":[
    {
      "cell_type":"code",
      "source":[
        "import pandas as pd\n",
        "import plotly.express as px\n",
        "import plotly.graph_objects as go"
      ],
      "execution_count":1,
      "outputs":[
        
      ],
      "metadata":{
        
      }
    },
    {
      "cell_type":"code",
      "source":[
        "# https:\/\/www.kaggle.com\/spscientist\/students-performance-in-exams\n",
        "sp_df = pd.read_csv('StudentsPerformance.csv')\n",
        "sp_df"
      ],
      "execution_count":2,
      "outputs":[
        {
          "data":{
            "text\/html":[
              "<div>\n",
              "<style scoped>\n",
              "    .dataframe tbody tr th:only-of-type {\n",
              "        vertical-align: middle;\n",
              "    }\n",
              "\n",
              "    .dataframe tbody tr th {\n",
              "        vertical-align: top;\n",
              "    }\n",
              "\n",
              "    .dataframe thead th {\n",
              "        text-align: right;\n",
              "    }\n",
              "<\/style>\n",
              "<table border=\"1\" class=\"dataframe\">\n",
              "  <thead>\n",
              "    <tr style=\"text-align: right;\">\n",
              "      <th><\/th>\n",
              "      <th>gender<\/th>\n",
              "      <th>race\/ethnicity<\/th>\n",
              "      <th>parental level of education<\/th>\n",
              "      <th>lunch<\/th>\n",
              "      <th>test preparation course<\/th>\n",
              "      <th>math score<\/th>\n",
              "      <th>reading score<\/th>\n",
              "      <th>writing score<\/th>\n",
              "    <\/tr>\n",
              "  <\/thead>\n",
              "  <tbody>\n",
              "    <tr>\n",
              "      <th>0<\/th>\n",
              "      <td>female<\/td>\n",
              "      <td>group B<\/td>\n",
              "      <td>bachelor's degree<\/td>\n",
              "      <td>standard<\/td>\n",
              "      <td>none<\/td>\n",
              "      <td>72<\/td>\n",
              "      <td>72<\/td>\n",
              "      <td>74<\/td>\n",
              "    <\/tr>\n",
              "    <tr>\n",
              "      <th>1<\/th>\n",
              "      <td>female<\/td>\n",
              "      <td>group C<\/td>\n",
              "      <td>some college<\/td>\n",
              "      <td>standard<\/td>\n",
              "      <td>completed<\/td>\n",
              "      <td>69<\/td>\n",
              "      <td>90<\/td>\n",
              "      <td>88<\/td>\n",
              "    <\/tr>\n",
              "    <tr>\n",
              "      <th>2<\/th>\n",
              "      <td>female<\/td>\n",
              "      <td>group B<\/td>\n",
              "      <td>master's degree<\/td>\n",
              "      <td>standard<\/td>\n",
              "      <td>none<\/td>\n",
              "      <td>90<\/td>\n",
              "      <td>95<\/td>\n",
              "      <td>93<\/td>\n",
              "    <\/tr>\n",
              "    <tr>\n",
              "      <th>3<\/th>\n",
              "      <td>male<\/td>\n",
              "      <td>group A<\/td>\n",
              "      <td>associate's degree<\/td>\n",
              "      <td>free\/reduced<\/td>\n",
              "      <td>none<\/td>\n",
              "      <td>47<\/td>\n",
              "      <td>57<\/td>\n",
              "      <td>44<\/td>\n",
              "    <\/tr>\n",
              "    <tr>\n",
              "      <th>4<\/th>\n",
              "      <td>male<\/td>\n",
              "      <td>group C<\/td>\n",
              "      <td>some college<\/td>\n",
              "      <td>standard<\/td>\n",
              "      <td>none<\/td>\n",
              "      <td>76<\/td>\n",
              "      <td>78<\/td>\n",
              "      <td>75<\/td>\n",
              "    <\/tr>\n",
              "    <tr>\n",
              "      <th>...<\/th>\n",
              "      <td>...<\/td>\n",
              "      <td>...<\/td>\n",
              "      <td>...<\/td>\n",
              "      <td>...<\/td>\n",
              "      <td>...<\/td>\n",
              "      <td>...<\/td>\n",
              "      <td>...<\/td>\n",
              "      <td>...<\/td>\n",
              "    <\/tr>\n",
              "    <tr>\n",
              "      <th>995<\/th>\n",
              "      <td>female<\/td>\n",
              "      <td>group E<\/td>\n",
              "      <td>master's degree<\/td>\n",
              "      <td>standard<\/td>\n",
              "      <td>completed<\/td>\n",
              "      <td>88<\/td>\n",
              "      <td>99<\/td>\n",
              "      <td>95<\/td>\n",
              "    <\/tr>\n",
              "    <tr>\n",
              "      <th>996<\/th>\n",
              "      <td>male<\/td>\n",
              "      <td>group C<\/td>\n",
              "      <td>high school<\/td>\n",
              "      <td>free\/reduced<\/td>\n",
              "      <td>none<\/td>\n",
              "      <td>62<\/td>\n",
              "      <td>55<\/td>\n",
              "      <td>55<\/td>\n",
              "    <\/tr>\n",
              "    <tr>\n",
              "      <th>997<\/th>\n",
              "      <td>female<\/td>\n",
              "      <td>group C<\/td>\n",
              "      <td>high school<\/td>\n",
              "      <td>free\/reduced<\/td>\n",
              "      <td>completed<\/td>\n",
              "      <td>59<\/td>\n",
              "      <td>71<\/td>\n",
              "      <td>65<\/td>\n",
              "    <\/tr>\n",
              "    <tr>\n",
              "      <th>998<\/th>\n",
              "      <td>female<\/td>\n",
              "      <td>group D<\/td>\n",
              "      <td>some college<\/td>\n",
              "      <td>standard<\/td>\n",
              "      <td>completed<\/td>\n",
              "      <td>68<\/td>\n",
              "      <td>78<\/td>\n",
              "      <td>77<\/td>\n",
              "    <\/tr>\n",
              "    <tr>\n",
              "      <th>999<\/th>\n",
              "      <td>female<\/td>\n",
              "      <td>group D<\/td>\n",
              "      <td>some college<\/td>\n",
              "      <td>free\/reduced<\/td>\n",
              "      <td>none<\/td>\n",
              "      <td>77<\/td>\n",
              "      <td>86<\/td>\n",
              "      <td>86<\/td>\n",
              "    <\/tr>\n",
              "  <\/tbody>\n",
              "<\/table>\n",
              "<p>1000 rows × 8 columns<\/p>\n",
              "<\/div>"
            ]
          },
          "metadata":{
            
          },
          "output_type":"display_data"
        }
      ],
      "metadata":{
        
      }
    },
    {
      "cell_type":"markdown",
      "source":[
        "## Descriptive statistics"
      ],
      "attachments":{
        
      },
      "metadata":{
        
      }
    },
    {
      "cell_type":"code",
      "source":[
        "sp_df.describe(include=\"all\")"
      ],
      "execution_count":3,
      "outputs":[
        {
          "data":{
            "text\/html":[
              "<div>\n",
              "<style scoped>\n",
              "    .dataframe tbody tr th:only-of-type {\n",
              "        vertical-align: middle;\n",
              "    }\n",
              "\n",
              "    .dataframe tbody tr th {\n",
              "        vertical-align: top;\n",
              "    }\n",
              "\n",
              "    .dataframe thead th {\n",
              "        text-align: right;\n",
              "    }\n",
              "<\/style>\n",
              "<table border=\"1\" class=\"dataframe\">\n",
              "  <thead>\n",
              "    <tr style=\"text-align: right;\">\n",
              "      <th><\/th>\n",
              "      <th>gender<\/th>\n",
              "      <th>race\/ethnicity<\/th>\n",
              "      <th>parental level of education<\/th>\n",
              "      <th>lunch<\/th>\n",
              "      <th>test preparation course<\/th>\n",
              "      <th>math score<\/th>\n",
              "      <th>reading score<\/th>\n",
              "      <th>writing score<\/th>\n",
              "    <\/tr>\n",
              "  <\/thead>\n",
              "  <tbody>\n",
              "    <tr>\n",
              "      <th>count<\/th>\n",
              "      <td>1000<\/td>\n",
              "      <td>1000<\/td>\n",
              "      <td>1000<\/td>\n",
              "      <td>1000<\/td>\n",
              "      <td>1000<\/td>\n",
              "      <td>1000.00000<\/td>\n",
              "      <td>1000.000000<\/td>\n",
              "      <td>1000.000000<\/td>\n",
              "    <\/tr>\n",
              "    <tr>\n",
              "      <th>unique<\/th>\n",
              "      <td>2<\/td>\n",
              "      <td>5<\/td>\n",
              "      <td>6<\/td>\n",
              "      <td>2<\/td>\n",
              "      <td>2<\/td>\n",
              "      <td>NaN<\/td>\n",
              "      <td>NaN<\/td>\n",
              "      <td>NaN<\/td>\n",
              "    <\/tr>\n",
              "    <tr>\n",
              "      <th>top<\/th>\n",
              "      <td>female<\/td>\n",
              "      <td>group C<\/td>\n",
              "      <td>some college<\/td>\n",
              "      <td>standard<\/td>\n",
              "      <td>none<\/td>\n",
              "      <td>NaN<\/td>\n",
              "      <td>NaN<\/td>\n",
              "      <td>NaN<\/td>\n",
              "    <\/tr>\n",
              "    <tr>\n",
              "      <th>freq<\/th>\n",
              "      <td>518<\/td>\n",
              "      <td>319<\/td>\n",
              "      <td>226<\/td>\n",
              "      <td>645<\/td>\n",
              "      <td>642<\/td>\n",
              "      <td>NaN<\/td>\n",
              "      <td>NaN<\/td>\n",
              "      <td>NaN<\/td>\n",
              "    <\/tr>\n",
              "    <tr>\n",
              "      <th>mean<\/th>\n",
              "      <td>NaN<\/td>\n",
              "      <td>NaN<\/td>\n",
              "      <td>NaN<\/td>\n",
              "      <td>NaN<\/td>\n",
              "      <td>NaN<\/td>\n",
              "      <td>66.08900<\/td>\n",
              "      <td>69.169000<\/td>\n",
              "      <td>68.054000<\/td>\n",
              "    <\/tr>\n",
              "    <tr>\n",
              "      <th>std<\/th>\n",
              "      <td>NaN<\/td>\n",
              "      <td>NaN<\/td>\n",
              "      <td>NaN<\/td>\n",
              "      <td>NaN<\/td>\n",
              "      <td>NaN<\/td>\n",
              "      <td>15.16308<\/td>\n",
              "      <td>14.600192<\/td>\n",
              "      <td>15.195657<\/td>\n",
              "    <\/tr>\n",
              "    <tr>\n",
              "      <th>min<\/th>\n",
              "      <td>NaN<\/td>\n",
              "      <td>NaN<\/td>\n",
              "      <td>NaN<\/td>\n",
              "      <td>NaN<\/td>\n",
              "      <td>NaN<\/td>\n",
              "      <td>0.00000<\/td>\n",
              "      <td>17.000000<\/td>\n",
              "      <td>10.000000<\/td>\n",
              "    <\/tr>\n",
              "    <tr>\n",
              "      <th>25%<\/th>\n",
              "      <td>NaN<\/td>\n",
              "      <td>NaN<\/td>\n",
              "      <td>NaN<\/td>\n",
              "      <td>NaN<\/td>\n",
              "      <td>NaN<\/td>\n",
              "      <td>57.00000<\/td>\n",
              "      <td>59.000000<\/td>\n",
              "      <td>57.750000<\/td>\n",
              "    <\/tr>\n",
              "    <tr>\n",
              "      <th>50%<\/th>\n",
              "      <td>NaN<\/td>\n",
              "      <td>NaN<\/td>\n",
              "      <td>NaN<\/td>\n",
              "      <td>NaN<\/td>\n",
              "      <td>NaN<\/td>\n",
              "      <td>66.00000<\/td>\n",
              "      <td>70.000000<\/td>\n",
              "      <td>69.000000<\/td>\n",
              "    <\/tr>\n",
              "    <tr>\n",
              "      <th>75%<\/th>\n",
              "      <td>NaN<\/td>\n",
              "      <td>NaN<\/td>\n",
              "      <td>NaN<\/td>\n",
              "      <td>NaN<\/td>\n",
              "      <td>NaN<\/td>\n",
              "      <td>77.00000<\/td>\n",
              "      <td>79.000000<\/td>\n",
              "      <td>79.000000<\/td>\n",
              "    <\/tr>\n",
              "    <tr>\n",
              "      <th>max<\/th>\n",
              "      <td>NaN<\/td>\n",
              "      <td>NaN<\/td>\n",
              "      <td>NaN<\/td>\n",
              "      <td>NaN<\/td>\n",
              "      <td>NaN<\/td>\n",
              "      <td>100.00000<\/td>\n",
              "      <td>100.000000<\/td>\n",
              "      <td>100.000000<\/td>\n",
              "    <\/tr>\n",
              "  <\/tbody>\n",
              "<\/table>\n",
              "<\/div>"
            ]
          },
          "metadata":{
            
          },
          "output_type":"display_data"
        }
      ],
      "metadata":{
        
      }
    },
    {
      "cell_type":"markdown",
      "source":[
        "## Math\/Reading\/Writting median"
      ],
      "attachments":{
        
      },
      "metadata":{
        
      }
    },
    {
      "cell_type":"code",
      "source":[
        "fig = go.Figure()\n",
        "fig.add_box(y=sp_df['math score'], name='Math')\n",
        "fig.add_box(y=sp_df['reading score'], name='Reading')\n",
        "fig.add_box(y=sp_df['writing score'], name='Writing')\n",
        "fig.update_layout(xaxis_title='Subjects', yaxis_title='Scores', legend_title_text='Subject', margin=dict(l=0, r=0, t=0, b=0))\n",
        "fig"
      ],
      "execution_count":20,
      "outputs":[
        {
          "data":{
            "text\/plain":[
              "Unsupported"
            ]
          },
          "metadata":{
            
          },
          "output_type":"display_data"
        }
      ],
      "metadata":{
        
      }
    },
    {
      "cell_type":"markdown",
      "source":[
        "## Math\/Reading\/Writting distribution"
      ],
      "attachments":{
        
      },
      "metadata":{
        
      }
    },
    {
      "cell_type":"code",
      "source":[
        "fig = go.Figure()\n",
        "fig.add_histogram(x=sp_df['math score'], name='Math')\n",
        "fig.add_histogram(x=sp_df['reading score'], name='Reading')\n",
        "fig.add_histogram(x=sp_df['writing score'], name='Writing')\n",
        "fig.update_layout(barmode='overlay', xaxis_title='Score', yaxis_title='Quantity', legend_title_text='Subject')\n",
        "fig.update_traces(opacity=0.8)\n",
        "fig"
      ],
      "execution_count":5,
      "outputs":[
        {
          "data":{
            "text\/plain":[
              "Unsupported"
            ]
          },
          "metadata":{
            
          },
          "output_type":"display_data"
        }
      ],
      "metadata":{
        
      }
    },
    {
      "cell_type":"markdown",
      "source":[
        "## Race\/Ethnicity group"
      ],
      "attachments":{
        
      },
      "metadata":{
        
      }
    },
    {
      "cell_type":"code",
      "source":[
        "fig = px.pie(sp_df, names='race\/ethnicity')\n",
        "fig.update_layout(legend_title_text='Race\/Ethnicity group')\n",
        "fig.show()"
      ],
      "execution_count":6,
      "outputs":[
        {
          "data":{
            "text\/plain":[
              "Unsupported"
            ]
          },
          "metadata":{
            
          },
          "output_type":"display_data"
        }
      ],
      "metadata":{
        
      }
    },
    {
      "cell_type":"markdown",
      "source":[
        "## Parental level of education"
      ],
      "attachments":{
        
      },
      "metadata":{
        
      }
    },
    {
      "cell_type":"code",
      "source":[
        "fig = px.pie(sp_df, names='parental level of education')\n",
        "fig.update_layout(legend_title_text='Parental level of education')\n",
        "fig.show()"
      ],
      "execution_count":7,
      "outputs":[
        {
          "data":{
            "text\/plain":[
              "Unsupported"
            ]
          },
          "metadata":{
            
          },
          "output_type":"display_data"
        }
      ],
      "metadata":{
        
      }
    },
    {
      "cell_type":"markdown",
      "source":[
        "## Gender --> Lunch --> Test preparation course"
      ],
      "attachments":{
        
      },
      "metadata":{
        
      }
    },
    {
      "cell_type":"code",
      "source":[
        "fig = px.sunburst(sp_df, path=['gender', 'lunch', 'test preparation course'])\n",
        "fig"
      ],
      "execution_count":8,
      "outputs":[
        {
          "data":{
            "text\/plain":[
              "Unsupported"
            ]
          },
          "metadata":{
            
          },
          "output_type":"display_data"
        }
      ],
      "metadata":{
        
      }
    },
    {
      "cell_type":"code",
      "source":[
        "# https:\/\/www.kaggle.com\/sidtwr\/videogames-sales-dataset?select=Video_Games_Sales_as_at_22_Dec_2016.csv\n",
        "vgs_df = pd.read_csv('VideoGamesSales.csv')\n",
        "vgs_df"
      ],
      "execution_count":9,
      "outputs":[
        {
          "data":{
            "text\/html":[
              "<div>\n",
              "<style scoped>\n",
              "    .dataframe tbody tr th:only-of-type {\n",
              "        vertical-align: middle;\n",
              "    }\n",
              "\n",
              "    .dataframe tbody tr th {\n",
              "        vertical-align: top;\n",
              "    }\n",
              "\n",
              "    .dataframe thead th {\n",
              "        text-align: right;\n",
              "    }\n",
              "<\/style>\n",
              "<table border=\"1\" class=\"dataframe\">\n",
              "  <thead>\n",
              "    <tr style=\"text-align: right;\">\n",
              "      <th><\/th>\n",
              "      <th>Name<\/th>\n",
              "      <th>Platform<\/th>\n",
              "      <th>Year_of_Release<\/th>\n",
              "      <th>Genre<\/th>\n",
              "      <th>Publisher<\/th>\n",
              "      <th>NA_Sales<\/th>\n",
              "      <th>EU_Sales<\/th>\n",
              "      <th>JP_Sales<\/th>\n",
              "      <th>Other_Sales<\/th>\n",
              "      <th>Global_Sales<\/th>\n",
              "      <th>Critic_Score<\/th>\n",
              "      <th>Critic_Count<\/th>\n",
              "      <th>User_Score<\/th>\n",
              "      <th>User_Count<\/th>\n",
              "      <th>Developer<\/th>\n",
              "      <th>Rating<\/th>\n",
              "    <\/tr>\n",
              "  <\/thead>\n",
              "  <tbody>\n",
              "    <tr>\n",
              "      <th>0<\/th>\n",
              "      <td>Wii Sports<\/td>\n",
              "      <td>Wii<\/td>\n",
              "      <td>2006.0<\/td>\n",
              "      <td>Sports<\/td>\n",
              "      <td>Nintendo<\/td>\n",
              "      <td>41.36<\/td>\n",
              "      <td>28.96<\/td>\n",
              "      <td>3.77<\/td>\n",
              "      <td>8.45<\/td>\n",
              "      <td>82.53<\/td>\n",
              "      <td>76.0<\/td>\n",
              "      <td>51.0<\/td>\n",
              "      <td>8.0<\/td>\n",
              "      <td>322.0<\/td>\n",
              "      <td>Nintendo<\/td>\n",
              "      <td>E<\/td>\n",
              "    <\/tr>\n",
              "    <tr>\n",
              "      <th>1<\/th>\n",
              "      <td>Super Mario Bros.<\/td>\n",
              "      <td>NES<\/td>\n",
              "      <td>1985.0<\/td>\n",
              "      <td>Platform<\/td>\n",
              "      <td>Nintendo<\/td>\n",
              "      <td>29.08<\/td>\n",
              "      <td>3.58<\/td>\n",
              "      <td>6.81<\/td>\n",
              "      <td>0.77<\/td>\n",
              "      <td>40.24<\/td>\n",
              "      <td>NaN<\/td>\n",
              "      <td>NaN<\/td>\n",
              "      <td>NaN<\/td>\n",
              "      <td>NaN<\/td>\n",
              "      <td>NaN<\/td>\n",
              "      <td>NaN<\/td>\n",
              "    <\/tr>\n",
              "    <tr>\n",
              "      <th>2<\/th>\n",
              "      <td>Mario Kart Wii<\/td>\n",
              "      <td>Wii<\/td>\n",
              "      <td>2008.0<\/td>\n",
              "      <td>Racing<\/td>\n",
              "      <td>Nintendo<\/td>\n",
              "      <td>15.68<\/td>\n",
              "      <td>12.76<\/td>\n",
              "      <td>3.79<\/td>\n",
              "      <td>3.29<\/td>\n",
              "      <td>35.52<\/td>\n",
              "      <td>82.0<\/td>\n",
              "      <td>73.0<\/td>\n",
              "      <td>8.3<\/td>\n",
              "      <td>709.0<\/td>\n",
              "      <td>Nintendo<\/td>\n",
              "      <td>E<\/td>\n",
              "    <\/tr>\n",
              "    <tr>\n",
              "      <th>3<\/th>\n",
              "      <td>Wii Sports Resort<\/td>\n",
              "      <td>Wii<\/td>\n",
              "      <td>2009.0<\/td>\n",
              "      <td>Sports<\/td>\n",
              "      <td>Nintendo<\/td>\n",
              "      <td>15.61<\/td>\n",
              "      <td>10.93<\/td>\n",
              "      <td>3.28<\/td>\n",
              "      <td>2.95<\/td>\n",
              "      <td>32.77<\/td>\n",
              "      <td>80.0<\/td>\n",
              "      <td>73.0<\/td>\n",
              "      <td>8.0<\/td>\n",
              "      <td>192.0<\/td>\n",
              "      <td>Nintendo<\/td>\n",
              "      <td>E<\/td>\n",
              "    <\/tr>\n",
              "    <tr>\n",
              "      <th>4<\/th>\n",
              "      <td>Pokemon Red\/Pokemon Blue<\/td>\n",
              "      <td>GB<\/td>\n",
              "      <td>1996.0<\/td>\n",
              "      <td>Role-Playing<\/td>\n",
              "      <td>Nintendo<\/td>\n",
              "      <td>11.27<\/td>\n",
              "      <td>8.89<\/td>\n",
              "      <td>10.22<\/td>\n",
              "      <td>1.00<\/td>\n",
              "      <td>31.37<\/td>\n",
              "      <td>NaN<\/td>\n",
              "      <td>NaN<\/td>\n",
              "      <td>NaN<\/td>\n",
              "      <td>NaN<\/td>\n",
              "      <td>NaN<\/td>\n",
              "      <td>NaN<\/td>\n",
              "    <\/tr>\n",
              "    <tr>\n",
              "      <th>...<\/th>\n",
              "      <td>...<\/td>\n",
              "      <td>...<\/td>\n",
              "      <td>...<\/td>\n",
              "      <td>...<\/td>\n",
              "      <td>...<\/td>\n",
              "      <td>...<\/td>\n",
              "      <td>...<\/td>\n",
              "      <td>...<\/td>\n",
              "      <td>...<\/td>\n",
              "      <td>...<\/td>\n",
              "      <td>...<\/td>\n",
              "      <td>...<\/td>\n",
              "      <td>...<\/td>\n",
              "      <td>...<\/td>\n",
              "      <td>...<\/td>\n",
              "      <td>...<\/td>\n",
              "    <\/tr>\n",
              "    <tr>\n",
              "      <th>16714<\/th>\n",
              "      <td>Samurai Warriors: Sanada Maru<\/td>\n",
              "      <td>PS3<\/td>\n",
              "      <td>2016.0<\/td>\n",
              "      <td>Action<\/td>\n",
              "      <td>Tecmo Koei<\/td>\n",
              "      <td>0.00<\/td>\n",
              "      <td>0.00<\/td>\n",
              "      <td>0.01<\/td>\n",
              "      <td>0.00<\/td>\n",
              "      <td>0.01<\/td>\n",
              "      <td>NaN<\/td>\n",
              "      <td>NaN<\/td>\n",
              "      <td>NaN<\/td>\n",
              "      <td>NaN<\/td>\n",
              "      <td>NaN<\/td>\n",
              "      <td>NaN<\/td>\n",
              "    <\/tr>\n",
              "    <tr>\n",
              "      <th>16715<\/th>\n",
              "      <td>LMA Manager 2007<\/td>\n",
              "      <td>X360<\/td>\n",
              "      <td>2006.0<\/td>\n",
              "      <td>Sports<\/td>\n",
              "      <td>Codemasters<\/td>\n",
              "      <td>0.00<\/td>\n",
              "      <td>0.01<\/td>\n",
              "      <td>0.00<\/td>\n",
              "      <td>0.00<\/td>\n",
              "      <td>0.01<\/td>\n",
              "      <td>NaN<\/td>\n",
              "      <td>NaN<\/td>\n",
              "      <td>NaN<\/td>\n",
              "      <td>NaN<\/td>\n",
              "      <td>NaN<\/td>\n",
              "      <td>NaN<\/td>\n",
              "    <\/tr>\n",
              "    <tr>\n",
              "      <th>16716<\/th>\n",
              "      <td>Haitaka no Psychedelica<\/td>\n",
              "      <td>PSV<\/td>\n",
              "      <td>2016.0<\/td>\n",
              "      <td>Adventure<\/td>\n",
              "      <td>Idea Factory<\/td>\n",
              "      <td>0.00<\/td>\n",
              "      <td>0.00<\/td>\n",
              "      <td>0.01<\/td>\n",
              "      <td>0.00<\/td>\n",
              "      <td>0.01<\/td>\n",
              "      <td>NaN<\/td>\n",
              "      <td>NaN<\/td>\n",
              "      <td>NaN<\/td>\n",
              "      <td>NaN<\/td>\n",
              "      <td>NaN<\/td>\n",
              "      <td>NaN<\/td>\n",
              "    <\/tr>\n",
              "    <tr>\n",
              "      <th>16717<\/th>\n",
              "      <td>Spirits &amp; Spells<\/td>\n",
              "      <td>GBA<\/td>\n",
              "      <td>2003.0<\/td>\n",
              "      <td>Platform<\/td>\n",
              "      <td>Wanadoo<\/td>\n",
              "      <td>0.01<\/td>\n",
              "      <td>0.00<\/td>\n",
              "      <td>0.00<\/td>\n",
              "      <td>0.00<\/td>\n",
              "      <td>0.01<\/td>\n",
              "      <td>NaN<\/td>\n",
              "      <td>NaN<\/td>\n",
              "      <td>NaN<\/td>\n",
              "      <td>NaN<\/td>\n",
              "      <td>NaN<\/td>\n",
              "      <td>NaN<\/td>\n",
              "    <\/tr>\n",
              "    <tr>\n",
              "      <th>16718<\/th>\n",
              "      <td>Winning Post 8 2016<\/td>\n",
              "      <td>PSV<\/td>\n",
              "      <td>2016.0<\/td>\n",
              "      <td>Simulation<\/td>\n",
              "      <td>Tecmo Koei<\/td>\n",
              "      <td>0.00<\/td>\n",
              "      <td>0.00<\/td>\n",
              "      <td>0.01<\/td>\n",
              "      <td>0.00<\/td>\n",
              "      <td>0.01<\/td>\n",
              "      <td>NaN<\/td>\n",
              "      <td>NaN<\/td>\n",
              "      <td>NaN<\/td>\n",
              "      <td>NaN<\/td>\n",
              "      <td>NaN<\/td>\n",
              "      <td>NaN<\/td>\n",
              "    <\/tr>\n",
              "  <\/tbody>\n",
              "<\/table>\n",
              "<p>16719 rows × 16 columns<\/p>\n",
              "<\/div>"
            ]
          },
          "metadata":{
            
          },
          "output_type":"display_data"
        }
      ],
      "metadata":{
        
      }
    },
    {
      "cell_type":"markdown",
      "source":[
        "## Descriptive statistics"
      ],
      "attachments":{
        
      },
      "metadata":{
        
      }
    },
    {
      "cell_type":"code",
      "source":[
        "vgs_df.describe(include=\"all\")"
      ],
      "execution_count":10,
      "outputs":[
        {
          "data":{
            "text\/html":[
              "<div>\n",
              "<style scoped>\n",
              "    .dataframe tbody tr th:only-of-type {\n",
              "        vertical-align: middle;\n",
              "    }\n",
              "\n",
              "    .dataframe tbody tr th {\n",
              "        vertical-align: top;\n",
              "    }\n",
              "\n",
              "    .dataframe thead th {\n",
              "        text-align: right;\n",
              "    }\n",
              "<\/style>\n",
              "<table border=\"1\" class=\"dataframe\">\n",
              "  <thead>\n",
              "    <tr style=\"text-align: right;\">\n",
              "      <th><\/th>\n",
              "      <th>Name<\/th>\n",
              "      <th>Platform<\/th>\n",
              "      <th>Year_of_Release<\/th>\n",
              "      <th>Genre<\/th>\n",
              "      <th>Publisher<\/th>\n",
              "      <th>NA_Sales<\/th>\n",
              "      <th>EU_Sales<\/th>\n",
              "      <th>JP_Sales<\/th>\n",
              "      <th>Other_Sales<\/th>\n",
              "      <th>Global_Sales<\/th>\n",
              "      <th>Critic_Score<\/th>\n",
              "      <th>Critic_Count<\/th>\n",
              "      <th>User_Score<\/th>\n",
              "      <th>User_Count<\/th>\n",
              "      <th>Developer<\/th>\n",
              "      <th>Rating<\/th>\n",
              "    <\/tr>\n",
              "  <\/thead>\n",
              "  <tbody>\n",
              "    <tr>\n",
              "      <th>count<\/th>\n",
              "      <td>16717<\/td>\n",
              "      <td>16719<\/td>\n",
              "      <td>16450.000000<\/td>\n",
              "      <td>16717<\/td>\n",
              "      <td>16665<\/td>\n",
              "      <td>16719.000000<\/td>\n",
              "      <td>16719.000000<\/td>\n",
              "      <td>16719.000000<\/td>\n",
              "      <td>16719.000000<\/td>\n",
              "      <td>16719.000000<\/td>\n",
              "      <td>8137.000000<\/td>\n",
              "      <td>8137.000000<\/td>\n",
              "      <td>7590.000000<\/td>\n",
              "      <td>7590.000000<\/td>\n",
              "      <td>10096<\/td>\n",
              "      <td>9950<\/td>\n",
              "    <\/tr>\n",
              "    <tr>\n",
              "      <th>unique<\/th>\n",
              "      <td>11562<\/td>\n",
              "      <td>31<\/td>\n",
              "      <td>NaN<\/td>\n",
              "      <td>12<\/td>\n",
              "      <td>582<\/td>\n",
              "      <td>NaN<\/td>\n",
              "      <td>NaN<\/td>\n",
              "      <td>NaN<\/td>\n",
              "      <td>NaN<\/td>\n",
              "      <td>NaN<\/td>\n",
              "      <td>NaN<\/td>\n",
              "      <td>NaN<\/td>\n",
              "      <td>NaN<\/td>\n",
              "      <td>NaN<\/td>\n",
              "      <td>1696<\/td>\n",
              "      <td>8<\/td>\n",
              "    <\/tr>\n",
              "    <tr>\n",
              "      <th>top<\/th>\n",
              "      <td>Need for Speed: Most Wanted<\/td>\n",
              "      <td>PS2<\/td>\n",
              "      <td>NaN<\/td>\n",
              "      <td>Action<\/td>\n",
              "      <td>Electronic Arts<\/td>\n",
              "      <td>NaN<\/td>\n",
              "      <td>NaN<\/td>\n",
              "      <td>NaN<\/td>\n",
              "      <td>NaN<\/td>\n",
              "      <td>NaN<\/td>\n",
              "      <td>NaN<\/td>\n",
              "      <td>NaN<\/td>\n",
              "      <td>NaN<\/td>\n",
              "      <td>NaN<\/td>\n",
              "      <td>Ubisoft<\/td>\n",
              "      <td>E<\/td>\n",
              "    <\/tr>\n",
              "    <tr>\n",
              "      <th>freq<\/th>\n",
              "      <td>12<\/td>\n",
              "      <td>2161<\/td>\n",
              "      <td>NaN<\/td>\n",
              "      <td>3370<\/td>\n",
              "      <td>1356<\/td>\n",
              "      <td>NaN<\/td>\n",
              "      <td>NaN<\/td>\n",
              "      <td>NaN<\/td>\n",
              "      <td>NaN<\/td>\n",
              "      <td>NaN<\/td>\n",
              "      <td>NaN<\/td>\n",
              "      <td>NaN<\/td>\n",
              "      <td>NaN<\/td>\n",
              "      <td>NaN<\/td>\n",
              "      <td>204<\/td>\n",
              "      <td>3991<\/td>\n",
              "    <\/tr>\n",
              "    <tr>\n",
              "      <th>mean<\/th>\n",
              "      <td>NaN<\/td>\n",
              "      <td>NaN<\/td>\n",
              "      <td>2006.487356<\/td>\n",
              "      <td>NaN<\/td>\n",
              "      <td>NaN<\/td>\n",
              "      <td>0.263330<\/td>\n",
              "      <td>0.145025<\/td>\n",
              "      <td>0.077602<\/td>\n",
              "      <td>0.047332<\/td>\n",
              "      <td>0.533543<\/td>\n",
              "      <td>68.967679<\/td>\n",
              "      <td>26.360821<\/td>\n",
              "      <td>7.125046<\/td>\n",
              "      <td>162.229908<\/td>\n",
              "      <td>NaN<\/td>\n",
              "      <td>NaN<\/td>\n",
              "    <\/tr>\n",
              "    <tr>\n",
              "      <th>std<\/th>\n",
              "      <td>NaN<\/td>\n",
              "      <td>NaN<\/td>\n",
              "      <td>5.878995<\/td>\n",
              "      <td>NaN<\/td>\n",
              "      <td>NaN<\/td>\n",
              "      <td>0.813514<\/td>\n",
              "      <td>0.503283<\/td>\n",
              "      <td>0.308818<\/td>\n",
              "      <td>0.186710<\/td>\n",
              "      <td>1.547935<\/td>\n",
              "      <td>13.938165<\/td>\n",
              "      <td>18.980495<\/td>\n",
              "      <td>1.500006<\/td>\n",
              "      <td>561.282326<\/td>\n",
              "      <td>NaN<\/td>\n",
              "      <td>NaN<\/td>\n",
              "    <\/tr>\n",
              "    <tr>\n",
              "      <th>min<\/th>\n",
              "      <td>NaN<\/td>\n",
              "      <td>NaN<\/td>\n",
              "      <td>1980.000000<\/td>\n",
              "      <td>NaN<\/td>\n",
              "      <td>NaN<\/td>\n",
              "      <td>0.000000<\/td>\n",
              "      <td>0.000000<\/td>\n",
              "      <td>0.000000<\/td>\n",
              "      <td>0.000000<\/td>\n",
              "      <td>0.010000<\/td>\n",
              "      <td>13.000000<\/td>\n",
              "      <td>3.000000<\/td>\n",
              "      <td>0.000000<\/td>\n",
              "      <td>4.000000<\/td>\n",
              "      <td>NaN<\/td>\n",
              "      <td>NaN<\/td>\n",
              "    <\/tr>\n",
              "    <tr>\n",
              "      <th>25%<\/th>\n",
              "      <td>NaN<\/td>\n",
              "      <td>NaN<\/td>\n",
              "      <td>2003.000000<\/td>\n",
              "      <td>NaN<\/td>\n",
              "      <td>NaN<\/td>\n",
              "      <td>0.000000<\/td>\n",
              "      <td>0.000000<\/td>\n",
              "      <td>0.000000<\/td>\n",
              "      <td>0.000000<\/td>\n",
              "      <td>0.060000<\/td>\n",
              "      <td>60.000000<\/td>\n",
              "      <td>12.000000<\/td>\n",
              "      <td>6.400000<\/td>\n",
              "      <td>10.000000<\/td>\n",
              "      <td>NaN<\/td>\n",
              "      <td>NaN<\/td>\n",
              "    <\/tr>\n",
              "    <tr>\n",
              "      <th>50%<\/th>\n",
              "      <td>NaN<\/td>\n",
              "      <td>NaN<\/td>\n",
              "      <td>2007.000000<\/td>\n",
              "      <td>NaN<\/td>\n",
              "      <td>NaN<\/td>\n",
              "      <td>0.080000<\/td>\n",
              "      <td>0.020000<\/td>\n",
              "      <td>0.000000<\/td>\n",
              "      <td>0.010000<\/td>\n",
              "      <td>0.170000<\/td>\n",
              "      <td>71.000000<\/td>\n",
              "      <td>21.000000<\/td>\n",
              "      <td>7.500000<\/td>\n",
              "      <td>24.000000<\/td>\n",
              "      <td>NaN<\/td>\n",
              "      <td>NaN<\/td>\n",
              "    <\/tr>\n",
              "    <tr>\n",
              "      <th>75%<\/th>\n",
              "      <td>NaN<\/td>\n",
              "      <td>NaN<\/td>\n",
              "      <td>2010.000000<\/td>\n",
              "      <td>NaN<\/td>\n",
              "      <td>NaN<\/td>\n",
              "      <td>0.240000<\/td>\n",
              "      <td>0.110000<\/td>\n",
              "      <td>0.040000<\/td>\n",
              "      <td>0.030000<\/td>\n",
              "      <td>0.470000<\/td>\n",
              "      <td>79.000000<\/td>\n",
              "      <td>36.000000<\/td>\n",
              "      <td>8.200000<\/td>\n",
              "      <td>81.000000<\/td>\n",
              "      <td>NaN<\/td>\n",
              "      <td>NaN<\/td>\n",
              "    <\/tr>\n",
              "    <tr>\n",
              "      <th>max<\/th>\n",
              "      <td>NaN<\/td>\n",
              "      <td>NaN<\/td>\n",
              "      <td>2020.000000<\/td>\n",
              "      <td>NaN<\/td>\n",
              "      <td>NaN<\/td>\n",
              "      <td>41.360000<\/td>\n",
              "      <td>28.960000<\/td>\n",
              "      <td>10.220000<\/td>\n",
              "      <td>10.570000<\/td>\n",
              "      <td>82.530000<\/td>\n",
              "      <td>98.000000<\/td>\n",
              "      <td>113.000000<\/td>\n",
              "      <td>9.700000<\/td>\n",
              "      <td>10665.000000<\/td>\n",
              "      <td>NaN<\/td>\n",
              "      <td>NaN<\/td>\n",
              "    <\/tr>\n",
              "  <\/tbody>\n",
              "<\/table>\n",
              "<\/div>"
            ]
          },
          "metadata":{
            
          },
          "output_type":"display_data"
        }
      ],
      "metadata":{
        
      }
    },
    {
      "cell_type":"markdown",
      "source":[
        "## Genre"
      ],
      "attachments":{
        
      },
      "metadata":{
        
      }
    },
    {
      "cell_type":"code",
      "source":[
        "fig = px.pie(vgs_df.dropna(subset=['Genre']), names='Genre')\n",
        "fig.update_layout(legend_title_text='Genre')\n",
        "fig.show()"
      ],
      "execution_count":11,
      "outputs":[
        {
          "data":{
            "text\/plain":[
              "Unsupported"
            ]
          },
          "metadata":{
            
          },
          "output_type":"display_data"
        }
      ],
      "metadata":{
        
      }
    },
    {
      "cell_type":"markdown",
      "source":[
        "## Platform"
      ],
      "attachments":{
        
      },
      "metadata":{
        
      }
    },
    {
      "cell_type":"code",
      "source":[
        "platform = vgs_df['Platform'].value_counts(dropna=True).reset_index()\n",
        "platform.rename(columns={'Platform': 'Count', 'index': 'Platform'}, inplace=True)\n",
        "platform.loc[platform.index >= 12, 'Platform'] = 'Others'\n",
        "\n",
        "fig = px.pie(platform, names='Platform', values='Count')\n",
        "fig.update_layout(legend_title_text='Platform')\n",
        "fig.show()"
      ],
      "execution_count":12,
      "outputs":[
        {
          "data":{
            "text\/plain":[
              "Unsupported"
            ]
          },
          "metadata":{
            
          },
          "output_type":"display_data"
        }
      ],
      "metadata":{
        
      }
    },
    {
      "cell_type":"markdown",
      "source":[
        "## Top 10 publishers"
      ],
      "attachments":{
        
      },
      "metadata":{
        
      }
    },
    {
      "cell_type":"code",
      "source":[
        "publisher = vgs_df['Publisher'].value_counts(dropna=True).reset_index()\n",
        "publisher.rename(columns={'Publisher': 'Count', 'index': 'Publisher'}, inplace=True)\n",
        "publisher = publisher[:10]\n",
        "\n",
        "fig = px.bar(publisher, x='Publisher', y='Count')\n",
        "fig.show()"
      ],
      "execution_count":13,
      "outputs":[
        {
          "data":{
            "text\/plain":[
              "Unsupported"
            ]
          },
          "metadata":{
            
          },
          "output_type":"display_data"
        }
      ],
      "metadata":{
        
      }
    },
    {
      "cell_type":"markdown",
      "source":[
        "## Top 10 developers"
      ],
      "attachments":{
        
      },
      "metadata":{
        
      }
    },
    {
      "cell_type":"code",
      "source":[
        "developer = vgs_df['Developer'].value_counts(dropna=True).reset_index()\n",
        "developer.rename(columns={'Developer': 'Count', 'index': 'Developer'}, inplace=True)\n",
        "developer = developer[:10]\n",
        "\n",
        "fig = px.bar(developer, x='Developer', y='Count')\n",
        "fig.show()"
      ],
      "execution_count":14,
      "outputs":[
        {
          "data":{
            "text\/plain":[
              "Unsupported"
            ]
          },
          "metadata":{
            
          },
          "output_type":"display_data"
        }
      ],
      "metadata":{
        
      }
    },
    {
      "cell_type":"markdown",
      "source":[
        "## Sales (Line chart)"
      ],
      "attachments":{
        
      },
      "metadata":{
        
      }
    },
    {
      "cell_type":"code",
      "source":[
        "\n",
        "sales = vgs_df.groupby('Year_of_Release').sum()[['NA_Sales', 'EU_Sales', 'JP_Sales', 'Other_Sales', 'Global_Sales']]\n",
        "sales = sales[sales.index < 2016]\n",
        "sales.reset_index(inplace=True)\n",
        "\n",
        "fig = go.Figure()\n",
        "\n",
        "fig.add_scatter(x=sales['Year_of_Release'], y=sales['NA_Sales'], name='North America')\n",
        "fig.add_scatter(x=sales['Year_of_Release'], y=sales['EU_Sales'], name='Europe')\n",
        "fig.add_scatter(x=sales['Year_of_Release'], y=sales['JP_Sales'], name='Japan')\n",
        "fig.add_scatter(x=sales['Year_of_Release'], y=sales['Other_Sales'], name='Other')\n",
        "fig.add_scatter(x=sales['Year_of_Release'], y=sales['Global_Sales'], name='Global')\n",
        "\n",
        "fig.update_layout(xaxis_title='Year', yaxis_title='Sales ($M)', legend_title_text='Country')\n",
        "\n",
        "fig"
      ],
      "execution_count":15,
      "outputs":[
        {
          "data":{
            "text\/plain":[
              "Unsupported"
            ]
          },
          "metadata":{
            
          },
          "output_type":"display_data"
        }
      ],
      "metadata":{
        
      }
    },
    {
      "cell_type":"markdown",
      "source":[
        "## User count"
      ],
      "attachments":{
        
      },
      "metadata":{
        
      }
    },
    {
      "cell_type":"code",
      "source":[
        "users = vgs_df.groupby('Year_of_Release').sum()['User_Count'] * 1000\n",
        "users = users[users.index < 2016]\n",
        "fig = px.line(users)\n",
        "fig.update_layout(xaxis_title='Year', yaxis_title='User count', showlegend=False)"
      ],
      "execution_count":16,
      "outputs":[
        {
          "data":{
            "text\/plain":[
              "Unsupported"
            ]
          },
          "metadata":{
            
          },
          "output_type":"display_data"
        }
      ],
      "metadata":{
        
      }
    },
    {
      "cell_type":"markdown",
      "source":[
        "## Median critic score"
      ],
      "attachments":{
        
      },
      "metadata":{
        
      }
    },
    {
      "cell_type":"code",
      "source":[
        "score = vgs_df.groupby('Year_of_Release').median()['Critic_Score'].dropna()\n",
        "\n",
        "fig = px.line(score)\n",
        "fig.update_layout(xaxis_title='Year', yaxis_title='Median critic Score', showlegend=False)\n",
        "fig"
      ],
      "execution_count":17,
      "outputs":[
        {
          "data":{
            "text\/plain":[
              "Unsupported"
            ]
          },
          "metadata":{
            
          },
          "output_type":"display_data"
        }
      ],
      "metadata":{
        
      }
    }
  ],
  "metadata":{
    
  },
  "nbformat":4,
  "nbformat_minor":0
}